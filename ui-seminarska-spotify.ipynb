{
 "cells": [
  {
   "cell_type": "code",
   "execution_count": 1,
   "metadata": {},
   "outputs": [],
   "source": [
    "import networkx as nx\n",
    "import timeit\n",
    "import json\n",
    "import random\n",
    "import pickle"
   ]
  },
  {
   "cell_type": "code",
   "execution_count": 2,
   "metadata": {},
   "outputs": [],
   "source": [
    "random.seed(0)"
   ]
  },
  {
   "cell_type": "code",
   "execution_count": 3,
   "metadata": {},
   "outputs": [
    {
     "name": "stdout",
     "output_type": "stream",
     "text": [
      "999/999; n:4290426, m:68512319; time elapsed: 53.0 min 45.5 sec\n",
      "n:4290426, m:68512319\n",
      "Time elapsed (minutes): 53.85183885166577\n"
     ]
    }
   ],
   "source": [
    "start = timeit.default_timer()\n",
    "\n",
    "# todo? add different weights to connections between song and artist/album/playlist in the graph??\n",
    "G = nx.Graph()\n",
    "num_files = 999 # 999 == all files\n",
    "trim_start=len(\"spotify:\")\n",
    "for i in range(num_files):\n",
    "    lb = i*1000\n",
    "    ub = lb+999\n",
    "    #print(f\"mpd.slice.{lb}-{ub}.json\")\n",
    "    filename = f\"spotify_million_playlist_dataset/data/mpd.slice.{lb}-{ub}.json\"\n",
    "    with open(filename) as read_file:\n",
    "        tmp = json.load(read_file)\n",
    "        for playlist in tmp[\"playlists\"]:\n",
    "\n",
    "            G.add_node(playlist[\"pid\"], playlist_name=playlist[\"name\"])#, num_tracks=playlist[\"num_tracks\"], num_albums=playlist[\"num_albums\"])#, collaborative=playlist[\"collaborative\"], modified_at=playlist[\"modified_at\"])\n",
    "            for track in playlist[\"tracks\"]:\n",
    "                track_id = track[\"track_uri\"][trim_start:]\n",
    "                artist_id = track[\"artist_uri\"][trim_start:]\n",
    "                album_id = track[\"album_uri\"][trim_start:]\n",
    "                G.add_node(track_id, track_name=track[\"track_name\"], artist_name=track[\"artist_name\"])#, album_name=track[\"album_name\"])#, duration=track[\"duration_ms\"])\n",
    "                G.add_node(artist_id, artist_name=track[\"artist_name\"])\n",
    "                G.add_node(album_id, album_name=track[\"album_name\"])\n",
    "                # G.add_edge(track_id, artist_id) # dont need since songs are connected to artists via albums\n",
    "                G.add_edge(track_id, album_id)\n",
    "                G.add_edge(album_id, artist_id)\n",
    "                G.add_edge(track_id, playlist[\"pid\"])\n",
    "    time_elapsed = timeit.default_timer() - start\n",
    "    mins_elapsed = (time_elapsed)//60\n",
    "    secs_elapsed = time_elapsed % 60\n",
    "    print(f\"{i+1}/{num_files}; n:{G.number_of_nodes()}, m:{G.number_of_edges()}; time elapsed: {mins_elapsed:02} min {secs_elapsed:02.1f} sec\", end=\"\\r\")\n",
    "print()\n",
    "print(f\"n:{G.number_of_nodes()}, m:{G.number_of_edges()}\")\n",
    "    \n",
    "stop = timeit.default_timer()\n",
    "print('Time elapsed (minutes):', (stop - start)/60)  "
   ]
  },
  {
   "cell_type": "code",
   "execution_count": 5,
   "metadata": {},
   "outputs": [],
   "source": [
    "# save the read graph into a pickle file to read it in faster next time\n",
    "pickle.dump(G, open(\"./spotify_million_playlist_dataset/data/graphrep/spotify.pickle\", 'wb'))"
   ]
  },
  {
   "cell_type": "code",
   "execution_count": 6,
   "metadata": {},
   "outputs": [
    {
     "data": {
      "text/plain": [
       "'1.315990363858211 % nodes, 1.0125545419367021 % links'"
      ]
     },
     "execution_count": 6,
     "metadata": {},
     "output_type": "execute_result"
    }
   ],
   "source": [
    "n100=3260226 # num nodes in full data\n",
    "m100=67662843 # num edges in full data\n",
    "f\"{G.number_of_nodes()/n100} % nodes, {G.number_of_edges()/m100} % links\""
   ]
  },
  {
   "cell_type": "code",
   "execution_count": 6,
   "metadata": {},
   "outputs": [],
   "source": [
    "personalization_dict = { # both in this example from playlist 0\n",
    "    'track:6I9VzXrHxO9rA9A5euc8Ak':6, #toxic britney spears\n",
    "    'track:0UaMYEvWZi0ZqiDOoHU3YI':1 #lose control missy elliott\n",
    "}"
   ]
  },
  {
   "cell_type": "code",
   "execution_count": 7,
   "metadata": {},
   "outputs": [
    {
     "name": "stdout",
     "output_type": "stream",
     "text": [
      "Time elapsed (minutes): 77.11673877166662\n"
     ]
    }
   ],
   "source": [
    "start = timeit.default_timer()\n",
    "results = nx.pagerank(G, personalization=personalization_dict)\n",
    "stop = timeit.default_timer()\n",
    "print('Time elapsed (minutes):', (stop - start)/60)  "
   ]
  },
  {
   "cell_type": "code",
   "execution_count": 8,
   "metadata": {},
   "outputs": [],
   "source": [
    "rec_songs = filter(lambda x: str.startswith(str(x[0]), \"track:\"), results.items())\n",
    "reccs = sorted(rec_songs, key=lambda x: x[1], reverse=True)[:25]"
   ]
  },
  {
   "cell_type": "code",
   "execution_count": 9,
   "metadata": {},
   "outputs": [
    {
     "name": "stdout",
     "output_type": "stream",
     "text": [
      "('track:6I9VzXrHxO9rA9A5euc8Ak', 0.12862125190395463) {'track_name': 'Toxic', 'artist_name': 'Britney Spears'}\n",
      "('track:0UaMYEvWZi0ZqiDOoHU3YI', 0.02145303126342739) {'track_name': 'Lose Control (feat. Ciara & Fat Man Scoop)', 'artist_name': 'Missy Elliott'}\n",
      "('track:7KXjTSCq5nL1LoYtL7XAwS', 0.00020681104969854356) {'track_name': 'HUMBLE.', 'artist_name': 'Kendrick Lamar'}\n",
      "('track:1xznGGDReH1oQq0xzbwXa3', 0.0001879775427511055) {'track_name': 'One Dance', 'artist_name': 'Drake'}\n",
      "('track:7BKLCZ1jbUBVqRi2FVlTVw', 0.00018789789105930901) {'track_name': 'Closer', 'artist_name': 'The Chainsmokers'}\n",
      "('track:7yyRTcZmCiyzzJlNzGC9Ol', 0.00018401327432690954) {'track_name': 'Broccoli (feat. Lil Yachty)', 'artist_name': 'DRAM'}\n",
      "('track:3a1lNhkSLSkpJE4MSHpDu9', 0.00017952633261077231) {'track_name': 'Congratulations', 'artist_name': 'Post Malone'}\n",
      "('track:152lZdxL1OR0ZMW6KquMif', 0.00016694119133353453) {'track_name': 'Location', 'artist_name': 'Khalid'}\n",
      "('track:2EEeOnHehOozLq4aS0n6SL', 0.00015882434323298103) {'track_name': 'iSpy (feat. Lil Yachty)', 'artist_name': 'KYLE'}\n",
      "('track:7GX5flRQZVHRAGd6B4TmDO', 0.00015525039840176945) {'track_name': 'XO TOUR Llif3', 'artist_name': 'Lil Uzi Vert'}\n",
      "('track:5hTpBe8h35rJ67eAWHQsJx', 0.00015356921648389135) {'track_name': 'Caroline', 'artist_name': 'Aminé'}\n",
      "('track:5CtI0qwDJkDQGwXD1H1cLb', 0.0001503228223115363) {'track_name': 'Despacito - Remix', 'artist_name': 'Luis Fonsi'}\n",
      "('track:4Km5HrUvYTaSUfiSGPJeQR', 0.0001447041601035967) {'track_name': 'Bad and Boujee (feat. Lil Uzi Vert)', 'artist_name': 'Migos'}\n",
      "('track:0SGkqnVQo9KPytSri1H6cF', 0.00014285555433110844) {'track_name': 'Bounce Back', 'artist_name': 'Big Sean'}\n",
      "('track:0VgkVdmE4gld66l8iyGjgx', 0.00013813941224390735) {'track_name': 'Mask Off', 'artist_name': 'Future'}\n",
      "('track:7qiZfU4dY1lWllzX7mPBI3', 0.00013710558481163835) {'track_name': 'Shape of You', 'artist_name': 'Ed Sheeran'}\n",
      "('track:3kxfsdsCpFgN412fpnW85Y', 0.00013618524129746957) {'track_name': 'Redbone', 'artist_name': 'Childish Gambino'}\n",
      "('track:3DXncPQOG4VBw3QHh3S817', 0.00013603262752688827) {'track_name': \"I'm the One\", 'artist_name': 'DJ Khaled'}\n",
      "('track:0QsvXIfqM0zZoerQfsI9lm', 0.0001349347346248743) {'track_name': \"Don't Let Me Down\", 'artist_name': 'The Chainsmokers'}\n",
      "('track:6O6M7pJLABmfBRoGZMu76Y', 0.00013100498099685398) {'track_name': 'Roses', 'artist_name': 'The Chainsmokers'}\n",
      "('track:6gBFPUFcJLzWGx4lenP6h2', 0.00013044973274762214) {'track_name': 'goosebumps', 'artist_name': 'Travis Scott'}\n",
      "('track:27GmP9AWRs744SzKcpJsTZ', 0.00012931739519235575) {'track_name': 'Jumpman', 'artist_name': 'Drake'}\n",
      "('track:62vpWI1CHwFy7tMIcSStl8', 0.00012913782052091115) {'track_name': 'No Role Modelz', 'artist_name': 'J. Cole'}\n",
      "('track:7wGoVu4Dady5GV0Sv4UIsx', 0.0001290794844791254) {'track_name': 'rockstar', 'artist_name': 'Post Malone'}\n",
      "('track:343YBumqHu19cGoGARUTsd', 0.00012783971672835977) {'track_name': 'Fake Love', 'artist_name': 'Drake'}\n"
     ]
    }
   ],
   "source": [
    "for i in range(len(reccs)):\n",
    "    print(reccs[i], G.nodes[reccs[i][0]])"
   ]
  },
  {
   "cell_type": "code",
   "execution_count": 10,
   "metadata": {},
   "outputs": [
    {
     "data": {
      "text/plain": [
       "{'track_name': 'HUMBLE.', 'artist_name': 'Kendrick Lamar'}"
      ]
     },
     "execution_count": 10,
     "metadata": {},
     "output_type": "execute_result"
    }
   ],
   "source": [
    "G.nodes[reccs[2][0]]"
   ]
  },
  {
   "cell_type": "code",
   "execution_count": null,
   "metadata": {},
   "outputs": [],
   "source": []
  }
 ],
 "metadata": {
  "kernelspec": {
   "display_name": "Python 3",
   "language": "python",
   "name": "python3"
  },
  "language_info": {
   "codemirror_mode": {
    "name": "ipython",
    "version": 3
   },
   "file_extension": ".py",
   "mimetype": "text/x-python",
   "name": "python",
   "nbconvert_exporter": "python",
   "pygments_lexer": "ipython3",
   "version": "3.10.6"
  },
  "orig_nbformat": 4
 },
 "nbformat": 4,
 "nbformat_minor": 2
}
