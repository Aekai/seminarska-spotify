{
 "cells": [
  {
   "cell_type": "code",
   "execution_count": 23,
   "metadata": {},
   "outputs": [],
   "source": [
    "import networkx as nx\n",
    "import timeit\n",
    "import json\n",
    "import random"
   ]
  },
  {
   "cell_type": "code",
   "execution_count": 24,
   "metadata": {},
   "outputs": [],
   "source": [
    "random.seed(0)"
   ]
  },
  {
   "cell_type": "code",
   "execution_count": 25,
   "metadata": {},
   "outputs": [
    {
     "name": "stdout",
     "output_type": "stream",
     "text": [
      "n:3260226, m:67662843:67662843; time elapsed: 35.0 min 2099.9 sec\n",
      "Time elapsed (minutes): 35.65046832666667\n"
     ]
    }
   ],
   "source": [
    "start = timeit.default_timer()\n",
    "\n",
    "# todo? add different weights to connections between song and artist/album/playlist in the graph??\n",
    "G = nx.Graph()\n",
    "num_files = 999 # 999 == all files\n",
    "trim_start=len(\"spotify:\")\n",
    "for i in range(num_files):\n",
    "    lb = i*1000\n",
    "    ub = lb+999\n",
    "    #print(f\"mpd.slice.{lb}-{ub}.json\")\n",
    "    filename = f\"spotify_million_playlist_dataset/data/mpd.slice.{lb}-{ub}.json\"\n",
    "    with open(filename) as read_file:\n",
    "        tmp = json.load(read_file)\n",
    "        for playlist in tmp[\"playlists\"]:\n",
    "\n",
    "            G.add_node(playlist[\"pid\"], playlist_name=playlist[\"name\"])#, num_tracks=playlist[\"num_tracks\"], num_albums=playlist[\"num_albums\"])#, collaborative=playlist[\"collaborative\"], modified_at=playlist[\"modified_at\"])\n",
    "            for track in playlist[\"tracks\"]:\n",
    "                track_id = track[\"track_uri\"][trim_start:]\n",
    "                artist_id = track[\"artist_uri\"][trim_start]\n",
    "                album_id = track[\"album_uri\"][trim_start]\n",
    "                G.add_node(track_id, track_name=track[\"track_name\"], artist_name=track[\"artist_name\"])#, album_name=track[\"album_name\"])#, duration=track[\"duration_ms\"])\n",
    "                G.add_node(artist_id, artist_name=track[\"artist_name\"])\n",
    "                G.add_node(album_id, album_name=track[\"album_name\"])\n",
    "                G.add_edge(track_id, artist_id)\n",
    "                G.add_edge(track_id, album_id)\n",
    "                G.add_edge(album_id, artist_id)\n",
    "                G.add_edge(track_id, playlist[\"pid\"])\n",
    "    time_elapsed = timeit.default_timer() - start\n",
    "    mins_elapsed = (time_elapsed)//60\n",
    "    secs_elapsed = time_elapsed % 60\n",
    "    print(f\"{i+1}/{num_files}; n:{G.number_of_nodes()}, m:{G.number_of_edges()}; time elapsed: {mins_elapsed:02} min {secs_elapsed:02.1f} sec\", end=\"\\r\")\n",
    "print()\n",
    "print(f\"n:{G.number_of_nodes()}, m:{G.number_of_edges()}\")\n",
    "    \n",
    "stop = timeit.default_timer()\n",
    "print('Time elapsed (minutes):', (stop - start)/60)  "
   ]
  },
  {
   "cell_type": "code",
   "execution_count": 26,
   "metadata": {},
   "outputs": [],
   "source": [
    "personalization_dict = { # both in this example from playlist 0\n",
    "    'spotify:track:6I9VzXrHxO9rA9A5euc8Ak':0.1, #toxic britney spears\n",
    "    'spotify:track:0UaMYEvWZi0ZqiDOoHU3YI':0.1 #lose control missy elliott\n",
    "}"
   ]
  },
  {
   "cell_type": "code",
   "execution_count": 27,
   "metadata": {},
   "outputs": [
    {
     "ename": "ZeroDivisionError",
     "evalue": "",
     "output_type": "error",
     "traceback": [
      "\u001b[1;31m---------------------------------------------------------------------------\u001b[0m",
      "\u001b[1;31mZeroDivisionError\u001b[0m                         Traceback (most recent call last)",
      "Cell \u001b[1;32mIn[27], line 2\u001b[0m\n\u001b[0;32m      1\u001b[0m start \u001b[39m=\u001b[39m timeit\u001b[39m.\u001b[39mdefault_timer()\n\u001b[1;32m----> 2\u001b[0m results \u001b[39m=\u001b[39m nx\u001b[39m.\u001b[39;49mpagerank(G, personalization\u001b[39m=\u001b[39;49mpersonalization_dict)\n\u001b[0;32m      3\u001b[0m stop \u001b[39m=\u001b[39m timeit\u001b[39m.\u001b[39mdefault_timer()\n\u001b[0;32m      4\u001b[0m \u001b[39mprint\u001b[39m(\u001b[39m'\u001b[39m\u001b[39mTime elapsed (minutes):\u001b[39m\u001b[39m'\u001b[39m, (stop \u001b[39m-\u001b[39m start)\u001b[39m/\u001b[39m\u001b[39m60\u001b[39m)  \n",
      "File \u001b[1;32mc:\\Users\\anzek\\AppData\\Local\\Programs\\Python\\Python310\\lib\\site-packages\\networkx\\classes\\backends.py:148\u001b[0m, in \u001b[0;36m_dispatch.<locals>.wrapper\u001b[1;34m(*args, **kwds)\u001b[0m\n\u001b[0;32m    144\u001b[0m         \u001b[39melse\u001b[39;00m:\n\u001b[0;32m    145\u001b[0m             \u001b[39mraise\u001b[39;00m NetworkXNotImplemented(\n\u001b[0;32m    146\u001b[0m                 \u001b[39mf\u001b[39m\u001b[39m\"\u001b[39m\u001b[39m'\u001b[39m\u001b[39m{\u001b[39;00mname\u001b[39m}\u001b[39;00m\u001b[39m'\u001b[39m\u001b[39m not implemented by \u001b[39m\u001b[39m{\u001b[39;00mplugin_name\u001b[39m}\u001b[39;00m\u001b[39m\"\u001b[39m\n\u001b[0;32m    147\u001b[0m             )\n\u001b[1;32m--> 148\u001b[0m \u001b[39mreturn\u001b[39;00m func(\u001b[39m*\u001b[39margs, \u001b[39m*\u001b[39m\u001b[39m*\u001b[39mkwds)\n",
      "File \u001b[1;32mc:\\Users\\anzek\\AppData\\Local\\Programs\\Python\\Python310\\lib\\site-packages\\networkx\\algorithms\\link_analysis\\pagerank_alg.py:110\u001b[0m, in \u001b[0;36mpagerank\u001b[1;34m(G, alpha, personalization, max_iter, tol, nstart, weight, dangling)\u001b[0m\n\u001b[0;32m      9\u001b[0m \u001b[39m@nx\u001b[39m\u001b[39m.\u001b[39m_dispatch\n\u001b[0;32m     10\u001b[0m \u001b[39mdef\u001b[39;00m \u001b[39mpagerank\u001b[39m(\n\u001b[0;32m     11\u001b[0m     G,\n\u001b[1;32m   (...)\u001b[0m\n\u001b[0;32m     18\u001b[0m     dangling\u001b[39m=\u001b[39m\u001b[39mNone\u001b[39;00m,\n\u001b[0;32m     19\u001b[0m ):\n\u001b[0;32m     20\u001b[0m \u001b[39m    \u001b[39m\u001b[39m\"\"\"Returns the PageRank of the nodes in the graph.\u001b[39;00m\n\u001b[0;32m     21\u001b[0m \n\u001b[0;32m     22\u001b[0m \u001b[39m    PageRank computes a ranking of the nodes in the graph G based on\u001b[39;00m\n\u001b[1;32m   (...)\u001b[0m\n\u001b[0;32m    108\u001b[0m \n\u001b[0;32m    109\u001b[0m \u001b[39m    \"\"\"\u001b[39;00m\n\u001b[1;32m--> 110\u001b[0m     \u001b[39mreturn\u001b[39;00m _pagerank_scipy(\n\u001b[0;32m    111\u001b[0m         G, alpha, personalization, max_iter, tol, nstart, weight, dangling\n\u001b[0;32m    112\u001b[0m     )\n",
      "File \u001b[1;32mc:\\Users\\anzek\\AppData\\Local\\Programs\\Python\\Python310\\lib\\site-packages\\networkx\\algorithms\\link_analysis\\pagerank_alg.py:481\u001b[0m, in \u001b[0;36m_pagerank_scipy\u001b[1;34m(G, alpha, personalization, max_iter, tol, nstart, weight, dangling)\u001b[0m\n\u001b[0;32m    479\u001b[0m     p \u001b[39m=\u001b[39m np\u001b[39m.\u001b[39marray([personalization\u001b[39m.\u001b[39mget(n, \u001b[39m0\u001b[39m) \u001b[39mfor\u001b[39;00m n \u001b[39min\u001b[39;00m nodelist], dtype\u001b[39m=\u001b[39m\u001b[39mfloat\u001b[39m)\n\u001b[0;32m    480\u001b[0m     \u001b[39mif\u001b[39;00m p\u001b[39m.\u001b[39msum() \u001b[39m==\u001b[39m \u001b[39m0\u001b[39m:\n\u001b[1;32m--> 481\u001b[0m         \u001b[39mraise\u001b[39;00m \u001b[39mZeroDivisionError\u001b[39;00m\n\u001b[0;32m    482\u001b[0m     p \u001b[39m/\u001b[39m\u001b[39m=\u001b[39m p\u001b[39m.\u001b[39msum()\n\u001b[0;32m    483\u001b[0m \u001b[39m# Dangling nodes\u001b[39;00m\n",
      "\u001b[1;31mZeroDivisionError\u001b[0m: "
     ]
    }
   ],
   "source": [
    "start = timeit.default_timer()\n",
    "#results = nx.pagerank(G, personalization=personalization_dict) ## the whole graph is too big for this to work\n",
    "stop = timeit.default_timer()\n",
    "print('Time elapsed (minutes):', (stop - start)/60)  "
   ]
  },
  {
   "cell_type": "code",
   "execution_count": 28,
   "metadata": {},
   "outputs": [
    {
     "ename": "NameError",
     "evalue": "name 'results' is not defined",
     "output_type": "error",
     "traceback": [
      "\u001b[1;31m---------------------------------------------------------------------------\u001b[0m",
      "\u001b[1;31mNameError\u001b[0m                                 Traceback (most recent call last)",
      "Cell \u001b[1;32mIn[28], line 1\u001b[0m\n\u001b[1;32m----> 1\u001b[0m rec_songs \u001b[39m=\u001b[39m \u001b[39mfilter\u001b[39m(\u001b[39mlambda\u001b[39;00m x: \u001b[39mstr\u001b[39m\u001b[39m.\u001b[39mstartswith(\u001b[39mstr\u001b[39m(x[\u001b[39m0\u001b[39m]), \u001b[39m\"\u001b[39m\u001b[39mspotify:track:\u001b[39m\u001b[39m\"\u001b[39m), results\u001b[39m.\u001b[39mitems())\n\u001b[0;32m      2\u001b[0m reccs \u001b[39m=\u001b[39m \u001b[39msorted\u001b[39m(rec_songs, key\u001b[39m=\u001b[39m\u001b[39mlambda\u001b[39;00m x: x[\u001b[39m1\u001b[39m], reverse\u001b[39m=\u001b[39m\u001b[39mTrue\u001b[39;00m)[:\u001b[39m25\u001b[39m]\n",
      "\u001b[1;31mNameError\u001b[0m: name 'results' is not defined"
     ]
    }
   ],
   "source": [
    "rec_songs = filter(lambda x: str.startswith(str(x[0]), \"spotify:track:\"), results.items())\n",
    "reccs = sorted(rec_songs, key=lambda x: x[1], reverse=True)[:25]"
   ]
  },
  {
   "cell_type": "code",
   "execution_count": 29,
   "metadata": {},
   "outputs": [
    {
     "ename": "NameError",
     "evalue": "name 'reccs' is not defined",
     "output_type": "error",
     "traceback": [
      "\u001b[1;31m---------------------------------------------------------------------------\u001b[0m",
      "\u001b[1;31mNameError\u001b[0m                                 Traceback (most recent call last)",
      "Cell \u001b[1;32mIn[29], line 1\u001b[0m\n\u001b[1;32m----> 1\u001b[0m \u001b[39mfor\u001b[39;00m i \u001b[39min\u001b[39;00m \u001b[39mrange\u001b[39m(\u001b[39mlen\u001b[39m(reccs)):\n\u001b[0;32m      2\u001b[0m     \u001b[39mprint\u001b[39m(reccs[i], G\u001b[39m.\u001b[39mnodes[reccs[i][\u001b[39m0\u001b[39m]])\n",
      "\u001b[1;31mNameError\u001b[0m: name 'reccs' is not defined"
     ]
    }
   ],
   "source": [
    "for i in range(len(reccs)):\n",
    "    print(reccs[i], G.nodes[reccs[i][0]])"
   ]
  },
  {
   "cell_type": "code",
   "execution_count": 30,
   "metadata": {},
   "outputs": [
    {
     "ename": "NameError",
     "evalue": "name 'reccs' is not defined",
     "output_type": "error",
     "traceback": [
      "\u001b[1;31m---------------------------------------------------------------------------\u001b[0m",
      "\u001b[1;31mNameError\u001b[0m                                 Traceback (most recent call last)",
      "Cell \u001b[1;32mIn[30], line 1\u001b[0m\n\u001b[1;32m----> 1\u001b[0m G\u001b[39m.\u001b[39mnodes[reccs[\u001b[39m2\u001b[39m][\u001b[39m0\u001b[39m]]\n",
      "\u001b[1;31mNameError\u001b[0m: name 'reccs' is not defined"
     ]
    }
   ],
   "source": [
    "G.nodes[reccs[2][0]]"
   ]
  },
  {
   "cell_type": "code",
   "execution_count": 31,
   "metadata": {},
   "outputs": [
    {
     "ename": "KeyboardInterrupt",
     "evalue": "",
     "output_type": "error",
     "traceback": [
      "\u001b[1;31m---------------------------------------------------------------------------\u001b[0m",
      "\u001b[1;31mKeyboardInterrupt\u001b[0m                         Traceback (most recent call last)",
      "Cell \u001b[1;32mIn[31], line 1\u001b[0m\n\u001b[1;32m----> 1\u001b[0m nx\u001b[39m.\u001b[39;49mwrite_pajek(G, \u001b[39m\"\u001b[39;49m\u001b[39m./spotify_million_playlist_dataset/data/graphrep/spotify.gz\u001b[39;49m\u001b[39m\"\u001b[39;49m)\n",
      "File \u001b[1;32mc:\\Users\\anzek\\AppData\\Local\\Programs\\Python\\Python310\\lib\\site-packages\\networkx\\utils\\decorators.py:766\u001b[0m, in \u001b[0;36margmap.__call__.<locals>.func\u001b[1;34m(_argmap__wrapper, *args, **kwargs)\u001b[0m\n\u001b[0;32m    765\u001b[0m \u001b[39mdef\u001b[39;00m \u001b[39mfunc\u001b[39m(\u001b[39m*\u001b[39margs, __wrapper\u001b[39m=\u001b[39m\u001b[39mNone\u001b[39;00m, \u001b[39m*\u001b[39m\u001b[39m*\u001b[39mkwargs):\n\u001b[1;32m--> 766\u001b[0m     \u001b[39mreturn\u001b[39;00m argmap\u001b[39m.\u001b[39m_lazy_compile(__wrapper)(\u001b[39m*\u001b[39margs, \u001b[39m*\u001b[39m\u001b[39m*\u001b[39mkwargs)\n",
      "File \u001b[1;32m<class 'networkx.utils.decorators.argmap'> compilation 5:5\u001b[0m, in \u001b[0;36margmap_write_pajek_1\u001b[1;34m(G, path, encoding)\u001b[0m\n\u001b[0;32m      3\u001b[0m \u001b[39mimport\u001b[39;00m \u001b[39mgzip\u001b[39;00m\n\u001b[0;32m      4\u001b[0m \u001b[39mimport\u001b[39;00m \u001b[39minspect\u001b[39;00m\n\u001b[1;32m----> 5\u001b[0m \u001b[39mimport\u001b[39;00m \u001b[39mitertools\u001b[39;00m\n\u001b[0;32m      6\u001b[0m \u001b[39mimport\u001b[39;00m \u001b[39mre\u001b[39;00m\n\u001b[0;32m      7\u001b[0m \u001b[39mfrom\u001b[39;00m \u001b[39mcollections\u001b[39;00m \u001b[39mimport\u001b[39;00m defaultdict\n",
      "File \u001b[1;32mc:\\Users\\anzek\\AppData\\Local\\Programs\\Python\\Python310\\lib\\site-packages\\networkx\\readwrite\\pajek.py:129\u001b[0m, in \u001b[0;36mwrite_pajek\u001b[1;34m(G, path, encoding)\u001b[0m\n\u001b[0;32m    127\u001b[0m \u001b[39mfor\u001b[39;00m line \u001b[39min\u001b[39;00m generate_pajek(G):\n\u001b[0;32m    128\u001b[0m     line \u001b[39m+\u001b[39m\u001b[39m=\u001b[39m \u001b[39m\"\u001b[39m\u001b[39m\\n\u001b[39;00m\u001b[39m\"\u001b[39m\n\u001b[1;32m--> 129\u001b[0m     path\u001b[39m.\u001b[39;49mwrite(line\u001b[39m.\u001b[39;49mencode(encoding))\n",
      "File \u001b[1;32mc:\\Users\\anzek\\AppData\\Local\\Programs\\Python\\Python310\\lib\\gzip.py:289\u001b[0m, in \u001b[0;36mGzipFile.write\u001b[1;34m(self, data)\u001b[0m\n\u001b[0;32m    286\u001b[0m     length \u001b[39m=\u001b[39m data\u001b[39m.\u001b[39mnbytes\n\u001b[0;32m    288\u001b[0m \u001b[39mif\u001b[39;00m length \u001b[39m>\u001b[39m \u001b[39m0\u001b[39m:\n\u001b[1;32m--> 289\u001b[0m     \u001b[39mself\u001b[39m\u001b[39m.\u001b[39mfileobj\u001b[39m.\u001b[39mwrite(\u001b[39mself\u001b[39;49m\u001b[39m.\u001b[39;49mcompress\u001b[39m.\u001b[39;49mcompress(data))\n\u001b[0;32m    290\u001b[0m     \u001b[39mself\u001b[39m\u001b[39m.\u001b[39msize \u001b[39m+\u001b[39m\u001b[39m=\u001b[39m length\n\u001b[0;32m    291\u001b[0m     \u001b[39mself\u001b[39m\u001b[39m.\u001b[39mcrc \u001b[39m=\u001b[39m zlib\u001b[39m.\u001b[39mcrc32(data, \u001b[39mself\u001b[39m\u001b[39m.\u001b[39mcrc)\n",
      "\u001b[1;31mKeyboardInterrupt\u001b[0m: "
     ]
    }
   ],
   "source": [
    "nx.write_pajek(G, \"./spotify_million_playlist_dataset/data/graphrep/spotify.gz\")"
   ]
  },
  {
   "cell_type": "code",
   "execution_count": 32,
   "metadata": {},
   "outputs": [],
   "source": [
    "nx.write_pajek(G, \"./spotify_million_playlist_dataset/data/graphrep/spotify.net\")"
   ]
  },
  {
   "cell_type": "code",
   "execution_count": null,
   "metadata": {},
   "outputs": [],
   "source": []
  }
 ],
 "metadata": {
  "kernelspec": {
   "display_name": "Python 3",
   "language": "python",
   "name": "python3"
  },
  "language_info": {
   "codemirror_mode": {
    "name": "ipython",
    "version": 3
   },
   "file_extension": ".py",
   "mimetype": "text/x-python",
   "name": "python",
   "nbconvert_exporter": "python",
   "pygments_lexer": "ipython3",
   "version": "3.10.6"
  },
  "orig_nbformat": 4
 },
 "nbformat": 4,
 "nbformat_minor": 2
}
