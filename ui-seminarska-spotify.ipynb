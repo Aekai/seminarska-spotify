{
 "cells": [
  {
   "cell_type": "code",
   "execution_count": 1,
   "metadata": {},
   "outputs": [],
   "source": [
    "import networkx as nx\n",
    "import timeit\n",
    "import numpy as np\n",
    "import pandas as pd\n",
    "import json\n",
    "import random\n",
    "import pickle\n",
    "from math import log\n",
    "from collections import Counter\n",
    "import matplotlib.pyplot as plt"
   ]
  },
  {
   "attachments": {},
   "cell_type": "markdown",
   "metadata": {},
   "source": [
    "read files to get all modified_at timestamps:"
   ]
  },
  {
   "cell_type": "code",
   "execution_count": 17,
   "metadata": {},
   "outputs": [
    {
     "name": "stdout",
     "output_type": "stream",
     "text": [
      "1/1; n:0, m:0; time elapsed: 0.0 min 1.7 sec\r\n",
      "n:0, m:0\n",
      "Time elapsed (minutes): 0.028635004999997212\n"
     ]
    }
   ],
   "source": [
    "start = timeit.default_timer()\n",
    "\n",
    "# todo? add different weights to connections between song and artist/album/playlist in the graph??\n",
    "G = nx.Graph()\n",
    "num_files = 1000 # 1000 == all files\n",
    "trim_start=len(\"spotify:\")\n",
    "playlist_times = np.empty(num_files * 1000)\n",
    "for i in range(num_files):\n",
    "    lb = i*1000\n",
    "    ub = lb+999\n",
    "    #print(f\"mpd.slice.{lb}-{ub}.json\")\n",
    "    filename = f\"spotify_million_playlist_dataset/data/mpd.slice.{lb}-{ub}.json\"\n",
    "    with open(filename) as read_file:\n",
    "        tmp = json.load(read_file)\n",
    "        for playlist in tmp[\"playlists\"]:\n",
    "            playlist_times[playlist[\"pid\"]] = (playlist[\"modified_at\"])\n",
    "\n",
    "    time_elapsed = timeit.default_timer() - start\n",
    "    mins_elapsed = (time_elapsed)//60\n",
    "    secs_elapsed = time_elapsed % 60\n",
    "    print(f\"{i+1}/{num_files}; n:{G.number_of_nodes()}, m:{G.number_of_edges()}; time elapsed: {mins_elapsed:02} min {secs_elapsed:02.1f} sec\", end=\"\\r\")\n",
    "print(f\"n:{G.number_of_nodes()}, m:{G.number_of_edges()}\")\n",
    "\n",
    "stop = timeit.default_timer()\n",
    "print('Time elapsed (minutes):', (stop - start)/60)  "
   ]
  },
  {
   "cell_type": "code",
   "execution_count": 39,
   "metadata": {},
   "outputs": [
    {
     "data": {
      "text/plain": [
       "count                          1000000\n",
       "mean     2016-10-12 13:36:12.729600256\n",
       "min                2010-04-16 00:00:00\n",
       "25%                2016-03-26 00:00:00\n",
       "50%                2017-03-23 00:00:00\n",
       "75%                2017-09-15 00:00:00\n",
       "max                2017-11-01 00:00:00\n",
       "dtype: object"
      ]
     },
     "execution_count": 39,
     "metadata": {},
     "output_type": "execute_result"
    }
   ],
   "source": [
    "ser = pd.Series(playlist_times)\n",
    "ser = pd.to_datetime(ser, unit='s', errors='coerce')\n",
    "# ser = ser[ser > pd.Timestamp(\"2000-01-01 00:00:00\")]\n",
    "ser.describe()"
   ]
  },
  {
   "cell_type": "code",
   "execution_count": 48,
   "metadata": {},
   "outputs": [
    {
     "data": {
      "text/plain": [
       "numpy.datetime64('2017-10-03T00:00:00.000000000')"
      ]
     },
     "execution_count": 48,
     "metadata": {},
     "output_type": "execute_result"
    }
   ],
   "source": [
    "np.percentile(ser, 80)"
   ]
  },
  {
   "cell_type": "code",
   "execution_count": 52,
   "metadata": {},
   "outputs": [
    {
     "data": {
      "text/plain": [
       "249413"
      ]
     },
     "execution_count": 52,
     "metadata": {},
     "output_type": "execute_result"
    }
   ],
   "source": [
    "np.count_nonzero(ser > pd.Timestamp(\"2017-09-15 00:00:00\"))"
   ]
  },
  {
   "cell_type": "code",
   "execution_count": 40,
   "metadata": {},
   "outputs": [
    {
     "data": {
      "text/plain": [
       "<Axes: >"
      ]
     },
     "execution_count": 40,
     "metadata": {},
     "output_type": "execute_result"
    },
    {
     "data": {
      "image/png": "[encoded data removed]",
      "text/plain": [
       "<Figure size 640x480 with 1 Axes>"
      ]
     },
     "metadata": {},
     "output_type": "display_data"
    }
   ],
   "source": [
    "ser.hist(xrot=90, bins=20)"
   ]
  },
  {
   "cell_type": "code",
   "execution_count": 2,
   "metadata": {},
   "outputs": [],
   "source": [
    "random.seed(0)"
   ]
  },
  {
   "attachments": {},
   "cell_type": "markdown",
   "metadata": {},
   "source": [
    "start = timeit.default_timer()\n",
    "\n",
    "#to calculate statistics about artists\n",
    "total_playlists = 0\n",
    "total_tracks = 0\n",
    "tracks = set()\n",
    "artists = set()\n",
    "albums = set()\n",
    "titles = set()\n",
    "\n",
    "# todo? add different weights to connections between song and artist/album/playlist in the graph??\n",
    "G = nx.Graph()\n",
    "num_files = 1000 # 1000 == all files\n",
    "trim_start=len(\"spotify:\")\n",
    "for i in range(num_files):\n",
    "    lb = i*1000\n",
    "    ub = lb+999\n",
    "    #print(f\"mpd.slice.{lb}-{ub}.json\")\n",
    "    filename = f\"data/mpd.slice.{lb}-{ub}.json\"\n",
    "    with open(filename) as read_file:\n",
    "        tmp = json.load(read_file)\n",
    "        for playlist in tmp[\"playlists\"]:\n",
    "            total_playlists += 1\n",
    "            titles.add(playlist[\"name\"])\n",
    "            G.add_node(playlist[\"pid\"], playlist_name=playlist[\"name\"])#, num_tracks=playlist[\"num_tracks\"], num_albums=playlist[\"num_albums\"])#, collaborative=playlist[\"collaborative\"], modified_at=playlist[\"modified_at\"])\n",
    "            for track in playlist[\"tracks\"]:\n",
    "                total_tracks += 1\n",
    "                albums.add(track[\"album_uri\"])\n",
    "                tracks.add(track[\"track_uri\"])\n",
    "                artists.add(track[\"artist_uri\"])\n",
    "                track_id = track[\"track_uri\"][trim_start:]\n",
    "                artist_id = track[\"artist_uri\"][trim_start:]\n",
    "                album_id = track[\"album_uri\"][trim_start:]\n",
    "                G.add_node(track_id, track_name=track[\"track_name\"], artist_name=track[\"artist_name\"])#, album_name=track[\"album_name\"])#, duration=track[\"duration_ms\"])\n",
    "                G.add_node(artist_id, artist_name=track[\"artist_name\"])\n",
    "                G.add_node(album_id, album_name=track[\"album_name\"])\n",
    "                # G.add_edge(track_id, artist_id) # dont need since songs are connected to artists via albums\n",
    "                G.add_edge(track_id, album_id)\n",
    "                G.add_edge(album_id, artist_id)\n",
    "                G.add_edge(track_id, playlist[\"pid\"])\n",
    "    time_elapsed = timeit.default_timer() - start\n",
    "    mins_elapsed = (time_elapsed)//60\n",
    "    secs_elapsed = time_elapsed % 60\n",
    "    print(f\"{i+1}/{num_files}; time elapsed: {mins_elapsed:02} min {secs_elapsed:02.1f} sec\", end=\"\\r\")\n",
    "print()\n",
    "print(f\"n:{G.number_of_nodes()}, m:{G.number_of_edges()}\")\n",
    "    \n",
    "stop = timeit.default_timer()\n",
    "print('Time elapsed (minutes):', (stop - start)/60)  "
   ]
  },
  {
   "attachments": {},
   "cell_type": "markdown",
   "metadata": {},
   "source": [
    "# save the read graph into a pickle file to read it in faster next time\n",
    "pickle.dump(G, open(\"./pickledata/spotify.pickle\", 'wb'))"
   ]
  },
  {
   "cell_type": "code",
   "execution_count": 2,
   "metadata": {},
   "outputs": [],
   "source": [
    "G = pickle.load(open(\"pickledata/spotify.pickle\", \"rb\"))"
   ]
  },
  {
   "cell_type": "code",
   "execution_count": 3,
   "metadata": {},
   "outputs": [
    {
     "ename": "NameError",
     "evalue": "name 'num_files' is not defined",
     "output_type": "error",
     "traceback": [
      "\u001b[1;31m---------------------------------------------------------------------------\u001b[0m",
      "\u001b[1;31mNameError\u001b[0m                                 Traceback (most recent call last)",
      "Cell \u001b[1;32mIn[3], line 12\u001b[0m\n\u001b[0;32m     10\u001b[0m mins_elapsed \u001b[39m=\u001b[39m (time_elapsed)\u001b[39m/\u001b[39m\u001b[39m/\u001b[39m\u001b[39m60\u001b[39m\n\u001b[0;32m     11\u001b[0m secs_elapsed \u001b[39m=\u001b[39m time_elapsed \u001b[39m%\u001b[39m \u001b[39m60\u001b[39m\n\u001b[1;32m---> 12\u001b[0m \u001b[39mprint\u001b[39m(\u001b[39mf\u001b[39m\u001b[39m\"\u001b[39m\u001b[39mnum_files: \u001b[39m\u001b[39m{\u001b[39;00mnum_files\u001b[39m}\u001b[39;00m\u001b[39m\"\u001b[39m)\n\u001b[0;32m     13\u001b[0m \u001b[39mprint\u001b[39m(\u001b[39mf\u001b[39m\u001b[39m\"\u001b[39m\u001b[39mtime elapsed: \u001b[39m\u001b[39m{\u001b[39;00mmins_elapsed\u001b[39m:\u001b[39;00m\u001b[39m02\u001b[39m\u001b[39m}\u001b[39;00m\u001b[39m min \u001b[39m\u001b[39m{\u001b[39;00msecs_elapsed\u001b[39m:\u001b[39;00m\u001b[39m02.1f\u001b[39m\u001b[39m}\u001b[39;00m\u001b[39m sec\u001b[39m\u001b[39m\"\u001b[39m, end\u001b[39m=\u001b[39m\u001b[39m\"\u001b[39m\u001b[39m\\r\u001b[39;00m\u001b[39m\"\u001b[39m)\n",
      "\u001b[1;31mNameError\u001b[0m: name 'num_files' is not defined"
     ]
    }
   ],
   "source": [
    "start = timeit.default_timer()\n",
    "n = G.number_of_nodes()\n",
    "m = G.number_of_edges()\n",
    "connected_c = list(nx.connected_components(G))\n",
    "lcc = max(connected_c, key=len)\n",
    "neighbour_avg_degs = nx.average_neighbor_degree(G)\n",
    "max_avg_neighs = max(list(neighbour_avg_degs.values()))\n",
    "max_degree = max(G.degree, key=lambda x: x[1])[1]\n",
    "time_elapsed = timeit.default_timer() - start\n",
    "mins_elapsed = (time_elapsed)//60\n",
    "secs_elapsed = time_elapsed % 60\n",
    "print(f\"num_files: {num_files}\")\n",
    "print(f\"time elapsed: {mins_elapsed:02} min {secs_elapsed:02.1f} sec\", end=\"\\r\")"
   ]
  },
  {
   "cell_type": "code",
   "execution_count": 10,
   "metadata": {},
   "outputs": [
    {
     "name": "stdout",
     "output_type": "stream",
     "text": [
      "stats about data\n",
      "number of playlists 1000000\n",
      "number of tracks 66346428\n",
      "number of unique tracks 2262292\n",
      "number of unique albums 734684\n",
      "number of unique artists 295860\n",
      "number of unique titles 92944\n",
      "avg playlist length 66.346428\n"
     ]
    }
   ],
   "source": [
    "print(\"stats about data\")\n",
    "print(\"number of playlists\", total_playlists)\n",
    "print(\"number of tracks\", total_tracks)\n",
    "print(\"number of unique tracks\", len(tracks))\n",
    "print(\"number of unique albums\", len(albums))\n",
    "print(\"number of unique artists\", len(artists))\n",
    "print(\"number of unique titles\", len(titles))\n",
    "print(\"avg playlist length\", float(total_tracks) / total_playlists)"
   ]
  },
  {
   "cell_type": "code",
   "execution_count": 11,
   "metadata": {},
   "outputs": [
    {
     "name": "stdout",
     "output_type": "stream",
     "text": [
      "stats about graph\n",
      "number of nodes: 4292836\n",
      "number of edges: 68576834\n",
      "clustering: 0\n",
      "connected compoentns: 23\n",
      "largest connected compoentns: 4291256\n",
      "averag degree: 31.949431098695594\n",
      "averag distance: 4.408711764231212\n",
      "maximum degree: 45395\n",
      "density: 7.442501540053507e-06\n",
      "maximum average neighbour degree: 33050.833333333336\n"
     ]
    }
   ],
   "source": [
    "print(\"stats about graph\")\n",
    "print(f\"number of nodes: {n}\")\n",
    "print(f\"number of edges: {m}\")\n",
    "print(f\"clustering: {0}\")\n",
    "print(f\"connected compoentns: {len(connected_c)}\")\n",
    "print(f\"largest connected compoentns: {len(lcc)}\")\n",
    "print(f\"averag degree: {2*m/n}\")\n",
    "print(f\"averag distance: {log(n) / log(2*m/n)}\")\n",
    "print(f\"maximum degree: {max_degree}\")\n",
    "print(f\"density: {nx.density(G)}\")\n",
    "print(f\"maximum average neighbour degree: {max_avg_neighs}\")"
   ]
  },
  {
   "cell_type": "code",
   "execution_count": 15,
   "metadata": {},
   "outputs": [],
   "source": [
    "def ploter(all_deg, filename=None):\n",
    "        degree_counts = Counter(all_deg)\n",
    "        x, y = zip(*degree_counts.items())\n",
    "\n",
    "        plt.figure(1)\n",
    "        plt.xlabel('degree')\n",
    "        plt.xscale('log')\n",
    "        plt.xlim(1, max(x))\n",
    "        plt.ylabel('frequency')\n",
    "        plt.yscale('log')\n",
    "        plt.ylim(1, max(y))\n",
    "        plt.scatter(x, y, marker='.')\n",
    "        if filename is not None:\n",
    "                plt.savefig(filename)\n",
    "        plt.show()"
   ]
  },
  {
   "cell_type": "code",
   "execution_count": 16,
   "metadata": {},
   "outputs": [
    {
     "data": {
      "image/png": "[encoded data removed]",
      "text/plain": [
       "<Figure size 640x480 with 1 Axes>"
      ]
     },
     "metadata": {},
     "output_type": "display_data"
    }
   ],
   "source": [
    "ploter([x for _,x in nx.degree(G)], filename=\"loglog-degree.png\")"
   ]
  },
  {
   "cell_type": "code",
   "execution_count": 44,
   "metadata": {},
   "outputs": [
    {
     "name": "stdout",
     "output_type": "stream",
     "text": [
      "0\n",
      "1\n",
      "2\n",
      "3\n",
      "4\n",
      "5\n",
      "6\n",
      "7\n",
      "8\n",
      "9\n",
      "10\n",
      "11\n",
      "12\n",
      "13\n",
      "14\n",
      "15\n",
      "16\n",
      "17\n",
      "18\n",
      "19\n",
      "20\n",
      "21\n",
      "22\n",
      "23\n",
      "24\n",
      "25\n",
      "26\n",
      "27\n",
      "28\n",
      "29\n",
      "30\n",
      "31\n",
      "32\n",
      "33\n",
      "34\n",
      "35\n",
      "36\n",
      "37\n",
      "38\n",
      "39\n",
      "40\n",
      "41\n",
      "42\n",
      "43\n",
      "44\n",
      "45\n",
      "46\n",
      "47\n",
      "48\n",
      "49\n",
      "50\n",
      "51\n",
      "52\n",
      "53\n",
      "54\n",
      "55\n",
      "56\n",
      "57\n",
      "58\n",
      "59\n",
      "60\n",
      "61\n",
      "62\n",
      "63\n",
      "64\n",
      "65\n",
      "66\n",
      "67\n",
      "68\n",
      "69\n",
      "70\n",
      "71\n",
      "72\n",
      "73\n",
      "74\n",
      "75\n",
      "76\n",
      "77\n",
      "78\n",
      "79\n",
      "80\n",
      "81\n",
      "82\n",
      "83\n",
      "84\n",
      "85\n",
      "86\n",
      "87\n",
      "88\n",
      "89\n",
      "90\n",
      "91\n",
      "92\n",
      "93\n",
      "94\n"
     ]
    }
   ],
   "source": [
    "ctr=1\n",
    "for id in G:\n",
    "    if (type(id) == int):\n",
    "        print(id)\n",
    "    ctr +=1\n",
    "    if ctr > 10000:\n",
    "        break"
   ]
  },
  {
   "cell_type": "code",
   "execution_count": 28,
   "metadata": {},
   "outputs": [],
   "source": [
    "song_degs = [len(list(G.neighbors(id))) for id in G if type(id) != int and id.startswith(\"track:\")]"
   ]
  },
  {
   "cell_type": "code",
   "execution_count": 45,
   "metadata": {},
   "outputs": [],
   "source": [
    "playlist_degs = [len(list(G.neighbors(id))) for id in G if type(id) == int]"
   ]
  },
  {
   "cell_type": "code",
   "execution_count": 31,
   "metadata": {},
   "outputs": [],
   "source": [
    "songsx, songsy = zip(*Counter(song_degs).items())"
   ]
  },
  {
   "cell_type": "code",
   "execution_count": 46,
   "metadata": {},
   "outputs": [
    {
     "data": {
      "text/plain": [
       "count    2.261225e+06\n",
       "mean     2.992309e+01\n",
       "std      3.548826e+02\n",
       "min      2.000000e+00\n",
       "25%      2.000000e+00\n",
       "50%      3.000000e+00\n",
       "75%      6.000000e+00\n",
       "max      4.535100e+04\n",
       "dtype: float64"
      ]
     },
     "execution_count": 46,
     "metadata": {},
     "output_type": "execute_result"
    }
   ],
   "source": [
    "pd.Series(song_degs).describe()"
   ]
  },
  {
   "cell_type": "code",
   "execution_count": 47,
   "metadata": {},
   "outputs": [],
   "source": [
    "plstx, plsty = zip(*Counter(playlist_degs).items())"
   ]
  },
  {
   "cell_type": "code",
   "execution_count": 48,
   "metadata": {},
   "outputs": [
    {
     "data": {
      "text/plain": [
       "count    999000.000000\n",
       "mean         65.467084\n",
       "std          52.706999\n",
       "min           3.000000\n",
       "25%          26.000000\n",
       "50%          49.000000\n",
       "75%          90.000000\n",
       "max         341.000000\n",
       "dtype: float64"
      ]
     },
     "execution_count": 48,
     "metadata": {},
     "output_type": "execute_result"
    }
   ],
   "source": [
    "pd.Series(playlist_degs).describe()"
   ]
  },
  {
   "cell_type": "code",
   "execution_count": 50,
   "metadata": {},
   "outputs": [
    {
     "data": {
      "image/png": "[encoded data removed]",
      "text/plain": [
       "<Figure size 640x480 with 1 Axes>"
      ]
     },
     "metadata": {},
     "output_type": "display_data"
    }
   ],
   "source": [
    "plt.figure(2)\n",
    "plt.xlabel('degree')\n",
    "plt.xscale('log')\n",
    "plt.xlim(1, max(max(songsx),max(plstx)))\n",
    "plt.ylabel('frequency')\n",
    "plt.yscale('log')\n",
    "plt.ylim(1, max(max(songsy), max(plsty)))\n",
    "plt.scatter(songsx, songsy, marker=\"x\", c=\"blue\", label=\"song degrees\")\n",
    "plt.scatter(plstx, plsty, marker=\"o\", c=\"orange\", label=\"playlist degrees\")\n",
    "plt.legend()\n",
    "plt.savefig(\"loglog-deg-songs-playlists.png\")\n",
    "plt.show()"
   ]
  },
  {
   "cell_type": "code",
   "execution_count": 5,
   "metadata": {},
   "outputs": [],
   "source": [
    "small_cs= sorted(connected_c, key=len)[:-1]"
   ]
  },
  {
   "cell_type": "code",
   "execution_count": 11,
   "metadata": {},
   "outputs": [
    {
     "data": {
      "text/plain": [
       "count     22.000000\n",
       "mean      71.818182\n",
       "std       59.952867\n",
       "min       12.000000\n",
       "25%       20.250000\n",
       "50%       61.000000\n",
       "75%       99.000000\n",
       "max      237.000000\n",
       "dtype: float64"
      ]
     },
     "execution_count": 11,
     "metadata": {},
     "output_type": "execute_result"
    }
   ],
   "source": [
    "smc_lens = pd.Series([len(c) for c in small_cs])\n",
    "smc_lens.describe()"
   ]
  },
  {
   "cell_type": "code",
   "execution_count": 20,
   "metadata": {},
   "outputs": [
    {
     "name": "stdout",
     "output_type": "stream",
     "text": [
      "['playlist id:446994; name: MEDITATIONS']\n",
      "[{'artist_name': 'Emma Louise Parish'}, {'artist_name': 'Bart Milatz'}, {'artist_name': 'Shannon R Rios'}]\n",
      "[{'album_name': 'Manifesting Abundance: Guided Meditation and Creative Visualization'}, {'track_name': 'Hypnotherapy for Manifesting Abundance, Wealth and Prosperity', 'artist_name': 'Bart Milatz'}, {'album_name': 'Meditations for Manifesting Abundance and Prosperity'}, {'track_name': 'Deserving and Worthiness Meditation: The Foundation of Manifesting', 'artist_name': 'Shannon R Rios'}, {'track_name': 'Morning Meditation for Manifesting Abundance, Wealth and Prosperity', 'artist_name': 'Bart Milatz'}, {'album_name': 'The Healing Journey Within: Meditations for Abundance and Love, Vol. I (Deserving)'}, {'track_name': 'Evening Meditation for Manifesting Abundance, Wealth and Prosperity', 'artist_name': 'Bart Milatz'}, {'track_name': 'Manifesting Abundance: Guided Meditation and Creative Visualization', 'artist_name': 'Emma Louise Parish'}]\n",
      "\n",
      "['playlist id:18998; name: fe ']\n",
      "[{'artist_name': 'Daniel Figueiredo'}, {'artist_name': 'Moyses Macedo'}, {'artist_name': 'Raphael Batista'}]\n",
      "[{'track_name': 'I Found You by the Well', 'artist_name': 'Moyses Macedo'}, {'album_name': 'No Poço Te Encontrei'}, {'album_name': 'Os Dez Mandamentos'}, {'track_name': 'Moises e Zipora - Instrumental', 'artist_name': 'Raphael Batista'}, {'track_name': 'En el Pozo Te Encontre', 'artist_name': 'Moyses Macedo'}, {'track_name': 'No Poço Te Encontrei', 'artist_name': 'Moyses Macedo'}, {'track_name': 'Moisés e Zípora - Faixa Bônus', 'artist_name': 'Daniel Figueiredo'}, {'album_name': 'Moses and the Ten Commandments - Original Soundtrack'}, {'album_name': 'Moisés y los Diez Mandamientos - Banda Sonora Original'}]\n",
      "\n",
      "['playlist id:129865; name: PRESS PLAY']\n",
      "[{'artist_name': 'Wntr Aln'}, {'artist_name': 'Melody Reyne'}, {'artist_name': 'Yestrdy'}]\n",
      "[{'album_name': 'With You'}, {'track_name': 'With You', 'artist_name': 'Melody Reyne'}, {'album_name': 'In My Bag'}, {'track_name': 'Dear Susie', 'artist_name': 'Yestrdy'}, {'album_name': 'For You'}, {'album_name': 'Dear Susie'}, {'track_name': 'Old News', 'artist_name': 'Melody Reyne'}, {'album_name': 'Old News'}, {'track_name': 'For You', 'artist_name': 'Yestrdy'}, {'track_name': 'In My Bag', 'artist_name': 'Wntr Aln'}]\n",
      "\n",
      "['playlist id:200525; name: Lit']\n",
      "[{'artist_name': 'The Winners Table Band'}, {'artist_name': 'Iya Tagune'}, {'artist_name': 'Zim Blues'}, {'artist_name': 'Kassie Booker'}]\n",
      "[{'album_name': 'Colors 2 EP'}, {'album_name': 'In Love With My Bestie'}, {'album_name': 'Festival Party Riddim'}, {'track_name': 'Intro', 'artist_name': 'Zim Blues'}, {'track_name': 'My Love For U', 'artist_name': 'Iya Tagune'}, {'track_name': 'In Love With My Bestie', 'artist_name': 'Kassie Booker'}, {'album_name': 'The Other Side'}, {'track_name': 'Festival Party Riddim', 'artist_name': 'The Winners Table Band'}, {'track_name': 'Ebola VI Riddim', 'artist_name': 'The Winners Table Band'}, {'album_name': 'Ebola VI Riddim'}]\n",
      "\n",
      "['playlist id:666076; name: Dangdut']\n",
      "[{'artist_name': 'Via Vallen'}, {'artist_name': 'Nella Kharisma'}, {'artist_name': 'NDX A.K.A'}]\n",
      "[{'track_name': 'Konco Mesra', 'artist_name': 'Nella Kharisma'}, {'track_name': 'Sakit Sakit Hatiku', 'artist_name': 'Via Vallen'}, {'track_name': 'Sayang', 'artist_name': 'Via Vallen'}, {'album_name': 'Sayang'}, {'track_name': 'Selingkuh', 'artist_name': 'Via Vallen'}, {'track_name': 'Bojoku Ketikung', 'artist_name': 'NDX A.K.A'}, {'album_name': 'New Arista Bintang Nusantara, Vol. 2'}, {'album_name': 'Nella Kharisma Special NDX'}, {'album_name': 'Sakit Sakit Hatiku'}, {'album_name': 'Superhits NDX A.K.A 2016, Vol. 1'}, {'track_name': 'Jaran Goyang', 'artist_name': 'Nella Kharisma'}]\n",
      "\n",
      "['playlist id:237330; name: dangdut']\n",
      "[{'artist_name': 'Duo Anggrek'}, {'artist_name': 'Trio Macan'}, {'artist_name': 'Ikke Nurjanah'}, {'artist_name': 'Ayu Ting Ting'}]\n",
      "[{'album_name': 'Best of Ayu Ting Ting'}, {'track_name': 'Putus Ya Putus', 'artist_name': 'Trio Macan'}, {'album_name': 'Terlena'}, {'track_name': 'Suara Hati', 'artist_name': 'Ayu Ting Ting'}, {'album_name': 'Cikini Gondangdia'}, {'track_name': 'Suka Sama Kamu', 'artist_name': 'Trio Macan'}, {'track_name': 'Cikini Gondangdia - Roy. B Radio Edit Mix', 'artist_name': 'Duo Anggrek'}, {'track_name': 'Macan Ternak', 'artist_name': 'Trio Macan'}, {'album_name': 'Putus Ya Putus'}, {'track_name': 'Memandangmu', 'artist_name': 'Ikke Nurjanah'}]\n",
      "\n",
      "['playlist id:867828; name: Türkçe']\n",
      "[{'artist_name': 'Adrienne Neusch'}, {'artist_name': 'Melis Tarkan'}, {'artist_name': 'Vedat Pektaş'}, {'artist_name': 'Radio Shema'}]\n",
      "[{'track_name': 'Duyduk Tatlı Ezgiler (Feat. Adrienne Neusch)', 'artist_name': 'Radio Shema'}, {'track_name': 'Rab Iyidir', 'artist_name': 'Adrienne Neusch'}, {'album_name': 'Hayranım'}, {'track_name': 'Inanırım (feat. Vedat Pektaş)', 'artist_name': 'Adrienne Neusch'}, {'track_name': 'Sana Hayranım', 'artist_name': 'Adrienne Neusch'}, {'track_name': 'Nasıl Bir Sevgi Bu', 'artist_name': 'Adrienne Neusch'}, {'track_name': 'Bu Çocuk Kim? (Feat. Işıl Aksünger)', 'artist_name': 'Radio Shema'}, {'track_name': 'Esenlik Tüm İnsanlara (Feat. Özge Talas)', 'artist_name': 'Radio Shema'}, {'track_name': 'O Sadık Kalacak', 'artist_name': 'Vedat Pektaş'}, {'track_name': \"Rab'bin Gayreti (Feat. Adrienne Neusch)\", 'artist_name': 'Radio Shema'}, {'track_name': 'Dünyamız Şaşkındı (Feat. Vedat Pektaş)', 'artist_name': 'Radio Shema'}]\n",
      "\n",
      "['playlist id:586902; name: Money']\n",
      "[{'artist_name': 'Mark Connors'}, {'artist_name': 'Pyro'}, {'artist_name': 'B. Majors'}, {'artist_name': 'Camp Dark'}]\n",
      "[{'track_name': 'Whoo', 'artist_name': 'Mark Connors'}, {'track_name': 'Dangerous', 'artist_name': 'B. Majors'}, {'album_name': 'Pitch Black'}, {'track_name': \"I'm Standing\", 'artist_name': 'Pyro'}, {'track_name': 'Plane 2 See', 'artist_name': 'Mark Connors'}, {'track_name': 'Come Back to Me', 'artist_name': 'Pyro'}, {'track_name': 'Bitch Ass Nigga', 'artist_name': 'Camp Dark'}, {'track_name': 'Check', 'artist_name': 'Camp Dark'}, {'track_name': 'Now What', 'artist_name': 'Camp Dark'}, {'track_name': 'Bad Lil Girl', 'artist_name': 'Camp Dark'}, {'track_name': \"Joogin'\", 'artist_name': 'Mark Connors'}, {'track_name': 'Bullshit', 'artist_name': 'B. Majors'}]\n",
      "\n",
      "['playlist id:259780; name: anthony...']\n",
      "[{'artist_name': 'The Clarinets'}, {'artist_name': 'John Rodgers'}, {'artist_name': 'Anthony Burr & Charles Curtis'}, {'artist_name': 'Anthony Burr'}]\n",
      "[{'track_name': 'Charles Curtis (2002)', 'artist_name': 'Anthony Burr'}, {'track_name': 'Drop Off', 'artist_name': 'The Clarinets'}, {'track_name': 'Negatives', 'artist_name': 'Anthony Burr'}, {'track_name': 'Dork/Rat/Traffic', 'artist_name': 'John Rodgers'}, {'track_name': 'In Memoriam Jon Higgins (1987)', 'artist_name': 'Anthony Burr'}, {'track_name': 'All This Had To Be Talked Out', 'artist_name': 'The Clarinets'}, {'track_name': 'It Always Seemed To Be Sunny', 'artist_name': 'The Clarinets'}, {'track_name': 'Improvisation', 'artist_name': 'John Rodgers'}, {'track_name': 'Keep On Going Like This', 'artist_name': 'The Clarinets'}, {'track_name': 'Duet for Violin and Bass Clarinet', 'artist_name': 'John Rodgers'}, {'track_name': \"One Day I'll Tell You What Really Happened\", 'artist_name': 'The Clarinets'}, {'album_name': 'A Rose Is a Rose...'}, {'track_name': \"Didn't Think Anything Of It\", 'artist_name': 'The Clarinets'}, {'track_name': \"St. Mary's\", 'artist_name': 'John Rodgers'}]\n",
      "\n",
      "['playlist id:185029; name: beat']\n",
      "[{'artist_name': 'Search and Rescue Squad'}, {'artist_name': 'People Change the Artist'}, {'artist_name': 'Optic Poundz'}, {'artist_name': 'Dungeon Boogie Beatz Co.'}, {'artist_name': 'Beat Boxer Bully'}]\n",
      "[{'track_name': 'Man Sea', 'artist_name': 'Optic Poundz'}, {'track_name': 'Blast Her', 'artist_name': 'Optic Poundz'}, {'track_name': 'ThrOwn', 'artist_name': 'Beat Boxer Bully'}, {'track_name': 'Makossa2011', 'artist_name': 'Optic Poundz'}, {'track_name': 'Hypnotic Zen', 'artist_name': 'Search and Rescue Squad'}, {'track_name': 'Truth Scale', 'artist_name': 'Optic Poundz'}, {'track_name': 'Grain', 'artist_name': 'Dungeon Boogie Beatz Co.'}, {'track_name': 'Trinity Gold', 'artist_name': 'Optic Poundz'}, {'album_name': 'Now That Hurt Instrumentals'}, {'track_name': 'New Earth', 'artist_name': 'Dungeon Boogie Beatz Co.'}, {'track_name': 'Faith', 'artist_name': 'People Change the Artist'}, {'track_name': 'Cpu', 'artist_name': 'Optic Poundz'}, {'track_name': 'Diligent', 'artist_name': 'Dungeon Boogie Beatz Co.'}, {'track_name': 'Cross Punch', 'artist_name': 'Dungeon Boogie Beatz Co.'}]\n",
      "\n",
      "['playlist id:372985; name: 1998']\n",
      "[{'artist_name': 'Mental Home'}, {'artist_name': 'Epoch of Unlight'}, {'artist_name': 'Sculptured'}, {'artist_name': 'Odes Of Ecstasy'}, {'artist_name': 'Scholomance'}]\n",
      "[{'track_name': '(From Northern Aeries to) The Infinite Cycle of The Unborn', 'artist_name': 'Epoch of Unlight'}, {'track_name': 'Silver Mistress', 'artist_name': 'Epoch of Unlight'}, {'track_name': \"Aevin's Cage\", 'artist_name': 'Mental Home'}, {'track_name': 'Snowfall: A Serenade For Aurora, The Unearthly Angel Of Dawn', 'artist_name': 'Scholomance'}, {'track_name': 'Under The Wing (Of Gamayun)', 'artist_name': 'Mental Home'}, {'track_name': 'On A Hand Of The Universe', 'artist_name': 'Mental Home'}, {'track_name': '...What Will Be Has Been', 'artist_name': 'Epoch of Unlight'}, {'track_name': 'Undone Within', 'artist_name': 'Epoch of Unlight'}, {'track_name': 'Tides Of Time', 'artist_name': 'Mental Home'}, {'track_name': 'The Day The Light Hath Died', 'artist_name': 'Epoch of Unlight'}, {'track_name': 'War Symphony (Act III)', 'artist_name': 'Odes Of Ecstasy'}, {'album_name': 'A Treatise On Love'}, {'track_name': 'Her Silence', 'artist_name': 'Sculptured'}, {'track_name': 'Stranger Dove', 'artist_name': 'Mental Home'}]\n",
      "\n",
      "['playlist id:391089; name: Roots']\n",
      "[{'artist_name': '676 & Kolokakala Band'}, {'artist_name': \"Manapo'uli 'o e Funga Fonua\"}, {'artist_name': \"Tu'imala Kaho & Feleti Kaufisi\"}, {'artist_name': \"Siale 'Iongi\"}]\n",
      "[{'track_name': 'Fafangu Siliva', 'artist_name': \"Manapo'uli 'o e Funga Fonua\"}, {'track_name': 'Katinia', 'artist_name': \"Siale 'Iongi\"}, {'track_name': 'Kainga Tonga USA', 'artist_name': \"Siale 'Iongi\"}, {'track_name': \"Sila Oe 'Ofa\", 'artist_name': \"Siale 'Iongi\"}, {'track_name': 'Huni O Maile Taha', 'artist_name': \"Tu'imala Kaho & Feleti Kaufisi\"}, {'track_name': \"Kakala 'oe Tu'a Liku\", 'artist_name': \"Manapo'uli 'o e Funga Fonua\"}, {'track_name': 'Katinia', 'artist_name': '676 & Kolokakala Band'}, {'track_name': 'Faama Sipi', 'artist_name': \"Manapo'uli 'o e Funga Fonua\"}, {'track_name': 'Finesola', 'artist_name': \"Siale 'Iongi\"}, {'track_name': 'Tangitangi', 'artist_name': '676 & Kolokakala Band'}, {'track_name': \"Fisi'I Haitelenisia\", 'artist_name': \"Tu'imala Kaho & Feleti Kaufisi\"}, {'track_name': 'Mama Fono Safaia', 'artist_name': \"Tu'imala Kaho & Feleti Kaufisi\"}, {'album_name': 'Tribute To Tongan Music - Volume 3'}, {'track_name': 'Pefiume Gardenia', 'artist_name': \"Tu'imala Kaho & Feleti Kaufisi\"}, {'album_name': \"The Very Best of Siale 'Iongi\"}]\n",
      "\n",
      "['playlist id:113060; name: MY BEATS']\n",
      "[{'artist_name': 'Esik'}, {'artist_name': 'KrazyBeats Dupree'}, {'artist_name': 'Neglakay'}, {'artist_name': 'Wizzy'}, {'artist_name': 'Kevon Morrison'}, {'artist_name': 'swerve'}, {'artist_name': 'O.G. Nate P'}, {'artist_name': 'Big Boi Caprice'}, {'artist_name': 'Charles Justice'}, {'artist_name': 'Stylez'}, {'artist_name': 'The Whiz'}, {'artist_name': 'Soulja Almighty'}]\n",
      "[{'track_name': 'Finishing Up', 'artist_name': 'KrazyBeats Dupree'}, {'track_name': 'Muzik', 'artist_name': 'Stylez'}, {'album_name': 'Vertical Sounds'}, {'album_name': 'Musique Neg La Kay'}, {'track_name': 'Late Night Creep (feat. Swerve & Soulja Almighty)', 'artist_name': 'swerve'}, {'album_name': \"Wizzy's Street Mix\"}, {'album_name': 'All or Nothing'}, {'track_name': 'Best Nite Of Ur Life (feat. Swerve, Soulja Almighty & Blaque Soul)', 'artist_name': 'swerve'}, {'track_name': 'Love or Lust', 'artist_name': 'Kevon Morrison'}, {'track_name': 'Freestyle', 'artist_name': 'swerve'}, {'album_name': 'May 18th : (FlagDay)'}, {'track_name': 'Outtro', 'artist_name': 'Neglakay'}]\n",
      "\n",
      "['playlist id:88474; name: Gypsy!']\n",
      "[{'artist_name': 'Járóka Sándor'}, {'artist_name': 'Sándor Jàróka Jr.,'}, {'artist_name': 'Jároja Sándor'}, {'artist_name': 'István Horváth'}, {'artist_name': 'The Balatonia Gypsy Orchestra'}, {'artist_name': 'Szalay László'}, {'artist_name': 'Bangó Margit'}, {'artist_name': 'Laszlo Gabor'}, {'artist_name': 'Csocsesz'}, {'artist_name': 'Pere Jànos'}]\n",
      "[{'track_name': 'A csap utcán, Vörösbort ittam az este, Az a szép, az a szép', 'artist_name': 'Járóka Sándor'}, {'track_name': 'A babam roma lany (My Sweetheart Is a Gypsy Girl)', 'artist_name': 'István Horváth'}, {'track_name': 'Fenyes a cipom (My Shoes Are Shiny)', 'artist_name': 'István Horváth'}, {'track_name': 'Elmentem en az erdobe (I Went Out to the Forest)', 'artist_name': 'István Horváth'}, {'track_name': 'Harom deci komenymag (Three Decilitres of Kummel)', 'artist_name': 'István Horváth'}, {'track_name': 'Sombre Dimanche', 'artist_name': 'The Balatonia Gypsy Orchestra'}, {'track_name': 'Elmegyek a faluvegi malomba (I Go to the Mill at the End of the Village)', 'artist_name': 'István Horváth'}, {'album_name': 'The Hungarian Song / Szalay Laszlo / Recordings 1940 - 1960'}, {'track_name': 'Elment a Cili neni (Aunt Cili Left)', 'artist_name': 'István Horváth'}, {'track_name': 'Rongyos nadrag, szakadt ing (Tattered Trousers, Torn Shirt)', 'artist_name': 'István Horváth'}, {'track_name': 'Orszaguton dzsloznak a ciganyok (The Gypsies Are Travelling on the Hill)', 'artist_name': 'István Horváth'}, {'track_name': 'Jegenyefán fészket rak a, Kiültek a vénasszonyok', 'artist_name': 'Jároja Sándor'}, {'track_name': 'Jaromszog (Yoke-Pin)', 'artist_name': 'István Horváth'}, {'track_name': 'Akácos út', 'artist_name': 'Pere Jànos'}]\n",
      "\n",
      "['playlist id:452079; name: MC']\n",
      "[{'artist_name': 'Mart'}, {'artist_name': 'Govier'}, {'artist_name': 'Warm Binary'}, {'artist_name': 'Wholewheat'}]\n",
      "[{'track_name': 'Why Is It Me?', 'artist_name': 'Wholewheat'}, {'track_name': 'Lost Boy Calling', 'artist_name': 'Mart'}, {'track_name': 'Twenty-Six', 'artist_name': 'Warm Binary'}, {'track_name': 'Wocka! Wocka! Wocka!', 'artist_name': 'Mart'}, {'track_name': 'Twin Oaks', 'artist_name': 'Warm Binary'}, {'track_name': 'Game of Clones', 'artist_name': 'Mart'}, {'track_name': 'Does Love Come with Those Fries?', 'artist_name': 'Wholewheat'}, {'track_name': 'Hot Hail', 'artist_name': 'Warm Binary'}, {'track_name': 'Buy Yourself a Hot Sam', 'artist_name': 'Mart'}, {'track_name': 'Turn Left', 'artist_name': 'Wholewheat'}, {'track_name': 'Orange Juice', 'artist_name': 'Govier'}, {'track_name': 'What Was Found', 'artist_name': 'Warm Binary'}, {'track_name': 'Just a Little Bit', 'artist_name': 'Wholewheat'}, {'track_name': 'Paid the Toll', 'artist_name': 'Wholewheat'}, {'track_name': 'Anyhow Anyway Anyday', 'artist_name': 'Wholewheat'}]\n",
      "\n",
      "['playlist id:399579; name: Armenian']\n",
      "[{'artist_name': 'Armenian Navy Band & Arto Tunçboyaciyan'}, {'artist_name': 'Armenian Navy Band'}, {'artist_name': 'Arto Tunçboyaciyan and Armenian Navy Band'}, {'artist_name': 'Richard A. Hagopian'}, {'artist_name': 'Kef Time Band'}]\n",
      "[{'track_name': 'Hido', 'artist_name': 'Armenian Navy Band & Arto Tunçboyaciyan'}, {'track_name': 'Ne Güzeldir Bakiçin', 'artist_name': 'Kef Time Band'}, {'track_name': 'Dzagh e Poonch', 'artist_name': 'Richard A. Hagopian'}, {'track_name': 'Life Without Wife', 'artist_name': 'Armenian Navy Band & Arto Tunçboyaciyan'}, {'track_name': 'Water', 'artist_name': 'Armenian Navy Band'}, {'track_name': 'Little Engine', 'artist_name': 'Armenian Navy Band & Arto Tunçboyaciyan'}, {'track_name': 'Room 10', 'artist_name': 'Armenian Navy Band & Arto Tunçboyaciyan'}, {'track_name': \"I'm Still Awaiting Your Reply\", 'artist_name': 'Armenian Navy Band & Arto Tunçboyaciyan'}, {'track_name': 'Civilian Spiritual Secret Police', 'artist_name': 'Arto Tunçboyaciyan and Armenian Navy Band'}, {'track_name': 'Doup', 'artist_name': 'Arto Tunçboyaciyan and Armenian Navy Band'}, {'track_name': 'Içlerim', 'artist_name': 'Kef Time Band'}, {'track_name': 'Sun', 'artist_name': 'Armenian Navy Band'}, {'track_name': 'It Depends on How You See Me', 'artist_name': 'Armenian Navy Band & Arto Tunçboyaciyan'}, {'track_name': 'Çiktim Çinarin Basina - Sallasana', 'artist_name': 'Kef Time Band'}]\n",
      "\n",
      "['playlist id:618961; name: 911']\n",
      "[{'artist_name': 'Zoinexx'}, {'artist_name': 'Gason'}, {'artist_name': \"G'renier Vern\"}, {'artist_name': 'Lil Man'}, {'artist_name': 'Manassé'}, {'artist_name': 'Hot Slim'}, {'artist_name': 'Pawol'}, {'artist_name': \"L'Homme\"}]\n",
      "[{'track_name': 'Quickly', 'artist_name': \"G'renier Vern\"}, {'track_name': 'Depleted', 'artist_name': \"G'renier Vern\"}, {'track_name': 'Thoughts', 'artist_name': \"G'renier Vern\"}, {'track_name': 'Safari', 'artist_name': 'Hot Slim'}, {'track_name': 'My Estates', 'artist_name': 'Hot Slim'}, {'track_name': 'Move Quick', 'artist_name': 'Zoinexx'}, {'track_name': 'Focus', 'artist_name': \"L'Homme\"}, {'track_name': 'Be Patient', 'artist_name': 'Gason'}, {'track_name': 'Slowly', 'artist_name': 'Pawol'}, {'track_name': 'Aime', 'artist_name': 'Gason'}, {'track_name': 'Facts', 'artist_name': 'Lil Man'}, {'track_name': 'Fuel', 'artist_name': 'Gason'}, {'track_name': 'Process', 'artist_name': \"G'renier Vern\"}, {'track_name': 'Procedure', 'artist_name': 'Zoinexx'}, {'track_name': 'Outro', 'artist_name': \"L'Homme\"}]\n",
      "\n",
      "['playlist id:422728; name: My list']\n",
      "[{'artist_name': 'Duo Hermanos Devia'}, {'artist_name': 'Trio Rayos De Luz'}, {'artist_name': 'Trio Hermanos Devia'}]\n",
      "[{'track_name': 'Nunca Desmayes', 'artist_name': 'Trio Hermanos Devia'}, {'track_name': 'Entera Consagración', 'artist_name': 'Duo Hermanos Devia'}, {'track_name': 'Somos de Cristo', 'artist_name': 'Trio Hermanos Devia'}, {'track_name': 'Y No Importa', 'artist_name': 'Duo Hermanos Devia'}, {'album_name': 'Solo Tú Señor'}, {'track_name': 'Morando Allá', 'artist_name': 'Trio Hermanos Devia'}, {'track_name': 'La Razón de Nuestro Ser', 'artist_name': 'Trio Hermanos Devia'}, {'track_name': 'Ilusa Vanidad', 'artist_name': 'Trio Hermanos Devia'}, {'track_name': 'Trios de Cristo', 'artist_name': 'Trio Hermanos Devia'}, {'track_name': 'Canta Hoy', 'artist_name': 'Trio Hermanos Devia'}, {'track_name': 'Matrimonio', 'artist_name': 'Trio Hermanos Devia'}, {'track_name': 'Perseveraré', 'artist_name': 'Duo Hermanos Devia'}, {'track_name': 'El Camino Del Evangelio', 'artist_name': 'Duo Hermanos Devia'}, {'track_name': 'Solo Tú Señor', 'artist_name': 'Duo Hermanos Devia'}]\n",
      "\n",
      "['playlist id:185252; name: Ten']\n",
      "[{'artist_name': 'Ten'}, {'artist_name': 'Ten'}, {'artist_name': 'Gary Hughes'}]\n",
      "[{'track_name': 'Rainbow In The Dark', 'artist_name': 'Ten'}, {'album_name': 'The Robe / Bonus Collection'}, {'track_name': 'We Rule The Night (Acoustic)', 'artist_name': 'Ten'}, {'track_name': 'After The Love Has Gone (Live)', 'artist_name': 'Ten'}, {'track_name': 'When Only Love Can Ease The Pain', 'artist_name': 'Ten'}, {'track_name': '17', 'artist_name': 'Ten'}, {'track_name': 'The Name Of The Rose', 'artist_name': 'Ten'}, {'track_name': 'Temple Of Love', 'artist_name': 'Ten'}, {'track_name': 'The One That Got Away', 'artist_name': 'Ten'}, {'track_name': \"You're In My Heart\", 'artist_name': 'Gary Hughes'}, {'track_name': \"Can't Slow Down (Live)\", 'artist_name': 'Ten'}, {'track_name': 'Venus And Mars (Bonus Studio Track)', 'artist_name': 'Ten'}, {'track_name': \"Evil's On Top In The World\", 'artist_name': 'Ten'}]\n",
      "\n",
      "['playlist id:587434; name: ME']\n",
      "[{'artist_name': 'We Live'}, {'artist_name': 'The Federalists'}, {'artist_name': 'Stray Eras'}, {'artist_name': 'Luke Franks'}]\n",
      "[{'track_name': 'War', 'artist_name': 'Luke Franks'}, {'track_name': 'Getaway', 'artist_name': 'Luke Franks'}, {'album_name': 'EP01'}, {'track_name': 'Italian Robot', 'artist_name': 'The Federalists'}, {'track_name': 'JFK', 'artist_name': 'Luke Franks'}, {'track_name': 'Never Saw It Coming', 'artist_name': 'The Federalists'}, {'track_name': 'Reach Out', 'artist_name': 'Luke Franks'}, {'track_name': \"Let's Sell Out\", 'artist_name': 'The Federalists'}, {'track_name': 'Uber Groovy', 'artist_name': 'Luke Franks'}, {'track_name': 'T Bo Blues', 'artist_name': 'Luke Franks'}, {'track_name': 'Losing My Tact', 'artist_name': 'Luke Franks'}, {'album_name': 'Stay'}, {'track_name': 'Punched in the Face', 'artist_name': 'Luke Franks'}, {'track_name': 'Welcome Wolves', 'artist_name': 'Stray Eras'}, {'track_name': 'Migraines & Love', 'artist_name': 'Luke Franks'}]\n",
      "\n",
      "['playlist id:596719; name: Fun Music', 'playlist id:747358; name: The Collection']\n",
      "[{'artist_name': 'Slick da Snake'}, {'artist_name': 'Filth Chamberlain'}, {'artist_name': 'MushMouf Moe'}, {'artist_name': 'Lavender Leprechaun'}, {'artist_name': 'Jimi Tuscan'}, {'artist_name': 'Tango Molly'}, {'artist_name': 'Weasel Sims'}, {'artist_name': 'Brick Mahorn'}, {'artist_name': 'JWB'}, {'artist_name': 'Mr. Ack Right'}, {'artist_name': 'Lil Bully'}, {'artist_name': 'Cheetah the Cheddar Getter'}, {'artist_name': 'Lenny Lottery'}, {'artist_name': 'Big Walter'}]\n",
      "[{'track_name': \"When I'm Gone(Interlude)\", 'artist_name': 'Tango Molly'}, {'track_name': 'Michael Jackson', 'artist_name': 'Weasel Sims'}, {'track_name': 'So Far Away', 'artist_name': 'Jimi Tuscan'}, {'track_name': 'You Can Tell', 'artist_name': 'Tango Molly'}, {'track_name': 'Model', 'artist_name': 'Filth Chamberlain'}, {'track_name': 'I Get It', 'artist_name': 'Tango Molly'}, {'track_name': 'Hustling Azz Backwards', 'artist_name': 'Big Walter'}, {'track_name': \"Walter Can't Be Saved from the Streets\", 'artist_name': 'Big Walter'}, {'track_name': 'Up and Down', 'artist_name': 'Slick da Snake'}, {'album_name': 'Vice Grip'}, {'track_name': 'M Money', 'artist_name': 'Lenny Lottery'}, {'album_name': 'The Cheddar Tape'}, {'track_name': 'Over Time Flexin', 'artist_name': 'MushMouf Moe'}, {'track_name': 'Smooth Snake', 'artist_name': 'Slick da Snake'}, {'track_name': 'Jack You Up', 'artist_name': 'Slick da Snake'}]\n",
      "\n",
      "['playlist id:208086; name: 111']\n",
      "[{'artist_name': 'Loretta Herrera'}, {'artist_name': 'Clifford Warner'}, {'artist_name': 'Carmen Carr'}, {'artist_name': 'Annette Sherman'}, {'artist_name': 'Paul Frazier'}, {'artist_name': 'Bryan Cummings'}, {'artist_name': 'Andrea Becker'}, {'artist_name': 'Jeanne Collins'}, {'artist_name': 'Alfred Paul'}, {'artist_name': 'Jarred Hebert'}, {'artist_name': 'Oscar Salazar'}, {'artist_name': 'Alfred Patterson'}, {'artist_name': 'Lorie Stine'}, {'artist_name': 'Linda McGee'}, {'artist_name': 'Melissa Burton'}, {'artist_name': 'Randall Wilson'}, {'artist_name': 'ADRIAN DIXON'}]\n",
      "[{'track_name': 'Gyrating Skeletons', 'artist_name': 'Clifford Warner'}, {'track_name': 'Witty Associations', 'artist_name': 'Bryan Cummings'}, {'album_name': 'Optimistic Phenomenon'}, {'track_name': 'Annoyance in an Elevator', 'artist_name': 'Melissa Burton'}, {'track_name': 'Optimistic Adversaries', 'artist_name': 'Annette Sherman'}, {'track_name': 'Bottled Envy', 'artist_name': 'Melissa Burton'}, {'track_name': 'Unassuming Princess', 'artist_name': 'Carmen Carr'}, {'track_name': 'Reflectively Proselytizing', 'artist_name': 'Randall Wilson'}, {'track_name': 'Typical Depression', 'artist_name': 'Paul Frazier'}, {'track_name': 'Ring of Mullah Forever', 'artist_name': 'Loretta Herrera'}, {'album_name': 'Fluid Melody'}, {'track_name': 'Anxious Carrion', 'artist_name': 'Clifford Warner'}, {'track_name': 'Mad Depression', 'artist_name': 'Andrea Becker'}, {'track_name': 'Left-Wing Messages', 'artist_name': 'Loretta Herrera'}]\n",
      "\n"
     ]
    }
   ],
   "source": [
    "for c in small_cs:\n",
    "    tmp = list(c)\n",
    "    print([f\"playlist id:{id}; name: {G.nodes[id]['playlist_name']}\" for id in tmp if type(id) == int])\n",
    "    print([G.nodes[id] for id in tmp if type(id) != int and id.startswith(\"artist\")])\n",
    "    print([G.nodes[id] for id in tmp[:15] if type(id) != int and not id.startswith(\"artist\")])\n",
    "    print()\n",
    "    # break"
   ]
  },
  {
   "cell_type": "code",
   "execution_count": null,
   "metadata": {},
   "outputs": [],
   "source": []
  }
 ],
 "metadata": {
  "kernelspec": {
   "display_name": "Python 3 (ipykernel)",
   "language": "python",
   "name": "python3"
  },
  "language_info": {
   "codemirror_mode": {
    "name": "ipython",
    "version": 3
   },
   "file_extension": ".py",
   "mimetype": "text/x-python",
   "name": "python",
   "nbconvert_exporter": "python",
   "pygments_lexer": "ipython3",
   "version": "3.10.6"
  }
 },
 "nbformat": 4,
 "nbformat_minor": 2
}
