{
 "cells": [
  {
   "cell_type": "code",
   "execution_count": 1,
   "metadata": {},
   "outputs": [],
   "source": [
    "import networkx as nx\n",
    "import timeit\n",
    "import json\n",
    "import random\n",
    "import pickle"
   ]
  },
  {
   "cell_type": "code",
   "execution_count": 2,
   "metadata": {},
   "outputs": [
    {
     "name": "stdout",
     "output_type": "stream",
     "text": [
      "Time elapsed (minutes): 5.261787376665355\n"
     ]
    }
   ],
   "source": [
    "start = timeit.default_timer()\n",
    "G=pickle.load(open(\"./spotify_million_playlist_dataset/data/graphrep/spotify.pickle\", \"rb\"))\n",
    "stop = timeit.default_timer()\n",
    "print('Time elapsed (minutes):', (stop - start)/60)  "
   ]
  },
  {
   "cell_type": "code",
   "execution_count": 3,
   "metadata": {},
   "outputs": [],
   "source": [
    "def randWalkReccs(G, num_iterations=1000, walk_steps=10, personalization=None):\n",
    "    ### personalization is an array with nodes to teleport to\n",
    "    ### num iterations should be around 100*len(personalization)\n",
    "    reccs = {}\n",
    "    for i in range(num_iterations):\n",
    "        if personalization != None:\n",
    "            start_node = random.choice(personalization)\n",
    "        else:\n",
    "            start_node = random.choice(list(G.nodes()))\n",
    "\n",
    "        if (start_node not in reccs.keys()):\n",
    "            reccs[start_node] = 1\n",
    "        else:\n",
    "            reccs[start_node] = reccs[start_node] + 1\n",
    "\n",
    "        for j in range(walk_steps):\n",
    "            tmp_node = random.choice(list(G.neighbors(start_node)))\n",
    "            if (tmp_node not in reccs.keys()):\n",
    "                reccs[tmp_node] = 1\n",
    "            else:\n",
    "                reccs[tmp_node] = reccs[tmp_node] + 1\n",
    "            start_node = tmp_node\n",
    "            \n",
    "    return reccs\n"
   ]
  },
  {
   "cell_type": "code",
   "execution_count": 4,
   "metadata": {},
   "outputs": [
    {
     "data": {
      "text/plain": [
       "['track:6I9VzXrHxO9rA9A5euc8Ak', 'track:0UaMYEvWZi0ZqiDOoHU3YI']"
      ]
     },
     "execution_count": 4,
     "metadata": {},
     "output_type": "execute_result"
    }
   ],
   "source": [
    "personalization_dict = { # both in this example from playlist 0\n",
    "    'track:6I9VzXrHxO9rA9A5euc8Ak':6, #toxic britney spears\n",
    "    'track:0UaMYEvWZi0ZqiDOoHU3YI':1 #lose control missy elliott\n",
    "}\n",
    "personalization_vect = list(personalization_dict.keys())\n",
    "personalization_vect"
   ]
  },
  {
   "cell_type": "code",
   "execution_count": 5,
   "metadata": {},
   "outputs": [],
   "source": [
    "random.seed(0)"
   ]
  },
  {
   "cell_type": "code",
   "execution_count": 6,
   "metadata": {},
   "outputs": [
    {
     "name": "stdout",
     "output_type": "stream",
     "text": [
      "Time elapsed (minutes): 0.14002182500165267\n"
     ]
    }
   ],
   "source": [
    "start = timeit.default_timer()\n",
    "num_iterations = 100*max(len(personalization_vect),10)\n",
    "walk_steps = 12\n",
    "results = randWalkReccs(G, num_iterations, walk_steps, personalization=personalization_vect)\n",
    "stop = timeit.default_timer()\n",
    "print('Time elapsed (minutes):', (stop - start)/60)  "
   ]
  },
  {
   "cell_type": "code",
   "execution_count": 7,
   "metadata": {},
   "outputs": [
    {
     "data": {
      "text/plain": [
       "4417"
      ]
     },
     "execution_count": 7,
     "metadata": {},
     "output_type": "execute_result"
    }
   ],
   "source": [
    "rec_songs = filter(lambda x: str.startswith(str(x[0]), \"track:\"), results.items())\n",
    "reccs = sorted(rec_songs, key=lambda x: x[1], reverse=True)\n",
    "len(reccs)"
   ]
  },
  {
   "cell_type": "code",
   "execution_count": 8,
   "metadata": {},
   "outputs": [
    {
     "name": "stdout",
     "output_type": "stream",
     "text": [
      "('track:6I9VzXrHxO9rA9A5euc8Ak', 535) {'track_name': 'Toxic', 'artist_name': 'Britney Spears'}\n",
      "('track:0UaMYEvWZi0ZqiDOoHU3YI', 488) {'track_name': 'Lose Control (feat. Ciara & Fat Man Scoop)', 'artist_name': 'Missy Elliott'}\n",
      "('track:0XUfyU2QviPAs6bxSpXYG4', 13) {'track_name': 'Yeah!', 'artist_name': 'Usher'}\n",
      "('track:7uKcScNXuO3MWw6LowBjW1', 12) {'track_name': 'One, Two Step', 'artist_name': 'Ciara'}\n",
      "('track:6RcQOut9fWL6FSqeIr5M1r', 11) {'track_name': 'Hollaback Girl', 'artist_name': 'Gwen Stefani'}\n",
      "('track:6C7RJEIUDqKkJRZVWdkfkH', 10) {'track_name': 'Stronger', 'artist_name': 'Kanye West'}\n",
      "('track:0O45fw2L5vsWpdsOdXwNAR', 9) {'track_name': 'SexyBack', 'artist_name': 'Justin Timberlake'}\n",
      "('track:5XJJdNPkwmbUwE79gv0NxK', 9) {'track_name': 'Gold Digger', 'artist_name': 'Kanye West'}\n",
      "('track:04KTF78FFg8sOHC1BADqbY', 9) {'track_name': 'Hot In Herre', 'artist_name': 'Nelly'}\n",
      "('track:3ZFTkvIE7kyPt6Nu3PEa7V', 8) {'track_name': \"Hips Don't Lie\", 'artist_name': 'Shakira'}\n",
      "('track:5dNfHmqgr128gMY2tc5CeJ', 8) {'track_name': 'Ignition - Remix', 'artist_name': 'R. Kelly'}\n",
      "('track:0SGkqnVQo9KPytSri1H6cF', 8) {'track_name': 'Bounce Back', 'artist_name': 'Big Sean'}\n",
      "('track:32OlwWuMpZ6b0aN2RZOeMS', 8) {'track_name': 'Uptown Funk', 'artist_name': 'Mark Ronson'}\n",
      "('track:4356Typ82hUiFAynbLYbPn', 8) {'track_name': \"DJ Got Us Fallin' In Love\", 'artist_name': 'Usher'}\n",
      "('track:2gam98EZKrF9XuOkU13ApN', 7) {'track_name': 'Promiscuous', 'artist_name': 'Nelly Furtado'}\n",
      "('track:3U3Ff8ZvL6oEu1r98gCCWW', 7) {'track_name': 'Pon de Replay', 'artist_name': 'Rihanna'}\n",
      "('track:4gFXY5yvHayGckJndafYQE', 7) {'track_name': \"Buy U a Drank (Shawty Snappin')\", 'artist_name': 'T-Pain'}\n",
      "('track:0KKkJNfGyhkQ5aFogxQAPU', 7) {'track_name': \"That's What I Like\", 'artist_name': 'Bruno Mars'}\n",
      "('track:42et6fnHCw1HIPSrdPprMl', 7) {'track_name': 'Semi-Charmed Life', 'artist_name': 'Third Eye Blind'}\n",
      "('track:0WqIKmW4BTrj3eJFmnCKMv', 7) {'track_name': 'Crazy In Love', 'artist_name': 'Beyoncé'}\n",
      "('track:4w7yrP4RAeeyhfG9nJqQvS', 7) {'track_name': \"I Don't Fuck With You\", 'artist_name': 'Big Sean'}\n",
      "('track:5i66xrvSh1MjjyDd6zcwgj', 7) {'track_name': 'Umbrella', 'artist_name': 'Rihanna'}\n",
      "('track:1lzr43nnXAijIGYnCT8M8H', 7) {'track_name': \"It Wasn't Me\", 'artist_name': 'Shaggy'}\n",
      "('track:4r8lRYnoOGdEi6YyI5OC1o', 6) {'track_name': 'Bye Bye Bye', 'artist_name': '*NSYNC'}\n",
      "('track:1xznGGDReH1oQq0xzbwXa3', 6) {'track_name': 'One Dance', 'artist_name': 'Drake'}\n"
     ]
    }
   ],
   "source": [
    "for i in range(25):\n",
    "    print(reccs[i], G.nodes[reccs[i][0]])"
   ]
  },
  {
   "cell_type": "code",
   "execution_count": 18,
   "metadata": {},
   "outputs": [],
   "source": [
    "for node in list(G.nodes()):\n",
    "    if type(node) != int and not node.startswith(\"track:\"):\n",
    "        G.remove_node(node)"
   ]
  },
  {
   "cell_type": "code",
   "execution_count": 19,
   "metadata": {},
   "outputs": [
    {
     "data": {
      "text/plain": [
       "'3260225  nodes, 65401617 links'"
      ]
     },
     "execution_count": 19,
     "metadata": {},
     "output_type": "execute_result"
    }
   ],
   "source": [
    "\n",
    "f\"{G.number_of_nodes()}  nodes, {G.number_of_edges()} links\""
   ]
  },
  {
   "cell_type": "code",
   "execution_count": 20,
   "metadata": {},
   "outputs": [],
   "source": [
    "random.seed(0)"
   ]
  },
  {
   "cell_type": "code",
   "execution_count": 21,
   "metadata": {},
   "outputs": [
    {
     "name": "stdout",
     "output_type": "stream",
     "text": [
      "Time elapsed (minutes): 0.09601535333398109\n"
     ]
    }
   ],
   "source": [
    "start = timeit.default_timer()\n",
    "num_iterations = 100*max(len(personalization_vect),10)\n",
    "walk_steps = 12\n",
    "results = randWalkReccs(G, num_iterations, walk_steps, personalization=personalization_vect)\n",
    "stop = timeit.default_timer()\n",
    "print('Time elapsed (minutes):', (stop - start)/60)  "
   ]
  },
  {
   "cell_type": "code",
   "execution_count": 22,
   "metadata": {},
   "outputs": [
    {
     "data": {
      "text/plain": [
       "4477"
      ]
     },
     "execution_count": 22,
     "metadata": {},
     "output_type": "execute_result"
    }
   ],
   "source": [
    "rec_songs = filter(lambda x: str.startswith(str(x[0]), \"track:\"), results.items())\n",
    "reccs = sorted(rec_songs, key=lambda x: x[1], reverse=True)\n",
    "len(reccs)"
   ]
  },
  {
   "cell_type": "code",
   "execution_count": 23,
   "metadata": {},
   "outputs": [
    {
     "name": "stdout",
     "output_type": "stream",
     "text": [
      "('track:6I9VzXrHxO9rA9A5euc8Ak', 542) {'track_name': 'Toxic', 'artist_name': 'Britney Spears'}\n",
      "('track:0UaMYEvWZi0ZqiDOoHU3YI', 483) {'track_name': 'Lose Control (feat. Ciara & Fat Man Scoop)', 'artist_name': 'Missy Elliott'}\n",
      "('track:5dNfHmqgr128gMY2tc5CeJ', 12) {'track_name': 'Ignition - Remix', 'artist_name': 'R. Kelly'}\n",
      "('track:2EEeOnHehOozLq4aS0n6SL', 9) {'track_name': 'iSpy (feat. Lil Yachty)', 'artist_name': 'KYLE'}\n",
      "('track:5KY7zgFeH2GWoL1zP9mME6', 9) {'track_name': 'Get Low - Street', 'artist_name': 'Lil Jon & The East Side Boyz'}\n",
      "('track:7KXjTSCq5nL1LoYtL7XAwS', 8) {'track_name': 'HUMBLE.', 'artist_name': 'Kendrick Lamar'}\n",
      "('track:3f7gYMirBEKuc57218BjOY', 8) {'track_name': 'California Gurls - feat. Snoop Dogg', 'artist_name': 'Katy Perry'}\n",
      "('track:0QsvXIfqM0zZoerQfsI9lm', 8) {'track_name': \"Don't Let Me Down\", 'artist_name': 'The Chainsmokers'}\n",
      "('track:0WqIKmW4BTrj3eJFmnCKMv', 8) {'track_name': 'Crazy In Love', 'artist_name': 'Beyoncé'}\n",
      "('track:70cTMpcgWMcR18t9MRJFjB', 8) {'track_name': 'I Gotta Feeling', 'artist_name': 'The Black Eyed Peas'}\n",
      "('track:66TRwr5uJwPt15mfFkzhbi', 8) {'track_name': 'Crank That (Soulja Boy)', 'artist_name': 'Soulja Boy'}\n",
      "('track:6C7RJEIUDqKkJRZVWdkfkH', 7) {'track_name': 'Stronger', 'artist_name': 'Kanye West'}\n",
      "('track:4E5P1XyAFtrjpiIxkydly4', 7) {'track_name': 'Replay', 'artist_name': 'Iyaz'}\n",
      "('track:04KTF78FFg8sOHC1BADqbY', 7) {'track_name': 'Hot In Herre', 'artist_name': 'Nelly'}\n",
      "('track:6rbeWjEavBHvX2kr6lSogS', 7) {'track_name': 'Work Out', 'artist_name': 'J. Cole'}\n",
      "('track:0PJIbOdMs3bd5AT8liULMQ', 7) {'track_name': 'oui', 'artist_name': 'Jeremih'}\n",
      "('track:0CAfXk7DXMnon4gLudAp7J', 7) {'track_name': 'Low (feat T-Pain) - Feat T-Pain Album Version', 'artist_name': 'Flo Rida'}\n",
      "('track:1lzr43nnXAijIGYnCT8M8H', 7) {'track_name': \"It Wasn't Me\", 'artist_name': 'Shaggy'}\n",
      "('track:0OJXdyyVL8K6aovPgfqCcN', 6) {'track_name': 'Girlfriend (German Version - Explicit) - German Version - Explicit', 'artist_name': 'Avril Lavigne'}\n",
      "('track:3MjUtNVVq3C8Fn0MP3zhXa', 6) {'track_name': '...Baby One More Time', 'artist_name': 'Britney Spears'}\n",
      "('track:2d8JP84HNLKhmd6IYOoupQ', 6) {'track_name': 'Trap Queen', 'artist_name': 'Fetty Wap'}\n",
      "('track:20LxTsa6936zOlzTWqoPVt', 6) {'track_name': 'The Next Episode', 'artist_name': 'Dr. Dre'}\n",
      "('track:7gKIt3rDGIMJDFVSPBnGmj', 6) {'track_name': 'Super Bass', 'artist_name': 'Nicki Minaj'}\n",
      "('track:557un1HgwYMuqfWGSTmnxw', 6) {'track_name': 'Single Ladies (Put a Ring on It)', 'artist_name': 'Beyoncé'}\n",
      "('track:0XUfyU2QviPAs6bxSpXYG4', 6) {'track_name': 'Yeah!', 'artist_name': 'Usher'}\n"
     ]
    }
   ],
   "source": [
    "for i in range(25):\n",
    "    print(reccs[i], G.nodes[reccs[i][0]])"
   ]
  },
  {
   "cell_type": "code",
   "execution_count": 24,
   "metadata": {},
   "outputs": [],
   "source": [
    "# save the read graph into a pickle file to read it in faster next time\n",
    "pickle.dump(G, open(\"./spotify_million_playlist_dataset/data/graphrep/spotify-no-artist-album.pickle\", 'wb'))"
   ]
  },
  {
   "cell_type": "code",
   "execution_count": null,
   "metadata": {},
   "outputs": [],
   "source": []
  }
 ],
 "metadata": {
  "kernelspec": {
   "display_name": "Python 3",
   "language": "python",
   "name": "python3"
  },
  "language_info": {
   "codemirror_mode": {
    "name": "ipython",
    "version": 3
   },
   "file_extension": ".py",
   "mimetype": "text/x-python",
   "name": "python",
   "nbconvert_exporter": "python",
   "pygments_lexer": "ipython3",
   "version": "3.10.6"
  },
  "orig_nbformat": 4
 },
 "nbformat": 4,
 "nbformat_minor": 2
}
