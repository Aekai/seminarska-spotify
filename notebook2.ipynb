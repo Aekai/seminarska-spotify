{
 "cells": [
  {
   "cell_type": "code",
   "execution_count": 1,
   "metadata": {},
   "outputs": [],
   "source": [
    "import networkx as nx\n",
    "import timeit\n",
    "import json\n",
    "import random\n",
    "import pickle"
   ]
  },
  {
   "cell_type": "code",
   "execution_count": 2,
   "metadata": {},
   "outputs": [
    {
     "name": "stdout",
     "output_type": "stream",
     "text": [
      "Time elapsed (minutes): 2.857688914999987\n"
     ]
    }
   ],
   "source": [
    "start = timeit.default_timer()\n",
    "G=pickle.load(open(\"./spotify_million_playlist_dataset/data/graphrep/spotify.pickle\", \"rb\"))\n",
    "stop = timeit.default_timer()\n",
    "print('Time elapsed (minutes):', (stop - start)/60)  "
   ]
  },
  {
   "cell_type": "code",
   "execution_count": 3,
   "metadata": {},
   "outputs": [],
   "source": [
    "def randWalkReccs(G, num_iterations=1000, walk_steps=10, personalization=None):\n",
    "    ### personalization is an array with nodes to teleport to\n",
    "    ### num iterations should be around 100*len(personalization)\n",
    "    reccs = {}\n",
    "    for i in range(num_iterations):\n",
    "        if personalization != None:\n",
    "            start_node = random.choice(personalization)\n",
    "        else:\n",
    "            start_node = random.choice(list(G.nodes()))\n",
    "\n",
    "        if (start_node not in reccs.keys()):\n",
    "            reccs[start_node] = 1\n",
    "        else:\n",
    "            reccs[start_node] = reccs[start_node] + 1\n",
    "\n",
    "        for j in range(walk_steps):\n",
    "            tmp_node = random.choice(list(G.neighbors(start_node)))\n",
    "            if (tmp_node not in reccs.keys()):\n",
    "                reccs[tmp_node] = 1\n",
    "            else:\n",
    "                reccs[tmp_node] = reccs[tmp_node] + 1\n",
    "            start_node = tmp_node\n",
    "            \n",
    "    return reccs\n"
   ]
  },
  {
   "cell_type": "code",
   "execution_count": 4,
   "metadata": {},
   "outputs": [
    {
     "data": {
      "text/plain": [
       "['track:6I9VzXrHxO9rA9A5euc8Ak', 'track:0UaMYEvWZi0ZqiDOoHU3YI']"
      ]
     },
     "execution_count": 4,
     "metadata": {},
     "output_type": "execute_result"
    }
   ],
   "source": [
    "personalization_dict = { # both in this example from playlist 0\n",
    "    'track:6I9VzXrHxO9rA9A5euc8Ak':6, #toxic britney spears\n",
    "    'track:0UaMYEvWZi0ZqiDOoHU3YI':1 #lose control missy elliott\n",
    "}\n",
    "personalization_vect = list(personalization_dict.keys())\n",
    "personalization_vect"
   ]
  },
  {
   "cell_type": "code",
   "execution_count": 5,
   "metadata": {},
   "outputs": [],
   "source": [
    "random.seed(0)"
   ]
  },
  {
   "cell_type": "code",
   "execution_count": 6,
   "metadata": {},
   "outputs": [
    {
     "name": "stdout",
     "output_type": "stream",
     "text": [
      "Time elapsed (minutes): 0.19565766333253123\n"
     ]
    }
   ],
   "source": [
    "start = timeit.default_timer()\n",
    "num_iterations = 100*max(len(personalization_vect),10)\n",
    "walk_steps = 12\n",
    "results = randWalkReccs(G, num_iterations, walk_steps, personalization=personalization_vect)\n",
    "stop = timeit.default_timer()\n",
    "print('Time elapsed (minutes):', (stop - start)/60)  "
   ]
  },
  {
   "cell_type": "code",
   "execution_count": 7,
   "metadata": {},
   "outputs": [
    {
     "data": {
      "text/plain": [
       "4481"
      ]
     },
     "execution_count": 7,
     "metadata": {},
     "output_type": "execute_result"
    }
   ],
   "source": [
    "rec_songs = filter(lambda x: str.startswith(str(x[0]), \"track:\"), results.items())\n",
    "reccs = sorted(rec_songs, key=lambda x: x[1], reverse=True)\n",
    "len(reccs)"
   ]
  },
  {
   "cell_type": "code",
   "execution_count": 8,
   "metadata": {},
   "outputs": [
    {
     "name": "stdout",
     "output_type": "stream",
     "text": [
      "('track:6I9VzXrHxO9rA9A5euc8Ak', 527) {'track_name': 'Toxic', 'artist_name': 'Britney Spears'}\n",
      "('track:0UaMYEvWZi0ZqiDOoHU3YI', 493) {'track_name': 'Lose Control (feat. Ciara & Fat Man Scoop)', 'artist_name': 'Missy Elliott'}\n",
      "('track:7uKcScNXuO3MWw6LowBjW1', 13) {'track_name': 'One, Two Step', 'artist_name': 'Ciara'}\n",
      "('track:0XUfyU2QviPAs6bxSpXYG4', 13) {'track_name': 'Yeah!', 'artist_name': 'Usher'}\n",
      "('track:6C7RJEIUDqKkJRZVWdkfkH', 11) {'track_name': 'Stronger', 'artist_name': 'Kanye West'}\n",
      "('track:5XJJdNPkwmbUwE79gv0NxK', 10) {'track_name': 'Gold Digger', 'artist_name': 'Kanye West'}\n",
      "('track:2gam98EZKrF9XuOkU13ApN', 9) {'track_name': 'Promiscuous', 'artist_name': 'Nelly Furtado'}\n",
      "('track:0O45fw2L5vsWpdsOdXwNAR', 9) {'track_name': 'SexyBack', 'artist_name': 'Justin Timberlake'}\n",
      "('track:0KKkJNfGyhkQ5aFogxQAPU', 9) {'track_name': \"That's What I Like\", 'artist_name': 'Bruno Mars'}\n",
      "('track:4r8lRYnoOGdEi6YyI5OC1o', 8) {'track_name': 'Bye Bye Bye', 'artist_name': '*NSYNC'}\n",
      "('track:6RcQOut9fWL6FSqeIr5M1r', 8) {'track_name': 'Hollaback Girl', 'artist_name': 'Gwen Stefani'}\n",
      "('track:04KTF78FFg8sOHC1BADqbY', 8) {'track_name': 'Hot In Herre', 'artist_name': 'Nelly'}\n",
      "('track:5dNfHmqgr128gMY2tc5CeJ', 8) {'track_name': 'Ignition - Remix', 'artist_name': 'R. Kelly'}\n",
      "('track:3ZFTkvIE7kyPt6Nu3PEa7V', 7) {'track_name': \"Hips Don't Lie\", 'artist_name': 'Shakira'}\n",
      "('track:0SGkqnVQo9KPytSri1H6cF', 7) {'track_name': 'Bounce Back', 'artist_name': 'Big Sean'}\n",
      "('track:7yyRTcZmCiyzzJlNzGC9Ol', 7) {'track_name': 'Broccoli (feat. Lil Yachty)', 'artist_name': 'DRAM'}\n",
      "('track:0CAfXk7DXMnon4gLudAp7J', 7) {'track_name': 'Low (feat T-Pain) - Feat T-Pain Album Version', 'artist_name': 'Flo Rida'}\n",
      "('track:557un1HgwYMuqfWGSTmnxw', 7) {'track_name': 'Single Ladies (Put a Ring on It)', 'artist_name': 'Beyoncé'}\n",
      "('track:4w7yrP4RAeeyhfG9nJqQvS', 7) {'track_name': \"I Don't Fuck With You\", 'artist_name': 'Big Sean'}\n",
      "('track:1lzr43nnXAijIGYnCT8M8H', 7) {'track_name': \"It Wasn't Me\", 'artist_name': 'Shaggy'}\n",
      "('track:2bJvI42r8EF3wxjOuDav4r', 6) {'track_name': 'Time of Our Lives', 'artist_name': 'Pitbull'}\n",
      "('track:4gFXY5yvHayGckJndafYQE', 6) {'track_name': \"Buy U a Drank (Shawty Snappin')\", 'artist_name': 'T-Pain'}\n",
      "('track:1xznGGDReH1oQq0xzbwXa3', 6) {'track_name': 'One Dance', 'artist_name': 'Drake'}\n",
      "('track:6ZANrVuAMp2rpjhfbOuJly', 6) {'track_name': 'Same Old Love', 'artist_name': 'Selena Gomez'}\n",
      "('track:5i66xrvSh1MjjyDd6zcwgj', 6) {'track_name': 'Umbrella', 'artist_name': 'Rihanna'}\n"
     ]
    }
   ],
   "source": [
    "for i in range(25):\n",
    "    print(reccs[i], G.nodes[reccs[i][0]])"
   ]
  },
  {
   "cell_type": "code",
   "execution_count": 9,
   "metadata": {},
   "outputs": [
    {
     "name": "stdout",
     "output_type": "stream",
     "text": [
      "a\n"
     ]
    }
   ],
   "source": [
    "for node in G.nodes():\n",
    "    if type(node) != int and not node.startswith(\"track:\"):\n",
    "        print(node)\n",
    "        break\n",
    "        for tmp in G.neighbors(node):\n",
    "            if tmp.startswith(\"track:\"):\n",
    "                G.remove_edge(node, tmp)"
   ]
  },
  {
   "cell_type": "code",
   "execution_count": 10,
   "metadata": {},
   "outputs": [
    {
     "name": "stderr",
     "output_type": "stream",
     "text": [
      "\n",
      "KeyboardInterrupt\n",
      "\n"
     ]
    }
   ],
   "source": [
    "G.neighbors[\"a\"]"
   ]
  },
  {
   "cell_type": "code",
   "execution_count": null,
   "metadata": {},
   "outputs": [],
   "source": [
    "random.seed(0)"
   ]
  },
  {
   "cell_type": "code",
   "execution_count": null,
   "metadata": {},
   "outputs": [
    {
     "name": "stdout",
     "output_type": "stream",
     "text": [
      "Time elapsed (minutes): 0.12640062166610733\n"
     ]
    }
   ],
   "source": [
    "start = timeit.default_timer()\n",
    "num_iterations = 100*max(len(personalization_vect),10)\n",
    "walk_steps = 12\n",
    "results = randWalkReccs(G, num_iterations, walk_steps, personalization=personalization_vect)\n",
    "stop = timeit.default_timer()\n",
    "print('Time elapsed (minutes):', (stop - start)/60)  "
   ]
  },
  {
   "cell_type": "code",
   "execution_count": null,
   "metadata": {},
   "outputs": [
    {
     "data": {
      "text/plain": [
       "4481"
      ]
     },
     "execution_count": 43,
     "metadata": {},
     "output_type": "execute_result"
    }
   ],
   "source": [
    "rec_songs = filter(lambda x: str.startswith(str(x[0]), \"track:\"), results.items())\n",
    "reccs = sorted(rec_songs, key=lambda x: x[1], reverse=True)\n",
    "len(reccs)"
   ]
  },
  {
   "cell_type": "code",
   "execution_count": null,
   "metadata": {},
   "outputs": [
    {
     "name": "stdout",
     "output_type": "stream",
     "text": [
      "('track:6I9VzXrHxO9rA9A5euc8Ak', 527) {'track_name': 'Toxic', 'artist_name': 'Britney Spears'}\n",
      "('track:0UaMYEvWZi0ZqiDOoHU3YI', 493) {'track_name': 'Lose Control (feat. Ciara & Fat Man Scoop)', 'artist_name': 'Missy Elliott'}\n",
      "('track:7uKcScNXuO3MWw6LowBjW1', 13) {'track_name': 'One, Two Step', 'artist_name': 'Ciara'}\n",
      "('track:0XUfyU2QviPAs6bxSpXYG4', 13) {'track_name': 'Yeah!', 'artist_name': 'Usher'}\n",
      "('track:6C7RJEIUDqKkJRZVWdkfkH', 11) {'track_name': 'Stronger', 'artist_name': 'Kanye West'}\n",
      "('track:5XJJdNPkwmbUwE79gv0NxK', 10) {'track_name': 'Gold Digger', 'artist_name': 'Kanye West'}\n",
      "('track:2gam98EZKrF9XuOkU13ApN', 9) {'track_name': 'Promiscuous', 'artist_name': 'Nelly Furtado'}\n",
      "('track:0O45fw2L5vsWpdsOdXwNAR', 9) {'track_name': 'SexyBack', 'artist_name': 'Justin Timberlake'}\n",
      "('track:0KKkJNfGyhkQ5aFogxQAPU', 9) {'track_name': \"That's What I Like\", 'artist_name': 'Bruno Mars'}\n",
      "('track:4r8lRYnoOGdEi6YyI5OC1o', 8) {'track_name': 'Bye Bye Bye', 'artist_name': '*NSYNC'}\n",
      "('track:6RcQOut9fWL6FSqeIr5M1r', 8) {'track_name': 'Hollaback Girl', 'artist_name': 'Gwen Stefani'}\n",
      "('track:04KTF78FFg8sOHC1BADqbY', 8) {'track_name': 'Hot In Herre', 'artist_name': 'Nelly'}\n",
      "('track:5dNfHmqgr128gMY2tc5CeJ', 8) {'track_name': 'Ignition - Remix', 'artist_name': 'R. Kelly'}\n",
      "('track:3ZFTkvIE7kyPt6Nu3PEa7V', 7) {'track_name': \"Hips Don't Lie\", 'artist_name': 'Shakira'}\n",
      "('track:0SGkqnVQo9KPytSri1H6cF', 7) {'track_name': 'Bounce Back', 'artist_name': 'Big Sean'}\n",
      "('track:7yyRTcZmCiyzzJlNzGC9Ol', 7) {'track_name': 'Broccoli (feat. Lil Yachty)', 'artist_name': 'DRAM'}\n",
      "('track:0CAfXk7DXMnon4gLudAp7J', 7) {'track_name': 'Low (feat T-Pain) - Feat T-Pain Album Version', 'artist_name': 'Flo Rida'}\n",
      "('track:557un1HgwYMuqfWGSTmnxw', 7) {'track_name': 'Single Ladies (Put a Ring on It)', 'artist_name': 'Beyoncé'}\n",
      "('track:4w7yrP4RAeeyhfG9nJqQvS', 7) {'track_name': \"I Don't Fuck With You\", 'artist_name': 'Big Sean'}\n",
      "('track:1lzr43nnXAijIGYnCT8M8H', 7) {'track_name': \"It Wasn't Me\", 'artist_name': 'Shaggy'}\n",
      "('track:2bJvI42r8EF3wxjOuDav4r', 6) {'track_name': 'Time of Our Lives', 'artist_name': 'Pitbull'}\n",
      "('track:4gFXY5yvHayGckJndafYQE', 6) {'track_name': \"Buy U a Drank (Shawty Snappin')\", 'artist_name': 'T-Pain'}\n",
      "('track:1xznGGDReH1oQq0xzbwXa3', 6) {'track_name': 'One Dance', 'artist_name': 'Drake'}\n",
      "('track:6ZANrVuAMp2rpjhfbOuJly', 6) {'track_name': 'Same Old Love', 'artist_name': 'Selena Gomez'}\n",
      "('track:5i66xrvSh1MjjyDd6zcwgj', 6) {'track_name': 'Umbrella', 'artist_name': 'Rihanna'}\n"
     ]
    }
   ],
   "source": [
    "for i in range(25):\n",
    "    print(reccs[i], G.nodes[reccs[i][0]])"
   ]
  },
  {
   "cell_type": "code",
   "execution_count": null,
   "metadata": {},
   "outputs": [
    {
     "data": {
      "text/plain": [
       "67662843"
      ]
     },
     "execution_count": 45,
     "metadata": {},
     "output_type": "execute_result"
    }
   ],
   "source": [
    "G.number_of_edges()"
   ]
  },
  {
   "cell_type": "code",
   "execution_count": null,
   "metadata": {},
   "outputs": [],
   "source": []
  }
 ],
 "metadata": {
  "kernelspec": {
   "display_name": "Python 3",
   "language": "python",
   "name": "python3"
  },
  "language_info": {
   "codemirror_mode": {
    "name": "ipython",
    "version": 3
   },
   "file_extension": ".py",
   "mimetype": "text/x-python",
   "name": "python",
   "nbconvert_exporter": "python",
   "pygments_lexer": "ipython3",
   "version": "3.10.6"
  },
  "orig_nbformat": 4
 },
 "nbformat": 4,
 "nbformat_minor": 2
}
