{
 "cells": [
  {
   "attachments": {},
   "cell_type": "markdown",
   "metadata": {},
   "source": [
    "#### Link prediction methods"
   ]
  },
  {
   "cell_type": "code",
   "execution_count": 1,
   "metadata": {},
   "outputs": [],
   "source": [
    "import numpy as np\n",
    "from Sampling import sample_graph, get_modified_at_array, truncate_playlists\n",
    "from Evaluation import evaluation_run\n",
    "from Rankings import RandomWalk, PreferentialAttachment\n",
    "import random"
   ]
  },
  {
   "cell_type": "code",
   "execution_count": 2,
   "metadata": {},
   "outputs": [],
   "source": [
    "#CHANGE THIS DEPENDING ON YOUR DATA LOCATION\n",
    "path = \"DATA/\"\n",
    "num_files = 1000 ## 1000 == all files"
   ]
  },
  {
   "cell_type": "code",
   "execution_count": 3,
   "metadata": {},
   "outputs": [],
   "source": [
    "random.seed(0)"
   ]
  },
  {
   "cell_type": "code",
   "execution_count": 4,
   "metadata": {
    "scrolled": false
   },
   "outputs": [
    {
     "name": "stdout",
     "output_type": "stream",
     "text": [
      "1000/1000; time elapsed: 18.0 min 7.6 sec\n",
      "Time elapsed: 18.0 min  7.571621000010055 sec\n",
      "n:4234574, m:66396224; \n",
      "23390 test playlists; mean len: 11.046814878153057\n",
      "num test playlists with len > 9: 23390\n"
     ]
    }
   ],
   "source": [
    "G, test_playlists = sample_graph(num_files=num_files, verbose=True, path=path, testSplit=True, include_albums=True, include_artists=True)\n",
    "test_playlists = truncate_playlists(test_playlists)"
   ]
  },
  {
   "attachments": {},
   "cell_type": "markdown",
   "metadata": {},
   "source": [
    "### Using 3 songs in personalization vector"
   ]
  },
  {
   "cell_type": "code",
   "execution_count": 5,
   "metadata": {},
   "outputs": [
    {
     "name": "stdout",
     "output_type": "stream",
     "text": [
      "31.2%; time elapsed: 184.0 min 48.5 sec\r"
     ]
    }
   ],
   "source": [
    "#Preferential Attachment ful časa traja - prišpari za čez noč\n",
    "#results = evaluation_run(G, test_playlists[:15], [RandomWalk, PreferentialAttachment], verbose=True, persvec_lengths=10,ignore_short_playlists=True)\n",
    "results = evaluation_run(G, test_playlists, [RandomWalk], verbose=True, persvec_lengths=[3], ignore_short_playlists=True)"
   ]
  },
  {
   "cell_type": "code",
   "execution_count": null,
   "metadata": {},
   "outputs": [
    {
     "name": "stdout",
     "output_type": "stream",
     "text": [
      "RandomWalk [3 initials] MEAN: 0.09414929950339616\n"
     ]
    }
   ],
   "source": [
    "for result in results:\n",
    "    print(f\"{result} MEAN: {np.mean(results[result])}\")"
   ]
  },
  {
   "attachments": {},
   "cell_type": "markdown",
   "metadata": {},
   "source": [
    "### Using 5 songs in personalization vector"
   ]
  },
  {
   "cell_type": "code",
   "execution_count": null,
   "metadata": {},
   "outputs": [
    {
     "name": "stdout",
     "output_type": "stream",
     "text": [
      "31.2%; time elapsed: 184.0 min 48.5 sec\r"
     ]
    }
   ],
   "source": [
    "#Preferential Attachment ful časa traja - prišpari za čez noč\n",
    "#results = evaluation_run(G, test_playlists[:15], [RandomWalk, PreferentialAttachment], verbose=True, persvec_lengths=10,ignore_short_playlists=True)\n",
    "results = evaluation_run(G, test_playlists, [RandomWalk], verbose=True, persvec_lengths=[5], ignore_short_playlists=True)"
   ]
  },
  {
   "cell_type": "code",
   "execution_count": null,
   "metadata": {},
   "outputs": [
    {
     "name": "stdout",
     "output_type": "stream",
     "text": [
      "RandomWalk [3 initials] MEAN: 0.09414929950339616\n"
     ]
    }
   ],
   "source": [
    "for result in results:\n",
    "    print(f\"{result} MEAN: {np.mean(results[result])}\")"
   ]
  }
 ],
 "metadata": {
  "kernelspec": {
   "display_name": "Python 3",
   "language": "python",
   "name": "python3"
  },
  "language_info": {
   "codemirror_mode": {
    "name": "ipython",
    "version": 3
   },
   "file_extension": ".py",
   "mimetype": "text/x-python",
   "name": "python",
   "nbconvert_exporter": "python",
   "pygments_lexer": "ipython3",
   "version": "3.10.6"
  }
 },
 "nbformat": 4,
 "nbformat_minor": 4
}
