{
 "cells": [
  {
   "attachments": {},
   "cell_type": "markdown",
   "metadata": {},
   "source": [
    "#### Link prediction methods"
   ]
  },
  {
   "cell_type": "code",
   "execution_count": 3,
   "metadata": {},
   "outputs": [],
   "source": [
    "import numpy as np\n",
    "from Sampling import sample_graph, get_modified_at_array, truncate_playlists\n",
    "from Evaluation import evaluation_run\n",
    "from Rankings import RandomWalk, PreferentialAttachment\n",
    "import random"
   ]
  },
  {
   "cell_type": "code",
   "execution_count": 4,
   "metadata": {},
   "outputs": [],
   "source": [
    "#CHANGE THIS DEPENDING ON YOUR DATA LOCATION\n",
    "path = \"DATA/\"\n",
    "num_files = 150 ## 1000 == all files"
   ]
  },
  {
   "attachments": {},
   "cell_type": "markdown",
   "metadata": {},
   "source": [
    "#### Without artist/albums"
   ]
  },
  {
   "cell_type": "code",
   "execution_count": 3,
   "metadata": {},
   "outputs": [],
   "source": [
    "random.seed(0)"
   ]
  },
  {
   "cell_type": "code",
   "execution_count": 4,
   "metadata": {
    "scrolled": false
   },
   "outputs": [
    {
     "name": "stdout",
     "output_type": "stream",
     "text": [
      "150/150; time elapsed: 1.0 min 8.1 secc\n",
      "Time elapsed: 1.0 min  8.146330099989427 sec\n",
      "n:990911, m:9496891; \n",
      "3493 test playlists; mean len: 11.054108216432866\n",
      "num test playlists with len > 9: 3493\n"
     ]
    }
   ],
   "source": [
    "G, test_playlists = sample_graph(num_files=num_files, verbose=True, path=path, testSplit=True, include_albums=False, include_artists=False)\n",
    "test_playlists = truncate_playlists(test_playlists)"
   ]
  },
  {
   "cell_type": "code",
   "execution_count": 5,
   "metadata": {},
   "outputs": [
    {
     "name": "stdout",
     "output_type": "stream",
     "text": [
      "100.0%; time elapsed: 11.0 min 57.6 sec\n",
      "Number of exceptions (should be 0 in complete graph): 808 out of 6872 (11.8%)\n"
     ]
    }
   ],
   "source": [
    "#Preferential Attachment ful časa traja - prišpari za čez noč\n",
    "#results = evaluation_run(G, test_playlists[:15], [RandomWalk, PreferentialAttachment], verbose=True, persvec_lengths=10,ignore_short_playlists=True)\n",
    "results = evaluation_run(G, test_playlists, [RandomWalk], verbose=True, persvec_lengths=[3, 5], ignore_short_playlists=True)"
   ]
  },
  {
   "cell_type": "code",
   "execution_count": 6,
   "metadata": {},
   "outputs": [
    {
     "name": "stdout",
     "output_type": "stream",
     "text": [
      "RandomWalk [3 initials] MEAN: 0.1165168362070852\n",
      "RandomWalk [5 initials] MEAN: 0.11620313093396333\n"
     ]
    }
   ],
   "source": [
    "for result in results:\n",
    "    print(f\"{result} MEAN: {np.mean(results[result])}\")"
   ]
  },
  {
   "attachments": {},
   "cell_type": "markdown",
   "metadata": {},
   "source": [
    "#### Without albums, With artists"
   ]
  },
  {
   "cell_type": "code",
   "execution_count": 7,
   "metadata": {},
   "outputs": [],
   "source": [
    "random.seed(0)"
   ]
  },
  {
   "cell_type": "code",
   "execution_count": 8,
   "metadata": {},
   "outputs": [
    {
     "name": "stdout",
     "output_type": "stream",
     "text": [
      "150/150; time elapsed: 1.0 min 26.5 sec\n",
      "Time elapsed: 1.0 min  26.504428300017025 sec\n",
      "n:1121364, m:10341295; \n",
      "3493 test playlists; mean len: 11.054108216432866\n",
      "num test playlists with len > 9: 3493\n"
     ]
    }
   ],
   "source": [
    "G, test_playlists = sample_graph(num_files=num_files, verbose=True, path=path, testSplit=True, include_albums=False, include_artists=True)\n",
    "test_playlists = truncate_playlists(test_playlists)"
   ]
  },
  {
   "cell_type": "code",
   "execution_count": 9,
   "metadata": {},
   "outputs": [
    {
     "name": "stdout",
     "output_type": "stream",
     "text": [
      "100.0%; time elapsed: 12.0 min 41.6 sec\n",
      "Number of exceptions (should be 0 in complete graph): 809 out of 6872 (11.8%)\n"
     ]
    }
   ],
   "source": [
    "#Preferential Attachment ful časa traja - prišpari za čez noč\n",
    "#results = evaluation_run(G, test_playlists[:15], [RandomWalk, PreferentialAttachment], verbose=True, persvec_lengths=10,ignore_short_playlists=True)\n",
    "results = evaluation_run(G, test_playlists, [RandomWalk], verbose=True, persvec_lengths=[3, 5], ignore_short_playlists=True)"
   ]
  },
  {
   "cell_type": "code",
   "execution_count": 10,
   "metadata": {},
   "outputs": [
    {
     "name": "stdout",
     "output_type": "stream",
     "text": [
      "RandomWalk [3 initials] MEAN: 0.11572210517920029\n",
      "RandomWalk [5 initials] MEAN: 0.11568398130833216\n"
     ]
    }
   ],
   "source": [
    "for result in results:\n",
    "    print(f\"{result} MEAN: {np.mean(results[result])}\")"
   ]
  },
  {
   "attachments": {},
   "cell_type": "markdown",
   "metadata": {},
   "source": [
    "#### Without artists, With albums"
   ]
  },
  {
   "cell_type": "code",
   "execution_count": 11,
   "metadata": {},
   "outputs": [],
   "source": [
    "random.seed(0)"
   ]
  },
  {
   "cell_type": "code",
   "execution_count": 12,
   "metadata": {},
   "outputs": [
    {
     "name": "stdout",
     "output_type": "stream",
     "text": [
      "150/150; time elapsed: 1.0 min 28.4 sec\n",
      "Time elapsed: 1.0 min  28.378331599989906 sec\n",
      "n:1315367, m:10341295; \n",
      "3493 test playlists; mean len: 11.054108216432866\n",
      "num test playlists with len > 9: 3493\n"
     ]
    }
   ],
   "source": [
    "G, test_playlists = sample_graph(num_files=num_files, verbose=True, path=path, testSplit=True, include_albums=True, include_artists=False)\n",
    "test_playlists = truncate_playlists(test_playlists)"
   ]
  },
  {
   "cell_type": "code",
   "execution_count": 13,
   "metadata": {},
   "outputs": [
    {
     "name": "stdout",
     "output_type": "stream",
     "text": [
      "100.0%; time elapsed: 12.0 min 44.7 sec\n",
      "Number of exceptions (should be 0 in complete graph): 786 out of 6872 (11.4%)\n"
     ]
    }
   ],
   "source": [
    "#Preferential Attachment ful časa traja - prišpari za čez noč\n",
    "#results = evaluation_run(G, test_playlists[:15], [RandomWalk, PreferentialAttachment], verbose=True, persvec_lengths=10,ignore_short_playlists=True)\n",
    "results = evaluation_run(G, test_playlists, [RandomWalk], verbose=True, persvec_lengths=[3, 5], ignore_short_playlists=True)"
   ]
  },
  {
   "cell_type": "code",
   "execution_count": 14,
   "metadata": {},
   "outputs": [
    {
     "name": "stdout",
     "output_type": "stream",
     "text": [
      "RandomWalk [3 initials] MEAN: 0.11625163532529038\n",
      "RandomWalk [5 initials] MEAN: 0.11746190217075761\n"
     ]
    }
   ],
   "source": [
    "for result in results:\n",
    "    print(f\"{result} MEAN: {np.mean(results[result])}\")"
   ]
  },
  {
   "attachments": {},
   "cell_type": "markdown",
   "metadata": {},
   "source": [
    "#### With albums and artists"
   ]
  },
  {
   "cell_type": "code",
   "execution_count": 15,
   "metadata": {},
   "outputs": [],
   "source": [
    "random.seed(0)"
   ]
  },
  {
   "cell_type": "code",
   "execution_count": 16,
   "metadata": {},
   "outputs": [
    {
     "name": "stdout",
     "output_type": "stream",
     "text": [
      "150/150; time elapsed: 1.0 min 52.2 sec\n",
      "Time elapsed: 1.0 min  52.24187979998533 sec\n",
      "n:1445820, m:10697885; \n",
      "3493 test playlists; mean len: 11.054108216432866\n",
      "num test playlists with len > 9: 3493\n"
     ]
    }
   ],
   "source": [
    "G, test_playlists = sample_graph(num_files=num_files, verbose=True, path=path, testSplit=True, include_albums=True, include_artists=True)\n",
    "test_playlists = truncate_playlists(test_playlists)"
   ]
  },
  {
   "cell_type": "code",
   "execution_count": 17,
   "metadata": {},
   "outputs": [
    {
     "name": "stdout",
     "output_type": "stream",
     "text": [
      "100.0%; time elapsed: 12.0 min 48.4 sec\n",
      "Number of exceptions (should be 0 in complete graph): 808 out of 6872 (11.8%)\n"
     ]
    }
   ],
   "source": [
    "#Preferential Attachment ful časa traja - prišpari za čez noč\n",
    "#results = evaluation_run(G, test_playlists[:15], [RandomWalk, PreferentialAttachment], verbose=True, persvec_lengths=10,ignore_short_playlists=True)\n",
    "results = evaluation_run(G, test_playlists, [RandomWalk], verbose=True, persvec_lengths=[3, 5], ignore_short_playlists=True)"
   ]
  },
  {
   "cell_type": "code",
   "execution_count": 18,
   "metadata": {},
   "outputs": [
    {
     "name": "stdout",
     "output_type": "stream",
     "text": [
      "RandomWalk [3 initials] MEAN: 0.1173826335902258\n",
      "RandomWalk [5 initials] MEAN: 0.12041531831975806\n"
     ]
    }
   ],
   "source": [
    "for result in results:\n",
    "    print(f\"{result} MEAN: {np.mean(results[result])}\")"
   ]
  },
  {
   "cell_type": "code",
   "execution_count": null,
   "metadata": {},
   "outputs": [],
   "source": []
  }
 ],
 "metadata": {
  "kernelspec": {
   "display_name": "Python 3",
   "language": "python",
   "name": "python3"
  },
  "language_info": {
   "codemirror_mode": {
    "name": "ipython",
    "version": 3
   },
   "file_extension": ".py",
   "mimetype": "text/x-python",
   "name": "python",
   "nbconvert_exporter": "python",
   "pygments_lexer": "ipython3",
   "version": "3.10.6"
  }
 },
 "nbformat": 4,
 "nbformat_minor": 4
}
