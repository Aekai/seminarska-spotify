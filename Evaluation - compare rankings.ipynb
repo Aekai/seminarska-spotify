{
 "cells": [
  {
   "attachments": {},
   "cell_type": "markdown",
   "metadata": {},
   "source": [
    "#### Link prediction methods"
   ]
  },
  {
   "cell_type": "code",
   "execution_count": 1,
   "metadata": {},
   "outputs": [],
   "source": [
    "import numpy as np\n",
    "from Sampling import sample_graph, get_modified_at_array, truncate_playlists\n",
    "from Evaluation import evaluation_run\n",
    "from Rankings import RandomWalk, PreferentialAttachment\n",
    "import random"
   ]
  },
  {
   "cell_type": "code",
   "execution_count": 2,
   "metadata": {},
   "outputs": [],
   "source": [
    "#CHANGE THIS DEPENDING ON YOUR DATA LOCATION\n",
    "path = \"DATA/\"\n",
    "num_files = 10 ## 1000 == all files"
   ]
  },
  {
   "attachments": {},
   "cell_type": "markdown",
   "metadata": {},
   "source": [
    "#### Without artist/albums"
   ]
  },
  {
   "cell_type": "code",
   "execution_count": 3,
   "metadata": {},
   "outputs": [],
   "source": [
    "random.seed(0)"
   ]
  },
  {
   "cell_type": "code",
   "execution_count": 4,
   "metadata": {
    "scrolled": false
   },
   "outputs": [
    {
     "name": "stdout",
     "output_type": "stream",
     "text": [
      "10/10; time elapsed: 0.0 min 5.2 sec\n",
      "Time elapsed: 0.0 min  5.171618299995316 sec\n",
      "n:178941, m:639038; \n"
     ]
    }
   ],
   "source": [
    "G, test_playlists = sample_graph(num_files=num_files, verbose=True, path=path, testSplit=True, include_albums=False, include_artists=False)\n",
    "test_playlists = truncate_playlists(test_playlists)"
   ]
  },
  {
   "cell_type": "code",
   "execution_count": 5,
   "metadata": {},
   "outputs": [
    {
     "name": "stdout",
     "output_type": "stream",
     "text": [
      "100.0%; time elapsed: 2.0 min 30.2 sec\n",
      "Number of exceptions (should be 0 in complete graph): 163 out of 454 (35.9%)\n"
     ]
    }
   ],
   "source": [
    "#Preferential Attachment ful časa traja - prišpari za čez noč\n",
    "#results = evaluation_run(G, test_playlists[:15], [RandomWalk, PreferentialAttachment], verbose=True, persvec_lengths=10,ignore_short_playlists=True)\n",
    "results = evaluation_run(G, test_playlists, [RandomWalk, PreferentialAttachment], verbose=True, persvec_lengths=[3, 5], ignore_short_playlists=True)"
   ]
  },
  {
   "cell_type": "code",
   "execution_count": 6,
   "metadata": {},
   "outputs": [
    {
     "name": "stdout",
     "output_type": "stream",
     "text": [
      "RandomWalk [3 initials] MEAN: 0.1150059111048596\n",
      "RandomWalk [5 initials] MEAN: 0.12283162790809878\n",
      "PreferentialAttachment [3 initials] MEAN: 0.05816663959262323\n",
      "PreferentialAttachment [5 initials] MEAN: 0.060389423715085086\n"
     ]
    }
   ],
   "source": [
    "for result in results:\n",
    "    print(f\"{result} MEAN: {np.mean(results[result])}\")"
   ]
  },
  {
   "attachments": {},
   "cell_type": "markdown",
   "metadata": {},
   "source": [
    "#### Without albums, With artists"
   ]
  },
  {
   "cell_type": "code",
   "execution_count": 7,
   "metadata": {},
   "outputs": [],
   "source": [
    "random.seed(0)"
   ]
  },
  {
   "cell_type": "code",
   "execution_count": 8,
   "metadata": {},
   "outputs": [
    {
     "name": "stdout",
     "output_type": "stream",
     "text": [
      "10/10; time elapsed: 0.0 min 5.6 sec\n",
      "Time elapsed: 0.0 min  5.5964592000236735 sec\n",
      "n:215209, m:808212; \n"
     ]
    }
   ],
   "source": [
    "G, test_playlists = sample_graph(num_files=num_files, verbose=True, path=path, testSplit=True, include_albums=False, include_artists=True)\n",
    "test_playlists = truncate_playlists(test_playlists)"
   ]
  },
  {
   "cell_type": "code",
   "execution_count": 9,
   "metadata": {},
   "outputs": [
    {
     "name": "stdout",
     "output_type": "stream",
     "text": [
      "100.0%; time elapsed: 2.0 min 35.0 sec\n",
      "Number of exceptions (should be 0 in complete graph): 176 out of 454 (38.8%)\n"
     ]
    }
   ],
   "source": [
    "#Preferential Attachment ful časa traja - prišpari za čez noč\n",
    "#results = evaluation_run(G, test_playlists[:15], [RandomWalk, PreferentialAttachment], verbose=True, persvec_lengths=10,ignore_short_playlists=True)\n",
    "results = evaluation_run(G, test_playlists, [RandomWalk, PreferentialAttachment], verbose=True, persvec_lengths=[3, 5], ignore_short_playlists=True)"
   ]
  },
  {
   "cell_type": "code",
   "execution_count": 10,
   "metadata": {},
   "outputs": [
    {
     "name": "stdout",
     "output_type": "stream",
     "text": [
      "RandomWalk [3 initials] MEAN: 0.12226860531322362\n",
      "RandomWalk [5 initials] MEAN: 0.1180711078200653\n",
      "PreferentialAttachment [3 initials] MEAN: 0.06085556059252743\n",
      "PreferentialAttachment [5 initials] MEAN: 0.0613891212277057\n"
     ]
    }
   ],
   "source": [
    "for result in results:\n",
    "    print(f\"{result} MEAN: {np.mean(results[result])}\")"
   ]
  },
  {
   "attachments": {},
   "cell_type": "markdown",
   "metadata": {},
   "source": [
    "#### Without artists, With albums"
   ]
  },
  {
   "cell_type": "code",
   "execution_count": 15,
   "metadata": {},
   "outputs": [],
   "source": [
    "random.seed(0)"
   ]
  },
  {
   "cell_type": "code",
   "execution_count": 16,
   "metadata": {},
   "outputs": [
    {
     "name": "stdout",
     "output_type": "stream",
     "text": [
      "10/10; time elapsed: 0.0 min 6.1 sec\n",
      "Time elapsed: 0.0 min  6.077169500000309 sec\n",
      "n:261577, m:808212; \n"
     ]
    }
   ],
   "source": [
    "G, test_playlists = sample_graph(num_files=num_files, verbose=True, path=path, testSplit=True, include_albums=True, include_artists=False)\n",
    "test_playlists = truncate_playlists(test_playlists)"
   ]
  },
  {
   "cell_type": "code",
   "execution_count": 17,
   "metadata": {},
   "outputs": [
    {
     "name": "stdout",
     "output_type": "stream",
     "text": [
      "99.8%; time elapsed: 2.0 min 51.2 sec\n",
      "Number of exceptions (should be 0 in complete graph): 168 out of 454 (37.0%)\n"
     ]
    }
   ],
   "source": [
    "#Preferential Attachment ful časa traja - prišpari za čez noč\n",
    "#results = evaluation_run(G, test_playlists[:15], [RandomWalk, PreferentialAttachment], verbose=True, persvec_lengths=10,ignore_short_playlists=True)\n",
    "results = evaluation_run(G, test_playlists, [RandomWalk, PreferentialAttachment], verbose=True, persvec_lengths=[3, 5], ignore_short_playlists=True)"
   ]
  },
  {
   "cell_type": "code",
   "execution_count": 18,
   "metadata": {},
   "outputs": [
    {
     "name": "stdout",
     "output_type": "stream",
     "text": [
      "RandomWalk [3 initials] MEAN: 0.10838625879618277\n",
      "RandomWalk [5 initials] MEAN: 0.12208059278501406\n",
      "PreferentialAttachment [3 initials] MEAN: 0.06027318772178189\n",
      "PreferentialAttachment [5 initials] MEAN: 0.06459423598666662\n"
     ]
    }
   ],
   "source": [
    "for result in results:\n",
    "    print(f\"{result} MEAN: {np.mean(results[result])}\")"
   ]
  },
  {
   "attachments": {},
   "cell_type": "markdown",
   "metadata": {},
   "source": [
    "#### With albums and artists"
   ]
  },
  {
   "cell_type": "code",
   "execution_count": 11,
   "metadata": {},
   "outputs": [],
   "source": [
    "random.seed(0)"
   ]
  },
  {
   "cell_type": "code",
   "execution_count": 12,
   "metadata": {},
   "outputs": [
    {
     "name": "stdout",
     "output_type": "stream",
     "text": [
      "10/10; time elapsed: 0.0 min 7.3 sec\n",
      "Time elapsed: 0.0 min  7.266087800002424 sec\n",
      "n:297845, m:894996; \n"
     ]
    }
   ],
   "source": [
    "G, test_playlists = sample_graph(num_files=num_files, verbose=True, path=path, testSplit=True, include_albums=True, include_artists=True)\n",
    "test_playlists = truncate_playlists(test_playlists)"
   ]
  },
  {
   "cell_type": "code",
   "execution_count": 13,
   "metadata": {},
   "outputs": [
    {
     "name": "stdout",
     "output_type": "stream",
     "text": [
      "100.0%; time elapsed: 2.0 min 57.7 sec\n",
      "Number of exceptions (should be 0 in complete graph): 171 out of 454 (37.7%)\n"
     ]
    }
   ],
   "source": [
    "#Preferential Attachment ful časa traja - prišpari za čez noč\n",
    "#results = evaluation_run(G, test_playlists[:15], [RandomWalk, PreferentialAttachment], verbose=True, persvec_lengths=10,ignore_short_playlists=True)\n",
    "results = evaluation_run(G, test_playlists, [RandomWalk, PreferentialAttachment], verbose=True, persvec_lengths=[3, 5], ignore_short_playlists=True)"
   ]
  },
  {
   "cell_type": "code",
   "execution_count": 14,
   "metadata": {},
   "outputs": [
    {
     "name": "stdout",
     "output_type": "stream",
     "text": [
      "RandomWalk [3 initials] MEAN: 0.11940126004378593\n",
      "RandomWalk [5 initials] MEAN: 0.12237579315663331\n",
      "PreferentialAttachment [3 initials] MEAN: 0.061546041165725145\n",
      "PreferentialAttachment [5 initials] MEAN: 0.06160906817952433\n"
     ]
    }
   ],
   "source": [
    "for result in results:\n",
    "    print(f\"{result} MEAN: {np.mean(results[result])}\")"
   ]
  },
  {
   "cell_type": "code",
   "execution_count": null,
   "metadata": {},
   "outputs": [],
   "source": []
  }
 ],
 "metadata": {
  "kernelspec": {
   "display_name": "Python 3",
   "language": "python",
   "name": "python3"
  },
  "language_info": {
   "codemirror_mode": {
    "name": "ipython",
    "version": 3
   },
   "file_extension": ".py",
   "mimetype": "text/x-python",
   "name": "python",
   "nbconvert_exporter": "python",
   "pygments_lexer": "ipython3",
   "version": "3.10.6"
  }
 },
 "nbformat": 4,
 "nbformat_minor": 4
}
