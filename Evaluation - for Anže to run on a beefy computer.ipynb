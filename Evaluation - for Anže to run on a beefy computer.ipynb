{
 "cells": [
  {
   "cell_type": "markdown",
   "metadata": {},
   "source": [
    "#### Link prediction methods"
   ]
  },
  {
   "cell_type": "code",
   "execution_count": 7,
   "metadata": {},
   "outputs": [],
   "source": [
    "import numpy as np\n",
    "from Sampling import sample_graph, get_modified_at_array, truncate_playlists\n",
    "from Evaluation import evaluation_run\n",
    "from Rankings import RandomWalk, PreferentialAttachment"
   ]
  },
  {
   "cell_type": "code",
   "execution_count": 8,
   "metadata": {},
   "outputs": [],
   "source": [
    "#CHANGE THIS DEPENDING ON YOUR DATA LOCATION\n",
    "path = \"DATA/\""
   ]
  },
  {
   "cell_type": "code",
   "execution_count": 9,
   "metadata": {
    "scrolled": false
   },
   "outputs": [
    {
     "name": "stdout",
     "output_type": "stream",
     "text": [
      "20/20; time elapsed: 0.0 min 19.7 sec\n",
      "Time elapsed: 0.0 min  19.6901369 sec\n",
      "n:241387, m:979225; \n"
     ]
    }
   ],
   "source": [
    "G, test_playlists = sample_graph(num_files=20, verbose=True, path=path, testSplit=True, include_albums=False, include_artists=False)\n",
    "test_playlists = truncate_playlists(test_playlists)"
   ]
  },
  {
   "cell_type": "code",
   "execution_count": 15,
   "metadata": {},
   "outputs": [
    {
     "name": "stdout",
     "output_type": "stream",
     "text": [
      "Number of exceptions (should be 0 in complete graph): 4198 out of 16380 (25.6%)\n"
     ]
    }
   ],
   "source": [
    "#Preferential Attachment ful časa traja - prišpari za čez noč\n",
    "#results = evaluation_run(G, test_playlists[:15], [RandomWalk, PreferentialAttachment], verbose=True, persvec_lengths=10,ignore_short_playlists=True)\n",
    "results = evaluation_run(G, test_playlists, [RandomWalk], verbose=True, persvec_lengths=4)"
   ]
  },
  {
   "cell_type": "code",
   "execution_count": 16,
   "metadata": {},
   "outputs": [
    {
     "name": "stdout",
     "output_type": "stream",
     "text": [
      "RandomWalk [1 initials] MEAN: 0.09626172482049498\n",
      "RandomWalk [2 initials] MEAN: 0.10647464423640446\n",
      "RandomWalk [3 initials] MEAN: 0.11224955770851604\n",
      "RandomWalk [4 initials] MEAN: 0.1129966738115143\n"
     ]
    }
   ],
   "source": [
    "for result in results:\n",
    "    print(f\"{result} MEAN: {np.mean(results[result])}\")"
   ]
  },
  {
   "cell_type": "code",
   "execution_count": null,
   "metadata": {},
   "outputs": [],
   "source": []
  }
 ],
 "metadata": {
  "kernelspec": {
   "display_name": "Python 3",
   "language": "python",
   "name": "python3"
  },
  "language_info": {
   "codemirror_mode": {
    "name": "ipython",
    "version": 3
   },
   "file_extension": ".py",
   "mimetype": "text/x-python",
   "name": "python",
   "nbconvert_exporter": "python",
   "pygments_lexer": "ipython3",
   "version": "3.8.3"
  }
 },
 "nbformat": 4,
 "nbformat_minor": 4
}
