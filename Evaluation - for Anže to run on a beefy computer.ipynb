{
 "cells": [
  {
   "attachments": {},
   "cell_type": "markdown",
   "metadata": {},
   "source": [
    "#### Link prediction methods"
   ]
  },
  {
   "cell_type": "code",
   "execution_count": 4,
   "metadata": {},
   "outputs": [],
   "source": [
    "import numpy as np\n",
    "from Sampling import sample_graph, get_modified_at_array, truncate_playlists\n",
    "from Evaluation import evaluation_run\n",
    "from Rankings import RandomWalk, PreferentialAttachment"
   ]
  },
  {
   "cell_type": "code",
   "execution_count": 5,
   "metadata": {},
   "outputs": [],
   "source": [
    "#CHANGE THIS DEPENDING ON YOUR DATA LOCATION\n",
    "path = \"DATA/\""
   ]
  },
  {
   "cell_type": "code",
   "execution_count": 6,
   "metadata": {
    "scrolled": false
   },
   "outputs": [
    {
     "name": "stdout",
     "output_type": "stream",
     "text": [
      "150/150; time elapsed: 1.0 min 48.8 sec\n",
      "Time elapsed: 1.0 min  48.78061319998233 sec\n",
      "n:876419, m:7257983; \n"
     ]
    }
   ],
   "source": [
    "G, test_playlists = sample_graph(num_files=150, verbose=True, path=path, testSplit=True, include_albums=False, include_artists=False)\n",
    "test_playlists = truncate_playlists(test_playlists)"
   ]
  },
  {
   "cell_type": "code",
   "execution_count": 7,
   "metadata": {},
   "outputs": [
    {
     "name": "stdout",
     "output_type": "stream",
     "text": [
      "Number of exceptions (should be 0 in complete graph): 14254 out of 121944 (11.7%)\n"
     ]
    }
   ],
   "source": [
    "#Preferential Attachment ful časa traja - prišpari za čez noč\n",
    "#results = evaluation_run(G, test_playlists[:15], [RandomWalk, PreferentialAttachment], verbose=True, persvec_lengths=10,ignore_short_playlists=True)\n",
    "results = evaluation_run(G, test_playlists, [RandomWalk], verbose=True, persvec_lengths=4)"
   ]
  },
  {
   "cell_type": "code",
   "execution_count": 8,
   "metadata": {},
   "outputs": [
    {
     "name": "stdout",
     "output_type": "stream",
     "text": [
      "RandomWalk [1 initials] MEAN: 0.10151911896149456\n",
      "RandomWalk [2 initials] MEAN: 0.10803596747996327\n",
      "RandomWalk [3 initials] MEAN: 0.10993609788082803\n",
      "RandomWalk [4 initials] MEAN: 0.1101342948078047\n"
     ]
    }
   ],
   "source": [
    "for result in results:\n",
    "    print(f\"{result} MEAN: {np.mean(results[result])}\")"
   ]
  },
  {
   "cell_type": "code",
   "execution_count": null,
   "metadata": {},
   "outputs": [],
   "source": []
  }
 ],
 "metadata": {
  "kernelspec": {
   "display_name": "Python 3",
   "language": "python",
   "name": "python3"
  },
  "language_info": {
   "codemirror_mode": {
    "name": "ipython",
    "version": 3
   },
   "file_extension": ".py",
   "mimetype": "text/x-python",
   "name": "python",
   "nbconvert_exporter": "python",
   "pygments_lexer": "ipython3",
   "version": "3.10.6"
  }
 },
 "nbformat": 4,
 "nbformat_minor": 4
}
