{
 "cells": [
  {
   "cell_type": "code",
   "execution_count": 1,
   "metadata": {},
   "outputs": [],
   "source": [
    "import networkx as nx\n",
    "import timeit\n",
    "import numpy as np\n",
    "import pandas as pd\n",
    "import json\n",
    "import random\n",
    "import pickle\n",
    "from math import log\n",
    "from collections import Counter\n",
    "import matplotlib.pyplot as plt"
   ]
  },
  {
   "cell_type": "markdown",
   "metadata": {},
   "source": [
    "read files to get all modified_at timestamps:"
   ]
  },
  {
   "cell_type": "code",
   "execution_count": 17,
   "metadata": {},
   "outputs": [
    {
     "name": "stdout",
     "output_type": "stream",
     "text": [
      "1/1; n:0, m:0; time elapsed: 0.0 min 1.7 sec\r",
      "n:0, m:0\n",
      "Time elapsed (minutes): 0.028635004999997212\n"
     ]
    }
   ],
   "source": [
    "start = timeit.default_timer()\n",
    "\n",
    "# todo? add different weights to connections between song and artist/album/playlist in the graph??\n",
    "G = nx.Graph()\n",
    "num_files = 1000 # 1000 == all files\n",
    "trim_start=len(\"spotify:\")\n",
    "playlist_times = np.empty(num_files * 1000)\n",
    "for i in range(num_files):\n",
    "    lb = i*1000\n",
    "    ub = lb+999\n",
    "    #print(f\"mpd.slice.{lb}-{ub}.json\")\n",
    "    filename = f\"spotify_million_playlist_dataset/data/mpd.slice.{lb}-{ub}.json\"\n",
    "    with open(filename) as read_file:\n",
    "        tmp = json.load(read_file)\n",
    "        for playlist in tmp[\"playlists\"]:\n",
    "            playlist_times[playlist[\"pid\"]] = (playlist[\"modified_at\"])\n",
    "\n",
    "    time_elapsed = timeit.default_timer() - start\n",
    "    mins_elapsed = (time_elapsed)//60\n",
    "    secs_elapsed = time_elapsed % 60\n",
    "    print(f\"{i+1}/{num_files}; n:{G.number_of_nodes()}, m:{G.number_of_edges()}; time elapsed: {mins_elapsed:02} min {secs_elapsed:02.1f} sec\", end=\"\\r\")\n",
    "print(f\"n:{G.number_of_nodes()}, m:{G.number_of_edges()}\")\n",
    "\n",
    "stop = timeit.default_timer()\n",
    "print('Time elapsed (minutes):', (stop - start)/60)  "
   ]
  },
  {
   "cell_type": "code",
   "execution_count": 39,
   "metadata": {},
   "outputs": [
    {
     "data": {
      "text/plain": [
       "count                          1000000\n",
       "mean     2016-10-12 13:36:12.729600256\n",
       "min                2010-04-16 00:00:00\n",
       "25%                2016-03-26 00:00:00\n",
       "50%                2017-03-23 00:00:00\n",
       "75%                2017-09-15 00:00:00\n",
       "max                2017-11-01 00:00:00\n",
       "dtype: object"
      ]
     },
     "execution_count": 39,
     "metadata": {},
     "output_type": "execute_result"
    }
   ],
   "source": [
    "ser = pd.Series(playlist_times)\n",
    "ser = pd.to_datetime(ser, unit='s', errors='coerce')\n",
    "# ser = ser[ser > pd.Timestamp(\"2000-01-01 00:00:00\")]\n",
    "ser.describe()"
   ]
  },
  {
   "cell_type": "code",
   "execution_count": 48,
   "metadata": {},
   "outputs": [
    {
     "data": {
      "text/plain": [
       "numpy.datetime64('2017-10-03T00:00:00.000000000')"
      ]
     },
     "execution_count": 48,
     "metadata": {},
     "output_type": "execute_result"
    }
   ],
   "source": [
    "np.percentile(ser, 80)"
   ]
  },
  {
   "cell_type": "code",
   "execution_count": 52,
   "metadata": {},
   "outputs": [
    {
     "data": {
      "text/plain": [
       "249413"
      ]
     },
     "execution_count": 52,
     "metadata": {},
     "output_type": "execute_result"
    }
   ],
   "source": [
    "np.count_nonzero(ser > pd.Timestamp(\"2017-09-15 00:00:00\"))"
   ]
  },
  {
   "cell_type": "code",
   "execution_count": 40,
   "metadata": {},
   "outputs": [
    {
     "data": {
      "text/plain": [
       "<Axes: >"
      ]
     },
     "execution_count": 40,
     "metadata": {},
     "output_type": "execute_result"
    },
    {
     "data": {
      "image/png": "[encoded data removed]",
      "text/plain": [
       "<Figure size 640x480 with 1 Axes>"
      ]
     },
     "metadata": {},
     "output_type": "display_data"
    }
   ],
   "source": [
    "ser.hist(xrot=90, bins=20)"
   ]
  },
  {
   "cell_type": "code",
   "execution_count": 2,
   "metadata": {},
   "outputs": [],
   "source": [
    "random.seed(0)"
   ]
  },
  {
   "cell_type": "code",
   "execution_count": 2,
   "metadata": {},
   "outputs": [
    {
     "name": "stdout",
     "output_type": "stream",
     "text": [
      "100/100; n:1163281, m:7566862; time elapsed: 4.0 min 20.5 sec\n",
      "n:1163281, m:7566862\n",
      "Time elapsed (minutes): 4.423877210000001\n"
     ]
    }
   ],
   "source": [
    "start = timeit.default_timer()\n",
    "\n",
    "#to calculate statistics about artists\n",
    "total_playlists = 0\n",
    "total_tracks = 0\n",
    "tracks = set()\n",
    "artists = set()\n",
    "albums = set()\n",
    "titles = set()\n",
    "\n",
    "# todo? add different weights to connections between song and artist/album/playlist in the graph??\n",
    "G = nx.Graph()\n",
    "num_files = 999 # 999 == all files\n",
    "trim_start=len(\"spotify:\")\n",
    "for i in range(num_files):\n",
    "    lb = i*1000\n",
    "    ub = lb+999\n",
    "    #print(f\"mpd.slice.{lb}-{ub}.json\")\n",
    "    filename = f\"spotify_million_playlist_dataset/data/mpd.slice.{lb}-{ub}.json\"\n",
    "    with open(filename) as read_file:\n",
    "        tmp = json.load(read_file)\n",
    "        for playlist in tmp[\"playlists\"]:\n",
    "            total_playlists += 1\n",
    "            titles.add(playlist[\"name\"])\n",
    "            G.add_node(playlist[\"pid\"], playlist_name=playlist[\"name\"])#, num_tracks=playlist[\"num_tracks\"], num_albums=playlist[\"num_albums\"])#, collaborative=playlist[\"collaborative\"], modified_at=playlist[\"modified_at\"])\n",
    "            for track in playlist[\"tracks\"]:\n",
    "                total_tracks += 1\n",
    "                albums.add(track[\"album_uri\"])\n",
    "                tracks.add(track[\"track_uri\"])\n",
    "                artists.add(track[\"artist_uri\"])\n",
    "                track_id = track[\"track_uri\"][trim_start:]\n",
    "                artist_id = track[\"artist_uri\"][trim_start:]\n",
    "                album_id = track[\"album_uri\"][trim_start:]\n",
    "                G.add_node(track_id, track_name=track[\"track_name\"], artist_name=track[\"artist_name\"])#, album_name=track[\"album_name\"])#, duration=track[\"duration_ms\"])\n",
    "                G.add_node(artist_id, artist_name=track[\"artist_name\"])\n",
    "                G.add_node(album_id, album_name=track[\"album_name\"])\n",
    "                # G.add_edge(track_id, artist_id) # dont need since songs are connected to artists via albums\n",
    "                G.add_edge(track_id, album_id)\n",
    "                G.add_edge(album_id, artist_id)\n",
    "                G.add_edge(track_id, playlist[\"pid\"])\n",
    "    time_elapsed = timeit.default_timer() - start\n",
    "    mins_elapsed = (time_elapsed)//60\n",
    "    secs_elapsed = time_elapsed % 60\n",
    "    print(f\"{i+1}/{num_files}; n:{G.number_of_nodes()}, m:{G.number_of_edges()}; time elapsed: {mins_elapsed:02} min {secs_elapsed:02.1f} sec\", end=\"\\r\")\n",
    "print()\n",
    "print(f\"n:{G.number_of_nodes()}, m:{G.number_of_edges()}\")\n",
    "    \n",
    "stop = timeit.default_timer()\n",
    "print('Time elapsed (minutes):', (stop - start)/60)  "
   ]
  },
  {
   "cell_type": "code",
   "execution_count": 5,
   "metadata": {},
   "outputs": [],
   "source": [
    "# save the read graph into a pickle file to read it in faster next time\n",
    "pickle.dump(G, open(\"./spotify_million_playlist_dataset/data/graphrep/spotify.pickle\", 'wb'))"
   ]
  },
  {
   "cell_type": "code",
   "execution_count": 6,
   "metadata": {},
   "outputs": [
    {
     "data": {
      "text/plain": [
       "'1.315990363858211 % nodes, 1.0125545419367021 % links'"
      ]
     },
     "execution_count": 6,
     "metadata": {},
     "output_type": "execute_result"
    }
   ],
   "source": [
    "n100=4290426 # num nodes in full data\n",
    "m100=68512319 # num edges in full data\n",
    "f\"{G.number_of_nodes()/n100} % nodes, {G.number_of_edges()/m100} % links\""
   ]
  },
  {
   "cell_type": "markdown",
   "metadata": {},
   "source": [
    "personalization_dict = { # both in this example from playlist 0\n",
    "    'track:6I9VzXrHxO9rA9A5euc8Ak':6, #toxic britney spears\n",
    "    'track:0UaMYEvWZi0ZqiDOoHU3YI':1 #lose control missy elliott\n",
    "}"
   ]
  },
  {
   "cell_type": "markdown",
   "metadata": {},
   "source": [
    "start = timeit.default_timer()\n",
    "results = nx.pagerank(G, personalization=personalization_dict)\n",
    "stop = timeit.default_timer()\n",
    "print('Time elapsed (minutes):', (stop - start)/60)  "
   ]
  },
  {
   "cell_type": "markdown",
   "metadata": {},
   "source": [
    "rec_songs = filter(lambda x: str.startswith(str(x[0]), \"track:\"), results.items())\n",
    "reccs = sorted(rec_songs, key=lambda x: x[1], reverse=True)[:25]"
   ]
  },
  {
   "cell_type": "markdown",
   "metadata": {},
   "source": [
    "for i in range(len(reccs)):\n",
    "    print(reccs[i], G.nodes[reccs[i][0]])"
   ]
  },
  {
   "cell_type": "markdown",
   "metadata": {},
   "source": [
    "G.nodes[reccs[2][0]]"
   ]
  },
  {
   "cell_type": "code",
   "execution_count": 3,
   "metadata": {},
   "outputs": [
    {
     "name": "stdout",
     "output_type": "stream",
     "text": [
      "num_files: 100\n",
      "time elapsed: 0.0 min 56.5 sec\r"
     ]
    }
   ],
   "source": [
    "start = timeit.default_timer()\n",
    "n = G.number_of_nodes()\n",
    "m = G.number_of_edges()\n",
    "connected_c = list(nx.connected_components(G))\n",
    "lcc = max(connected_c, key=len)\n",
    "neighbour_avg_degs = nx.average_neighbor_degree(G)\n",
    "max_avg_neighs = max(list(neighbour_avg_degs.values()))\n",
    "max_degree = max(G.degree, key=lambda x: x[1])[1]\n",
    "time_elapsed = timeit.default_timer() - start\n",
    "mins_elapsed = (time_elapsed)//60\n",
    "secs_elapsed = time_elapsed % 60\n",
    "print(f\"num_files: {num_files}\")\n",
    "print(f\"time elapsed: {mins_elapsed:02} min {secs_elapsed:02.1f} sec\", end=\"\\r\")"
   ]
  },
  {
   "cell_type": "code",
   "execution_count": 4,
   "metadata": {},
   "outputs": [
    {
     "name": "stdout",
     "output_type": "stream",
     "text": [
      "stats about data\n",
      "number of playlists 100000\n",
      "number of tracks 6677800\n",
      "number of unique tracks 681805\n",
      "number of unique albums 271413\n",
      "number of unique artists 110063\n",
      "number of unique titles 29199\n",
      "avg playlist length 66.778\n"
     ]
    }
   ],
   "source": [
    "print(\"stats about data\")\n",
    "print(\"number of playlists\", total_playlists)\n",
    "print(\"number of tracks\", total_tracks)\n",
    "print(\"number of unique tracks\", len(tracks))\n",
    "print(\"number of unique albums\", len(albums))\n",
    "print(\"number of unique artists\", len(artists))\n",
    "print(\"number of unique titles\", len(titles))\n",
    "print(\"avg playlist length\", float(total_tracks) / total_playlists)"
   ]
  },
  {
   "cell_type": "code",
   "execution_count": 5,
   "metadata": {},
   "outputs": [
    {
     "name": "stdout",
     "output_type": "stream",
     "text": [
      "stats about graph\n",
      "number of nodes: 1163281\n",
      "number of edges: 7566862\n",
      "clustering: 0\n",
      "connected compoentns: 12\n",
      "largest connected compoentns: 1162787\n",
      "averag degree: 13.009517047041944\n",
      "averag distance: 5.443683019249841\n",
      "maximum degree: 4345\n",
      "density: 1.1183478652639042e-05\n",
      "maximum average neighbour degree: 3218.6666666666665\n"
     ]
    }
   ],
   "source": [
    "print(\"stats about graph\")\n",
    "print(f\"number of nodes: {n}\")\n",
    "print(f\"number of edges: {m}\")\n",
    "print(f\"clustering: {0}\")\n",
    "print(f\"connected compoentns: {len(connected_c)}\")\n",
    "print(f\"largest connected compoentns: {len(lcc)}\")\n",
    "print(f\"averag degree: {2*m/n}\")\n",
    "print(f\"averag distance: {log(n) / log(2*m/n)}\")\n",
    "print(f\"maximum degree: {max_degree}\")\n",
    "print(f\"density: {nx.density(G)}\")\n",
    "print(f\"maximum average neighbour degree: {max_avg_neighs}\")"
   ]
  },
  {
   "cell_type": "code",
   "execution_count": 6,
   "metadata": {},
   "outputs": [],
   "source": [
    "def ploter(all_deg):\n",
    "        degree_counts = Counter(all_deg)\n",
    "        x, y = zip(*degree_counts.items())\n",
    "\n",
    "        plt.figure(1)\n",
    "        plt.xlabel('degree')\n",
    "        plt.xscale('log')\n",
    "        plt.xlim(1, max(x))\n",
    "        plt.ylabel('frequency')\n",
    "        plt.yscale('log')\n",
    "        plt.ylim(1, max(y))\n",
    "        plt.scatter(x, y, marker='.')\n",
    "        plt.show()"
   ]
  },
  {
   "cell_type": "code",
   "execution_count": 7,
   "metadata": {},
   "outputs": [
    {
     "data": {
      "image/png": "[encoded data removed]",
      "text/plain": [
       "<Figure size 640x480 with 1 Axes>"
      ]
     },
     "metadata": {},
     "output_type": "display_data"
    }
   ],
   "source": [
    "ploter([x for _,x in nx.degree(G)])"
   ]
  }
 ],
 "metadata": {
  "kernelspec": {
   "display_name": "Python 3 (ipykernel)",
   "language": "python",
   "name": "python3"
  },
  "language_info": {
   "codemirror_mode": {
    "name": "ipython",
    "version": 3
   },
   "file_extension": ".py",
   "mimetype": "text/x-python",
   "name": "python",
   "nbconvert_exporter": "python",
   "pygments_lexer": "ipython3",
   "version": "3.11.3"
  }
 },
 "nbformat": 4,
 "nbformat_minor": 2
}
