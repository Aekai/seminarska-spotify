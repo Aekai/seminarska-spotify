{
 "cells": [
  {
   "cell_type": "code",
   "execution_count": 2,
   "metadata": {},
   "outputs": [],
   "source": [
    "import networkx as nx\n",
    "import timeit\n",
    "import numpy as np\n",
    "import pandas as pd\n",
    "import json\n",
    "import random\n",
    "import pickle"
   ]
  },
  {
   "cell_type": "markdown",
   "metadata": {},
   "source": [
    "read files to get all modified_at timestamps:"
   ]
  },
  {
   "cell_type": "code",
   "execution_count": 38,
   "metadata": {},
   "outputs": [
    {
     "name": "stdout",
     "output_type": "stream",
     "text": [
      "1000/1000; n:0, m:0; time elapsed: 6.0 min 55.9 sec\n",
      "n:0, m:0\n",
      "Time elapsed (minutes): 6.931874359999998\n"
     ]
    }
   ],
   "source": [
    "start = timeit.default_timer()\n",
    "\n",
    "# todo? add different weights to connections between song and artist/album/playlist in the graph??\n",
    "G = nx.Graph()\n",
    "num_files = 1000 # 1000 == all files\n",
    "trim_start=len(\"spotify:\")\n",
    "playlist_times = np.empty(num_files * 1000)\n",
    "for i in range(num_files):\n",
    "    lb = i*1000\n",
    "    ub = lb+999\n",
    "    #print(f\"mpd.slice.{lb}-{ub}.json\")\n",
    "    filename = f\"spotify_million_playlist_dataset/data/mpd.slice.{lb}-{ub}.json\"\n",
    "    with open(filename) as read_file:\n",
    "        tmp = json.load(read_file)\n",
    "        for playlist in tmp[\"playlists\"]:\n",
    "            playlist_times[playlist[\"pid\"]] = (playlist[\"modified_at\"])\n",
    "\n",
    "    time_elapsed = timeit.default_timer() - start\n",
    "    mins_elapsed = (time_elapsed)//60\n",
    "    secs_elapsed = time_elapsed % 60\n",
    "    print(f\"{i+1}/{num_files}; n:{G.number_of_nodes()}, m:{G.number_of_edges()}; time elapsed: {mins_elapsed:02} min {secs_elapsed:02.1f} sec\", end=\"\\r\")\n",
    "print()\n",
    "print(f\"n:{G.number_of_nodes()}, m:{G.number_of_edges()}\")\n",
    "\n",
    "stop = timeit.default_timer()\n",
    "print('Time elapsed (minutes):', (stop - start)/60)  "
   ]
  },
  {
   "cell_type": "code",
   "execution_count": 39,
   "metadata": {},
   "outputs": [
    {
     "data": {
      "text/plain": [
       "count                          1000000\n",
       "mean     2016-10-12 13:36:12.729600256\n",
       "min                2010-04-16 00:00:00\n",
       "25%                2016-03-26 00:00:00\n",
       "50%                2017-03-23 00:00:00\n",
       "75%                2017-09-15 00:00:00\n",
       "max                2017-11-01 00:00:00\n",
       "dtype: object"
      ]
     },
     "execution_count": 39,
     "metadata": {},
     "output_type": "execute_result"
    }
   ],
   "source": [
    "ser = pd.Series(playlist_times)\n",
    "ser = pd.to_datetime(ser, unit='s', errors='coerce')\n",
    "# ser = ser[ser > pd.Timestamp(\"2000-01-01 00:00:00\")]\n",
    "ser.describe()"
   ]
  },
  {
   "cell_type": "code",
   "execution_count": 48,
   "metadata": {},
   "outputs": [
    {
     "data": {
      "text/plain": [
       "numpy.datetime64('2017-10-03T00:00:00.000000000')"
      ]
     },
     "execution_count": 48,
     "metadata": {},
     "output_type": "execute_result"
    }
   ],
   "source": [
    "np.percentile(ser, 80)"
   ]
  },
  {
   "cell_type": "code",
   "execution_count": 52,
   "metadata": {},
   "outputs": [
    {
     "data": {
      "text/plain": [
       "249413"
      ]
     },
     "execution_count": 52,
     "metadata": {},
     "output_type": "execute_result"
    }
   ],
   "source": [
    "np.count_nonzero(ser > pd.Timestamp(\"2017-09-15 00:00:00\"))"
   ]
  },
  {
   "cell_type": "code",
   "execution_count": 40,
   "metadata": {},
   "outputs": [
    {
     "data": {
      "text/plain": [
       "<Axes: >"
      ]
     },
     "execution_count": 40,
     "metadata": {},
     "output_type": "execute_result"
    },
    {
     "data": {
      "image/png": "[encoded data removed]",
      "text/plain": [
       "<Figure size 640x480 with 1 Axes>"
      ]
     },
     "metadata": {},
     "output_type": "display_data"
    }
   ],
   "source": [
    "ser.hist(xrot=90, bins=20)"
   ]
  },
  {
   "cell_type": "code",
   "execution_count": 2,
   "metadata": {},
   "outputs": [],
   "source": [
    "random.seed(0)"
   ]
  },
  {
   "cell_type": "code",
   "execution_count": 3,
   "metadata": {},
   "outputs": [
    {
     "name": "stdout",
     "output_type": "stream",
     "text": [
      "999/999; n:4290426, m:68512319; time elapsed: 53.0 min 45.5 sec\n",
      "n:4290426, m:68512319\n",
      "Time elapsed (minutes): 53.85183885166577\n"
     ]
    }
   ],
   "source": [
    "start = timeit.default_timer()\n",
    "\n",
    "# todo? add different weights to connections between song and artist/album/playlist in the graph??\n",
    "G = nx.Graph()\n",
    "num_files = 999 # 999 == all files\n",
    "trim_start=len(\"spotify:\")\n",
    "for i in range(num_files):\n",
    "    lb = i*1000\n",
    "    ub = lb+999\n",
    "    #print(f\"mpd.slice.{lb}-{ub}.json\")\n",
    "    filename = f\"spotify_million_playlist_dataset/data/mpd.slice.{lb}-{ub}.json\"\n",
    "    with open(filename) as read_file:\n",
    "        tmp = json.load(read_file)\n",
    "        for playlist in tmp[\"playlists\"]:\n",
    "\n",
    "            G.add_node(playlist[\"pid\"], playlist_name=playlist[\"name\"])#, num_tracks=playlist[\"num_tracks\"], num_albums=playlist[\"num_albums\"])#, collaborative=playlist[\"collaborative\"], modified_at=playlist[\"modified_at\"])\n",
    "            for track in playlist[\"tracks\"]:\n",
    "                track_id = track[\"track_uri\"][trim_start:]\n",
    "                artist_id = track[\"artist_uri\"][trim_start:]\n",
    "                album_id = track[\"album_uri\"][trim_start:]\n",
    "                G.add_node(track_id, track_name=track[\"track_name\"], artist_name=track[\"artist_name\"])#, album_name=track[\"album_name\"])#, duration=track[\"duration_ms\"])\n",
    "                G.add_node(artist_id, artist_name=track[\"artist_name\"])\n",
    "                G.add_node(album_id, album_name=track[\"album_name\"])\n",
    "                # G.add_edge(track_id, artist_id) # dont need since songs are connected to artists via albums\n",
    "                G.add_edge(track_id, album_id)\n",
    "                G.add_edge(album_id, artist_id)\n",
    "                G.add_edge(track_id, playlist[\"pid\"])\n",
    "    time_elapsed = timeit.default_timer() - start\n",
    "    mins_elapsed = (time_elapsed)//60\n",
    "    secs_elapsed = time_elapsed % 60\n",
    "    print(f\"{i+1}/{num_files}; n:{G.number_of_nodes()}, m:{G.number_of_edges()}; time elapsed: {mins_elapsed:02} min {secs_elapsed:02.1f} sec\", end=\"\\r\")\n",
    "print()\n",
    "print(f\"n:{G.number_of_nodes()}, m:{G.number_of_edges()}\")\n",
    "    \n",
    "stop = timeit.default_timer()\n",
    "print('Time elapsed (minutes):', (stop - start)/60)  "
   ]
  },
  {
   "cell_type": "code",
   "execution_count": 5,
   "metadata": {},
   "outputs": [],
   "source": [
    "# save the read graph into a pickle file to read it in faster next time\n",
    "pickle.dump(G, open(\"./spotify_million_playlist_dataset/data/graphrep/spotify.pickle\", 'wb'))"
   ]
  },
  {
   "cell_type": "code",
   "execution_count": 6,
   "metadata": {},
   "outputs": [
    {
     "data": {
      "text/plain": [
       "'1.315990363858211 % nodes, 1.0125545419367021 % links'"
      ]
     },
     "execution_count": 6,
     "metadata": {},
     "output_type": "execute_result"
    }
   ],
   "source": [
    "n100=4290426 # num nodes in full data\n",
    "m100=68512319 # num edges in full data\n",
    "f\"{G.number_of_nodes()/n100} % nodes, {G.number_of_edges()/m100} % links\""
   ]
  },
  {
   "cell_type": "markdown",
   "metadata": {},
   "source": [
    "personalization_dict = { # both in this example from playlist 0\n",
    "    'track:6I9VzXrHxO9rA9A5euc8Ak':6, #toxic britney spears\n",
    "    'track:0UaMYEvWZi0ZqiDOoHU3YI':1 #lose control missy elliott\n",
    "}"
   ]
  },
  {
   "cell_type": "markdown",
   "metadata": {},
   "source": [
    "start = timeit.default_timer()\n",
    "results = nx.pagerank(G, personalization=personalization_dict)\n",
    "stop = timeit.default_timer()\n",
    "print('Time elapsed (minutes):', (stop - start)/60)  "
   ]
  },
  {
   "cell_type": "markdown",
   "metadata": {},
   "source": [
    "rec_songs = filter(lambda x: str.startswith(str(x[0]), \"track:\"), results.items())\n",
    "reccs = sorted(rec_songs, key=lambda x: x[1], reverse=True)[:25]"
   ]
  },
  {
   "cell_type": "markdown",
   "metadata": {},
   "source": [
    "for i in range(len(reccs)):\n",
    "    print(reccs[i], G.nodes[reccs[i][0]])"
   ]
  },
  {
   "cell_type": "markdown",
   "metadata": {},
   "source": [
    "G.nodes[reccs[2][0]]"
   ]
  },
  {
   "cell_type": "code",
   "execution_count": null,
   "metadata": {},
   "outputs": [],
   "source": []
  }
 ],
 "metadata": {
  "kernelspec": {
   "display_name": "Python 3 (ipykernel)",
   "language": "python",
   "name": "python3"
  },
  "language_info": {
   "codemirror_mode": {
    "name": "ipython",
    "version": 3
   },
   "file_extension": ".py",
   "mimetype": "text/x-python",
   "name": "python",
   "nbconvert_exporter": "python",
   "pygments_lexer": "ipython3",
   "version": "3.11.3"
  }
 },
 "nbformat": 4,
 "nbformat_minor": 2
}
