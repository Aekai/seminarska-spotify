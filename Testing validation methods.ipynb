{
 "cells": [
  {
   "cell_type": "code",
   "execution_count": 1,
   "metadata": {},
   "outputs": [],
   "source": [
    "import networkx as nx\n",
    "import pandas as pd\n",
    "import numpy as np\n",
    "import matplotlib.pyplot as plt\n",
    "import timeit\n",
    "import json\n",
    "import random\n",
    "import pickle\n",
    "import os\n",
    "import datetime\n",
    "from Sampling import sample_graph, get_modified_at_array"
   ]
  },
  {
   "cell_type": "code",
   "execution_count": 2,
   "metadata": {},
   "outputs": [],
   "source": [
    "def truncate_playlists(playlists):\n",
    "    new_playlists = list()\n",
    "    for playlist in playlists:\n",
    "        new_playlist = list({'name': f\"{i['artist_name']} - {i['track_name']}\", 'track_uri': i['track_uri'][len(\"spotify:\"):]} for i in playlist['tracks'])\n",
    "        new_playlists.append(new_playlist)\n",
    "        \n",
    "    return new_playlists"
   ]
  },
  {
   "cell_type": "code",
   "execution_count": 3,
   "metadata": {},
   "outputs": [],
   "source": [
    "#CHANGE THIS DEPENDING ON YOUR DATA LOCATION\n",
    "path = \"DATA/\""
   ]
  },
  {
   "cell_type": "code",
   "execution_count": 4,
   "metadata": {},
   "outputs": [
    {
     "name": "stdout",
     "output_type": "stream",
     "text": [
      "15/15; time elapsed: 0.0 min 14.6 sec\n",
      "Time elapsed: 0.0 min  14.636889799992787 sec\n",
      "n:377001, m:1265170; \n"
     ]
    }
   ],
   "source": [
    "G, test_playlists = sample_graph(verbose=True, path=path, testSplit=True)"
   ]
  },
  {
   "cell_type": "code",
   "execution_count": 5,
   "metadata": {},
   "outputs": [
    {
     "data": {
      "image/png": "[encoded data removed]",
      "text/plain": [
       "<Figure size 640x480 with 1 Axes>"
      ]
     },
     "metadata": {},
     "output_type": "display_data"
    }
   ],
   "source": [
    "G_ser = get_modified_at_array(G,True)"
   ]
  },
  {
   "cell_type": "code",
   "execution_count": 7,
   "metadata": {},
   "outputs": [
    {
     "data": {
      "text/plain": [
       "3016"
      ]
     },
     "execution_count": 7,
     "metadata": {},
     "output_type": "execute_result"
    }
   ],
   "source": [
    "len(test_playlists)"
   ]
  },
  {
   "cell_type": "code",
   "execution_count": 8,
   "metadata": {},
   "outputs": [],
   "source": [
    "#list({'name': f\"{i['artist_name']} - {i['track_name']}\", 'track_uri': i['track_uri'][len(\"spotify:\"):]} for i in test_playlists[0]['tracks'])"
   ]
  },
  {
   "cell_type": "code",
   "execution_count": 9,
   "metadata": {},
   "outputs": [],
   "source": [
    "test_playlists = truncate_playlists(test_playlists)"
   ]
  },
  {
   "cell_type": "code",
   "execution_count": 10,
   "metadata": {},
   "outputs": [
    {
     "data": {
      "text/plain": [
       "[{'name': 'Carmen Twillie - Circle Of Life - From \"The Lion King\"/Soundtrack',\n",
       "  'track_uri': 'track:0HU5JnVaKNTWf6GykV9Zn8'},\n",
       " {'name': 'Jason Weaver - I Just Can\\'t Wait to Be King - From \"The Lion King\"/Soundtrack Version',\n",
       "  'track_uri': 'track:0qxtQ8rf3W1nId3D2r0xH4'},\n",
       " {'name': 'Jeremy Irons - Be Prepared - From \"The Lion King\" / Soundtrack Version',\n",
       "  'track_uri': 'track:34nxgXFCPzDphUJGuRsn10'},\n",
       " {'name': 'Nathan Lane - Hakuna Matata',\n",
       "  'track_uri': 'track:5k3U0OGYBccHdKJJu3HrUN'},\n",
       " {'name': 'Joseph Williams - Can You Feel The Love Tonight',\n",
       "  'track_uri': 'track:5E8yddtSG3sH4hw2SfwcgW'},\n",
       " {'name': 'Elton John - Circle Of Life - Remastered',\n",
       "  'track_uri': 'track:1t055EdeL1r5DfORFy0UXX'},\n",
       " {'name': \"Elton John - I Just Can't Wait To Be King\",\n",
       "  'track_uri': 'track:5QsEvml3ZEnISKBEaKueUy'},\n",
       " {'name': 'Elton John - Can You Feel The Love Tonight - Remastered',\n",
       "  'track_uri': 'track:5KlCWDbatUCBhvN7ZwyeEF'},\n",
       " {'name': 'Cheryl Freeman - The Gospel Truth I / Main Titles - Hercules',\n",
       "  'track_uri': 'track:0I8mZRtlFGOqZayJbEAdxL'},\n",
       " {'name': 'Roz Ryan - The Gospel Truth II',\n",
       "  'track_uri': 'track:05E73gk08h7ECa4RjvcYwB'},\n",
       " {'name': 'Cheryl Freeman - The Gospel Truth III',\n",
       "  'track_uri': 'track:6LyD807jlIw2cAb17JCm9k'},\n",
       " {'name': 'Roger Bart - Go the Distance - From \"Hercules\"/Soundtrack',\n",
       "  'track_uri': 'track:2rm72l5pjfby1cWvPMUojI'},\n",
       " {'name': 'Roger Bart - Go the Distance (Reprise)',\n",
       "  'track_uri': 'track:2yF4lb1IPNNlDXv4BWmVOt'},\n",
       " {'name': 'Danny DeVito - One Last Hope',\n",
       "  'track_uri': 'track:6O0BuobS0C8fe9NOPXdyZX'},\n",
       " {'name': 'Chorus - Hercules - Zero To Hero',\n",
       "  'track_uri': 'track:4InER8nvZnn3nt56anVVNO'},\n",
       " {'name': \"Lillias White - I Won't Say (I'm in Love)\",\n",
       "  'track_uri': 'track:1HSJMLtNeDryJN76Tu5Ahf'},\n",
       " {'name': 'Cheryl Freeman - A Star Is Born',\n",
       "  'track_uri': 'track:6FWfjQDaC1PyKoKo2s5MN5'},\n",
       " {'name': 'Michael Bolton - Go the Distance',\n",
       "  'track_uri': 'track:3hS5RCp5EE1wUiiE7f8dM1'},\n",
       " {'name': 'Roz Ryan - A True Hero / A Star Is Born',\n",
       "  'track_uri': 'track:6IQx3htcnC8BdAYVUsIzjw'},\n",
       " {'name': 'Beth Fowler - Honor To Us All - From \"Mulan\"/Soundtrack',\n",
       "  'track_uri': 'track:78EMhiyAcalWWtnpk20Eoo'},\n",
       " {'name': 'Lea Salonga - Reflection - From \"Mulan\"/Soundtrack Version',\n",
       "  'track_uri': 'track:2AILbz83cBnrAMAG06rZts'},\n",
       " {'name': 'Harvey Fierstein - A Girl Worth Fighting For - From \"Mulan\"/Soundtrack',\n",
       "  'track_uri': 'track:3wjgPeXocinhLyPL37p70e'},\n",
       " {'name': 'Christina Aguilera - Reflection - Pop Version',\n",
       "  'track_uri': 'track:1haQRuZnoggW6U6l5jFIj9'},\n",
       " {'name': 'Tony Jay - The Bells Of Notre Dame',\n",
       "  'track_uri': 'track:7jZcWttgE7HF35YeB9dzq8'},\n",
       " {'name': 'Tony Jay - Out There', 'track_uri': 'track:7cX2nwvVfWW3bfScg2f15K'},\n",
       " {'name': 'Paul Kandel - Topsy Turvy - From \"The Hunchback Of Notre Dame\"/Soundtrack',\n",
       "  'track_uri': 'track:7JIvgoalTwUz528BVYXBto'},\n",
       " {'name': 'Heidi Mollenhauer - God Help The Outcasts',\n",
       "  'track_uri': 'track:67KymXb4OUQtUlO31EFOjS'},\n",
       " {'name': 'Tony Jay - Heaven\\'s Light/Hellfire - From \"The Hunchback Of Notre Dame\"/Soundtrack',\n",
       "  'track_uri': 'track:4rp9YObc6Q5xc6X1S8c7m9'},\n",
       " {'name': 'Charles Kimbrough - A Guy Like You - From \"The Hunchback Of Notre Dame\"/Soundtrack',\n",
       "  'track_uri': 'track:3BoaBZQsCU12IEEJeficPS'},\n",
       " {'name': 'Paul Kandel - The Court Of Miracles - From \"The Hunchback Of Notre Dame\"/Soundtrack',\n",
       "  'track_uri': 'track:5iI1EQlyyo8FzkdT7XnTd7'},\n",
       " {'name': 'Paul Kandel - The Bells Of Notre Dame (Reprise) - From \"The Hunchback Of Notre Dame\"/Soundtrack',\n",
       "  'track_uri': 'track:5IzYCxKMZs0QDXRyTwH4dU'},\n",
       " {'name': 'All-4-One - Someday', 'track_uri': 'track:4oErUdGoEpIOjQJ7nwie7A'},\n",
       " {'name': 'Bette Midler - Got Help The Outcasts',\n",
       "  'track_uri': 'track:5btDNxv4FneVKYA1onyu0J'},\n",
       " {'name': 'Chorus - Pocahontas - The Virginia Company',\n",
       "  'track_uri': 'track:1R0U7815KtdkiBvWvonfx0'},\n",
       " {'name': 'Mel Gibson - The Virginia Company (Reprise)',\n",
       "  'track_uri': 'track:1ZW3EVkByv6UgGxigVS8lF'},\n",
       " {'name': 'Chorus - Pocahontas - Steady As The Beating Drum',\n",
       "  'track_uri': 'track:38v2hDgHiRf1HFLnE0Czht'},\n",
       " {'name': 'Jim Cummings - Steady As The Beating Drum (Reprise)',\n",
       "  'track_uri': 'track:4Be4wCdwvkoBmTgTT1H586'},\n",
       " {'name': 'Judy Kuhn - Just Around The Riverbend',\n",
       "  'track_uri': 'track:6P316E7tFylzpVrDrXVF9s'},\n",
       " {'name': 'Linda Hunt - Listen With Your Heart - Part 1',\n",
       "  'track_uri': 'track:52G36DyYUiskqVkp9y2aOJ'},\n",
       " {'name': 'Mel Gibson - Mine, Mine, Mine - From \"Pocahontas\" / Soundtrack Version',\n",
       "  'track_uri': 'track:41uJggpcL0qwQasVkKV50y'},\n",
       " {'name': 'Linda Hunt - Listen With Your Heart - Part 2',\n",
       "  'track_uri': 'track:0bbks4cXwDES54hzcq6Kbm'},\n",
       " {'name': 'Judy Kuhn - Colors Of The Wind',\n",
       "  'track_uri': 'track:1OYOLWqKmhkFIx2KC9ek1a'},\n",
       " {'name': 'Jim Cummings - Savages - Part 1',\n",
       "  'track_uri': 'track:2VnVfGZuVCQKm9xBTuWM7N'},\n",
       " {'name': 'Judy Kuhn - Savages - Part 2',\n",
       "  'track_uri': 'track:1ruSlVBQKUmNIuZokdeL9g'},\n",
       " {'name': 'Vanessa Williams - Colors Of The Wind',\n",
       "  'track_uri': 'track:4qjrCkcVbsYlitCqbBkeKe'},\n",
       " {'name': 'Jon Secada - If I Never Knew You - End Title/From \"Pocahontas\"/Soundtrack Version',\n",
       "  'track_uri': 'track:3qr68QUa50h7jMELcrjV6b'},\n",
       " {'name': 'Idina Menzel - Let It Go - From \"Frozen\"/Soundtrack Version',\n",
       "  'track_uri': 'track:0qcr5FMsEO85NAQjrlDRKo'},\n",
       " {'name': 'Patrick Stewart - Opening - (The Nightmare Before Christmas)',\n",
       "  'track_uri': 'track:6XN2u848tSi39fBdN1t3Od'},\n",
       " {'name': 'Disney Characters - This Is Halloween',\n",
       "  'track_uri': 'track:63y2aL2dT6zzw8FOSLaNrp'},\n",
       " {'name': \"Danny Elfman - Jack's Lament\",\n",
       "  'track_uri': 'track:2z1SaJJSPpLDQJphaESqKC'},\n",
       " {'name': \"Danny Elfman - What's This?\",\n",
       "  'track_uri': 'track:2Rddbad3XaTds95LY8iidH'},\n",
       " {'name': 'Danny Elfman - Town Meeting Song',\n",
       "  'track_uri': 'track:3Djd6DJ4GxaGnOQaQXQTo4'},\n",
       " {'name': \"Danny Elfman - Jack's Obsession\",\n",
       "  'track_uri': 'track:5Yl2MFlben2pLcEUaKrDyJ'},\n",
       " {'name': 'Paul Reubens - Kidnap The Sandy Claws',\n",
       "  'track_uri': 'track:1RI7mhYWlGj6IvdBc2lGnY'},\n",
       " {'name': 'Danny Elfman - Making Christmas',\n",
       "  'track_uri': 'track:208rmXdjs6mywkQRQw0xni'},\n",
       " {'name': \"Ken Page - Oogie Boogie's Song\",\n",
       "  'track_uri': 'track:3LrhBpvdIs7cmwNAtKNk3I'},\n",
       " {'name': 'Danny Elfman - Poor Jack',\n",
       "  'track_uri': 'track:6aGy37HED9HVNusG0IUjf7'},\n",
       " {'name': \"Catherine O'Hara - Finale / Reprise\",\n",
       "  'track_uri': 'track:0jvbzWCHSDcZtM2pOzhUBh'},\n",
       " {'name': 'Jodi Benson - Part of Your World - From \"The Little Mermaid\"/ Soundtrack Version',\n",
       "  'track_uri': 'track:7tUSJY4nsDBJTjd1UXKRsT'},\n",
       " {'name': 'Samuel E. Wright - Under the Sea - From \"The Little Mermaid\"/ Soundtrack Version',\n",
       "  'track_uri': 'track:6oYkwjI1TKP9D0Y9II1GT7'},\n",
       " {'name': 'Samuel E. Wright - Kiss the Girl - From \"The Little Mermaid\"/Soundtrack Version',\n",
       "  'track_uri': 'track:4HGIPyqDxSf863tPOwXiLJ'},\n",
       " {'name': 'Lea Salonga - A Whole New World',\n",
       "  'track_uri': 'track:5VIfacsWytkcgr7aTt8Tql'},\n",
       " {'name': \"Peabo Bryson - A Whole New World (Aladdin's Theme)\",\n",
       "  'track_uri': 'track:4biuE0gvdD3GpAryIdgVx8'},\n",
       " {'name': 'Kristen Bell - Do You Want to Build a Snowman?',\n",
       "  'track_uri': 'track:2yi7HZrBOC4bMUSTcs4VK6'},\n",
       " {'name': 'Kristen Bell - For the First Time in Forever',\n",
       "  'track_uri': 'track:70b5Sq3ePOu3Gqg0hjlOtR'},\n",
       " {'name': 'Cast - Frozen - Frozen Heart',\n",
       "  'track_uri': 'track:3xDVJcvcKedshWlT3qGSHk'},\n",
       " {'name': 'Kristen Bell - Love Is an Open Door',\n",
       "  'track_uri': 'track:3IPnBzGRMg6BfViFxxa0Gq'},\n",
       " {'name': 'Kristen Bell - For the First Time in Forever (Reprise)',\n",
       "  'track_uri': 'track:65GjU6KDPzF5IO143vvTgn'},\n",
       " {'name': 'Donny Osmond - I\\'ll Make a Man Out of You - From \"Mulan\"/Soundtrack',\n",
       "  'track_uri': 'track:28UMEtwyUUy5u0UWOVHwiI'},\n",
       " {'name': 'High School Musical Cast - Start Of Something New',\n",
       "  'track_uri': 'track:3KtzpxgZZzTPgNfkObCndB'},\n",
       " {'name': \"High School Musical Cast - What I've Been Looking For\",\n",
       "  'track_uri': 'track:6xguT5OygfmfFx2fyoTHQr'},\n",
       " {'name': \"High School Musical Cast - What I'Ve Been Looking For - Reprise\",\n",
       "  'track_uri': 'track:5INhzSKNRpnvHFDIBk0O4y'},\n",
       " {'name': 'High School Musical Cast - Stick To The Status Quo',\n",
       "  'track_uri': 'track:5xmaFH9oMYg8SMMTndypEh'},\n",
       " {'name': 'Vanessa Hudgens - When There Was Me And You',\n",
       "  'track_uri': 'track:49oQf4PT5ONHU1qHvzfP1g'},\n",
       " {'name': 'High School Musical Cast - Bop To The Top',\n",
       "  'track_uri': 'track:0IzIW2MSFdllQ7zFLbv1uS'},\n",
       " {'name': 'High School Musical Cast - Breaking Free',\n",
       "  'track_uri': 'track:3AWSwChgStOColFkXbwRnP'},\n",
       " {'name': \"High School Musical Cast - We're All In This Together\",\n",
       "  'track_uri': 'track:3Gf3Jsm0k6IPUkogQfKi7S'},\n",
       " {'name': \"High School Musical Cast - I Can't Take My Eyes Off Of You\",\n",
       "  'track_uri': 'track:1VG1Bswylv2FtgddxddIkQ'},\n",
       " {'name': 'Mandy Moore - When Will My Life Begin - From \"Tangled\"/Soundtrack Version',\n",
       "  'track_uri': 'track:03xWMkKEbeO4SnylA53ipj'},\n",
       " {'name': 'Mandy Moore - I See the Light - From \"Tangled\"/Soundtrack Version',\n",
       "  'track_uri': 'track:6klpXs2uAjagnZMFkt4qkl'},\n",
       " {'name': 'Brad Kane - One Jump Ahead',\n",
       "  'track_uri': 'track:4wN8Ov3kPZdkJ8XcYxYUGz'},\n",
       " {'name': 'Jonathan Freeman - Prince Ali (Reprise)',\n",
       "  'track_uri': 'track:5BEItY9of9nR4zj51JO0jU'},\n",
       " {'name': 'Anika Noni Rose - Down in New Orleans (Prologue)',\n",
       "  'track_uri': 'track:5qi4gxmTIPxlgb9TTLNLrC'},\n",
       " {'name': 'Dr. John - Down in New Orleans',\n",
       "  'track_uri': 'track:4T9Jpft8jvZAP57aE3VdCt'},\n",
       " {'name': 'Anika Noni Rose - Almost There',\n",
       "  'track_uri': 'track:2dlxN435ZY9ruxGYND2Hq0'},\n",
       " {'name': 'Keith David - Friends on the Other Side - From \"The Princess and the Frog\" / Soundtrack Version',\n",
       "  'track_uri': 'track:1xQBlIIAZZtekq4pyCp2Lw'},\n",
       " {'name': \"Leon-Wooley - When We're Human (feat. Terence Blanchard)\",\n",
       "  'track_uri': 'track:0II9l1sI3Mo9XKaszKfizl'},\n",
       " {'name': 'Jim Cummings - Gonna Take You There (feat. Terrance Simien on Accordion)',\n",
       "  'track_uri': 'track:1ZlwVYK7Qufssn2Ca70u8S'},\n",
       " {'name': 'Jim Cummings - Ma Belle Evangeline (feat. Terence Blanchard on Trumpet)',\n",
       "  'track_uri': 'track:2P8QqrZ42YNP8Ao5uRMLO0'},\n",
       " {'name': 'Jenifer Lewis - Dig A Little Deeper - From \"The Princess and the Frog\"',\n",
       "  'track_uri': 'track:7KdrsGJ5ERh7JOjnbieCSd'},\n",
       " {'name': 'Anika Noni Rose - Down in New Orleans (Finale)',\n",
       "  'track_uri': 'track:1qH6q58Taljm2MQf6eM0jY'},\n",
       " {'name': 'Bruce Adler - Arabian Nights',\n",
       "  'track_uri': 'track:0CKmN3Wwk8W4zjU0pqq2cv'},\n",
       " {'name': 'Christopher Jackson - Where You Are',\n",
       "  'track_uri': 'track:2bwSCIuNtVrQPVddCi8sOW'},\n",
       " {'name': \"Auli'i Cravalho - How Far I'll Go\",\n",
       "  'track_uri': 'track:6mb6lVLNrcUgLnEN8QnDJd'},\n",
       " {'name': 'Opetaia Foa\\'i - We Know The Way - From \"Moana\"',\n",
       "  'track_uri': 'track:3C4WmF4klgfmb6GzW8DEdX'},\n",
       " {'name': \"Auli'i Cravalho - How Far I'll Go - Reprise\",\n",
       "  'track_uri': 'track:32pqqCrnIC5O5iE9c218PJ'},\n",
       " {'name': \"Dwayne Johnson - You're Welcome\",\n",
       "  'track_uri': 'track:6U4VqEHy4n5VeiH4pQPL24'},\n",
       " {'name': 'Jemaine Clement - Shiny',\n",
       "  'track_uri': 'track:1IZwCzAmaFmmdJj0cmhaax'},\n",
       " {'name': 'Rachel House - I Am Moana (Song of the Ancestors)',\n",
       "  'track_uri': 'track:6uk7QQiWRDjPHSiSMZlez8'},\n",
       " {'name': \"Auli'i Cravalho - Know Who You Are\",\n",
       "  'track_uri': 'track:2wCRJwiL1WSrW0Dwfco7Nj'},\n",
       " {'name': 'Lin-Manuel Miranda - We Know The Way - Finale',\n",
       "  'track_uri': 'track:3HAh7a08YVxEyb8BM645bU'},\n",
       " {'name': 'Alessia Cara - How Far I\\'ll Go - From \"Moana\"',\n",
       "  'track_uri': 'track:5hYTyyh2odQKphUbMqc5gN'},\n",
       " {'name': 'Mark Mancina - The Return to Voyaging',\n",
       "  'track_uri': 'track:1hVanDiOYB9WLcRDbyo9xo'},\n",
       " {'name': 'Céline Dion - How Does A Moment Last Forever',\n",
       "  'track_uri': 'track:0Rg6hoXD1wBiOFZ4pmzoWh'},\n",
       " {'name': 'Ariana Grande - 美女と野獣',\n",
       "  'track_uri': 'track:1KT0xdIjm7t053xByACrrg'},\n",
       " {'name': 'Josh Groban - Evermore',\n",
       "  'track_uri': 'track:5g3kU4aeY2EeVAiV7JNkhK'},\n",
       " {'name': 'Emma Watson - Belle', 'track_uri': 'track:1cPfKp9ThNZ1fez9itmUMN'},\n",
       " {'name': 'Alan Menken - How Does A Moment Last Forever (Music Box) - Demo',\n",
       "  'track_uri': 'track:5oYsXlnI0dpmN32cRDZD6v'},\n",
       " {'name': 'Emma Watson - Belle (Reprise)',\n",
       "  'track_uri': 'track:1uT4Haj9BYmbjxvoF2omRc'},\n",
       " {'name': 'Josh Gad - Gaston', 'track_uri': 'track:1v7HQKegIjcBAsAsHjnXZU'},\n",
       " {'name': 'Ewan McGregor - Be Our Guest',\n",
       "  'track_uri': 'track:1LJtyvOmNOyp0DRpq9of29'},\n",
       " {'name': 'Adam Mitchell - Days In The Sun',\n",
       "  'track_uri': 'track:2ppkGKabWsSgNV4fvOldQb'},\n",
       " {'name': 'Emma Watson - Something There',\n",
       "  'track_uri': 'track:77JhqIuQjqzVmkRTUcm9ji'},\n",
       " {'name': 'Emma Watson - How Does A Moment Last Forever (Montmartre)',\n",
       "  'track_uri': 'track:6zMa6pq3Te0F9YrEocvgpW'},\n",
       " {'name': 'Emma Thompson - Beauty and the Beast',\n",
       "  'track_uri': 'track:0sXJUHfwsocaJaLM5osoWX'},\n",
       " {'name': 'Luke Evans - The Mob Song',\n",
       "  'track_uri': 'track:3nxotm9m5h0gFhx49Brrc0'},\n",
       " {'name': 'Audra McDonald - Beauty and the Beast (Finale)',\n",
       "  'track_uri': 'track:0njdNc5gqQpJOc8q72rJCe'},\n",
       " {'name': 'Alan Menken - How Does A Moment Last Forever (Montmartre) - Demo',\n",
       "  'track_uri': 'track:6vdHb3QylRZsf6TCFWUjdH'},\n",
       " {'name': 'Fall Out Boy - Immortals',\n",
       "  'track_uri': 'track:6OZPl7bOm8EOshsVmWH5W8'},\n",
       " {'name': 'Phil Collins - Two Worlds',\n",
       "  'track_uri': 'track:6V58LMEeGuOfLkCRJKnItb'},\n",
       " {'name': \"Phil Collins - You'll Be In My Heart\",\n",
       "  'track_uri': 'track:0loKEMa9DP6mLibdFMe6Uv'},\n",
       " {'name': \"Rosie O'Donnell - Trashin' The Camp\",\n",
       "  'track_uri': 'track:6xfazmMoilCmVh44gQ376g'},\n",
       " {'name': 'Phil Collins - Strangers Like Me',\n",
       "  'track_uri': 'track:3E99KpWAcYEnj64e86y6u9'},\n",
       " {'name': \"Phil Harris - Thomas O'Malley Cat\",\n",
       "  'track_uri': 'track:7LADJ1Oaf63HsUVFLHHLXZ'},\n",
       " {'name': \"Scatman Crothers - Ev'rybody Wants To Be A Cat\",\n",
       "  'track_uri': 'track:3uZIfWx5ridUBQevmgHDUt'}]"
      ]
     },
     "execution_count": 10,
     "metadata": {},
     "output_type": "execute_result"
    }
   ],
   "source": [
    "test_playlists[17]"
   ]
  },
  {
   "attachments": {},
   "cell_type": "markdown",
   "metadata": {},
   "source": [
    "#### Random Walk method - proof of concept"
   ]
  },
  {
   "cell_type": "code",
   "execution_count": 6,
   "metadata": {},
   "outputs": [],
   "source": [
    "from Algorithms import randWalkReccs"
   ]
  },
  {
   "cell_type": "code",
   "execution_count": 7,
   "metadata": {},
   "outputs": [
    {
     "ename": "TypeError",
     "evalue": "Population must be a sequence.  For dicts or sets, use sorted(d).",
     "output_type": "error",
     "traceback": [
      "\u001b[1;31m---------------------------------------------------------------------------\u001b[0m",
      "\u001b[1;31mTypeError\u001b[0m                                 Traceback (most recent call last)",
      "Cell \u001b[1;32mIn[7], line 1\u001b[0m\n\u001b[1;32m----> 1\u001b[0m pd \u001b[39m=\u001b[39m random\u001b[39m.\u001b[39;49msample(test_playlists[\u001b[39m0\u001b[39;49m],\u001b[39m2\u001b[39;49m)\n\u001b[0;32m      2\u001b[0m personalization_vect \u001b[39m=\u001b[39m [i[\u001b[39m'\u001b[39m\u001b[39mtrack_uri\u001b[39m\u001b[39m'\u001b[39m] \u001b[39mfor\u001b[39;00m i \u001b[39min\u001b[39;00m pd]\n",
      "File \u001b[1;32mc:\\Users\\anzek\\AppData\\Local\\Programs\\Python\\Python310\\lib\\random.py:466\u001b[0m, in \u001b[0;36mRandom.sample\u001b[1;34m(self, population, k, counts)\u001b[0m\n\u001b[0;32m    464\u001b[0m         population \u001b[39m=\u001b[39m \u001b[39mtuple\u001b[39m(population)\n\u001b[0;32m    465\u001b[0m     \u001b[39melse\u001b[39;00m:\n\u001b[1;32m--> 466\u001b[0m         \u001b[39mraise\u001b[39;00m \u001b[39mTypeError\u001b[39;00m(\u001b[39m\"\u001b[39m\u001b[39mPopulation must be a sequence.  For dicts or sets, use sorted(d).\u001b[39m\u001b[39m\"\u001b[39m)\n\u001b[0;32m    467\u001b[0m n \u001b[39m=\u001b[39m \u001b[39mlen\u001b[39m(population)\n\u001b[0;32m    468\u001b[0m \u001b[39mif\u001b[39;00m counts \u001b[39mis\u001b[39;00m \u001b[39mnot\u001b[39;00m \u001b[39mNone\u001b[39;00m:\n",
      "\u001b[1;31mTypeError\u001b[0m: Population must be a sequence.  For dicts or sets, use sorted(d)."
     ]
    }
   ],
   "source": [
    "pd = random.sample(test_playlists[0],2)\n",
    "personalization_vect = [i['track_uri'] for i in pd]"
   ]
  },
  {
   "cell_type": "code",
   "execution_count": null,
   "metadata": {},
   "outputs": [
    {
     "data": {
      "text/plain": [
       "['track:5B3y5P0D159qtws89K91mt', 'track:1LiNLlIrj5ZXO2RH9wct72']"
      ]
     },
     "execution_count": 13,
     "metadata": {},
     "output_type": "execute_result"
    }
   ],
   "source": [
    "personalization_vect"
   ]
  },
  {
   "cell_type": "code",
   "execution_count": 14,
   "metadata": {},
   "outputs": [
    {
     "ename": "NetworkXError",
     "evalue": "The node track:1LiNLlIrj5ZXO2RH9wct72 is not in the graph.",
     "output_type": "error",
     "traceback": [
      "\u001b[1;31m---------------------------------------------------------------------------\u001b[0m",
      "\u001b[1;31mKeyError\u001b[0m                                  Traceback (most recent call last)",
      "File \u001b[1;32mc:\\Users\\anzek\\AppData\\Local\\Programs\\Python\\Python310\\lib\\site-packages\\networkx\\classes\\graph.py:1354\u001b[0m, in \u001b[0;36mGraph.neighbors\u001b[1;34m(self, n)\u001b[0m\n\u001b[0;32m   1353\u001b[0m \u001b[39mtry\u001b[39;00m:\n\u001b[1;32m-> 1354\u001b[0m     \u001b[39mreturn\u001b[39;00m \u001b[39miter\u001b[39m(\u001b[39mself\u001b[39;49m\u001b[39m.\u001b[39;49m_adj[n])\n\u001b[0;32m   1355\u001b[0m \u001b[39mexcept\u001b[39;00m \u001b[39mKeyError\u001b[39;00m \u001b[39mas\u001b[39;00m err:\n",
      "\u001b[1;31mKeyError\u001b[0m: 'track:1LiNLlIrj5ZXO2RH9wct72'",
      "\nThe above exception was the direct cause of the following exception:\n",
      "\u001b[1;31mNetworkXError\u001b[0m                             Traceback (most recent call last)",
      "Cell \u001b[1;32mIn[14], line 4\u001b[0m\n\u001b[0;32m      2\u001b[0m num_iterations \u001b[39m=\u001b[39m \u001b[39m100\u001b[39m\u001b[39m*\u001b[39m\u001b[39mmax\u001b[39m(\u001b[39mlen\u001b[39m(personalization_vect),\u001b[39m10\u001b[39m)\n\u001b[0;32m      3\u001b[0m walk_steps \u001b[39m=\u001b[39m \u001b[39m12\u001b[39m\n\u001b[1;32m----> 4\u001b[0m results \u001b[39m=\u001b[39m randWalkReccs(G, num_iterations, walk_steps, personalization\u001b[39m=\u001b[39;49mpersonalization_vect)\n\u001b[0;32m      5\u001b[0m stop \u001b[39m=\u001b[39m timeit\u001b[39m.\u001b[39mdefault_timer()\n\u001b[0;32m      6\u001b[0m \u001b[39mprint\u001b[39m(\u001b[39m'\u001b[39m\u001b[39mTime elapsed (minutes):\u001b[39m\u001b[39m'\u001b[39m, (stop \u001b[39m-\u001b[39m start)\u001b[39m/\u001b[39m\u001b[39m60\u001b[39m)  \n",
      "File \u001b[1;32md:\\FAKS\\Magisterij\\2.letnik\\INA\\seminarska\\seminarska-spotify\\Algorithms.py:23\u001b[0m, in \u001b[0;36mrandWalkReccs\u001b[1;34m(G, num_iterations, walk_steps, personalization)\u001b[0m\n\u001b[0;32m     20\u001b[0m     reccs[start_node] \u001b[39m=\u001b[39m reccs[start_node] \u001b[39m+\u001b[39m \u001b[39m1\u001b[39m\n\u001b[0;32m     22\u001b[0m \u001b[39mfor\u001b[39;00m j \u001b[39min\u001b[39;00m \u001b[39mrange\u001b[39m(walk_steps):\n\u001b[1;32m---> 23\u001b[0m     tmp_node \u001b[39m=\u001b[39m random\u001b[39m.\u001b[39mchoice(\u001b[39mlist\u001b[39m(G\u001b[39m.\u001b[39;49mneighbors(start_node)))\n\u001b[0;32m     24\u001b[0m     \u001b[39mif\u001b[39;00m (tmp_node \u001b[39mnot\u001b[39;00m \u001b[39min\u001b[39;00m reccs\u001b[39m.\u001b[39mkeys()):\n\u001b[0;32m     25\u001b[0m         reccs[tmp_node] \u001b[39m=\u001b[39m \u001b[39m1\u001b[39m\n",
      "File \u001b[1;32mc:\\Users\\anzek\\AppData\\Local\\Programs\\Python\\Python310\\lib\\site-packages\\networkx\\classes\\graph.py:1356\u001b[0m, in \u001b[0;36mGraph.neighbors\u001b[1;34m(self, n)\u001b[0m\n\u001b[0;32m   1354\u001b[0m     \u001b[39mreturn\u001b[39;00m \u001b[39miter\u001b[39m(\u001b[39mself\u001b[39m\u001b[39m.\u001b[39m_adj[n])\n\u001b[0;32m   1355\u001b[0m \u001b[39mexcept\u001b[39;00m \u001b[39mKeyError\u001b[39;00m \u001b[39mas\u001b[39;00m err:\n\u001b[1;32m-> 1356\u001b[0m     \u001b[39mraise\u001b[39;00m NetworkXError(\u001b[39mf\u001b[39m\u001b[39m\"\u001b[39m\u001b[39mThe node \u001b[39m\u001b[39m{\u001b[39;00mn\u001b[39m}\u001b[39;00m\u001b[39m is not in the graph.\u001b[39m\u001b[39m\"\u001b[39m) \u001b[39mfrom\u001b[39;00m \u001b[39merr\u001b[39;00m\n",
      "\u001b[1;31mNetworkXError\u001b[0m: The node track:1LiNLlIrj5ZXO2RH9wct72 is not in the graph."
     ]
    }
   ],
   "source": [
    "start = timeit.default_timer()\n",
    "num_iterations = 100*max(len(personalization_vect),10)\n",
    "walk_steps = 12\n",
    "results = randWalkReccs(G, num_iterations, walk_steps, personalization=personalization_vect)\n",
    "stop = timeit.default_timer()\n",
    "print('Time elapsed (minutes):', (stop - start)/60)  "
   ]
  },
  {
   "cell_type": "code",
   "execution_count": null,
   "metadata": {},
   "outputs": [
    {
     "data": {
      "text/plain": [
       "3339"
      ]
     },
     "execution_count": 98,
     "metadata": {},
     "output_type": "execute_result"
    }
   ],
   "source": [
    "rec_songs = filter(lambda x: str.startswith(str(x[0]), \"track:\"), results.items())\n",
    "reccs = sorted(rec_songs, key=lambda x: x[1], reverse=True)\n",
    "len(reccs)"
   ]
  },
  {
   "cell_type": "code",
   "execution_count": null,
   "metadata": {},
   "outputs": [],
   "source": [
    "predicted_playlist = [{'name': f\"{G.nodes[reccs[i][0]]['artist_name']} - {G.nodes[reccs[i][0]]['track_name']}\",'track_uri':reccs[i][0]} for i in range(len(test_playlists[0])-2)]"
   ]
  },
  {
   "cell_type": "code",
   "execution_count": null,
   "metadata": {},
   "outputs": [
    {
     "data": {
      "text/plain": [
       "0.09815950920245399"
      ]
     },
     "execution_count": 100,
     "metadata": {},
     "output_type": "execute_result"
    }
   ],
   "source": [
    "len(set(p['track_uri'] for p in predicted_playlist).intersection(set(p['track_uri'] for p in test_playlists[0])))/len(test_playlists[0])"
   ]
  },
  {
   "attachments": {},
   "cell_type": "markdown",
   "metadata": {},
   "source": [
    "#### Actual test run"
   ]
  },
  {
   "cell_type": "code",
   "execution_count": 8,
   "metadata": {},
   "outputs": [
    {
     "name": "stdout",
     "output_type": "stream",
     "text": [
      "15/15; time elapsed: 0.0 min 14.6 sec\n",
      "Time elapsed: 0.0 min  14.634233299992047 sec\n",
      "n:378574, m:1267222; \n"
     ]
    }
   ],
   "source": [
    "G, test_playlists = sample_graph(verbose=True, path=path, testSplit=True)\n",
    "test_playlists = truncate_playlists(test_playlists)"
   ]
  },
  {
   "cell_type": "code",
   "execution_count": 15,
   "metadata": {},
   "outputs": [],
   "source": [
    "def evaluation_run(G,test_data,generator_function, different_starts = 1,persvec_lengths=5,walksteps=12,verbose=False):\n",
    "    timer_start = timeit.default_timer()\n",
    "    exceptions = 0\n",
    "    global_counter = 0\n",
    "    r_precisions = dict()\n",
    "    \n",
    "    #assert min([len(i) for i in test_data]) > persvec_lengths, \"This will be a problem. Some playlists are shorter than the personalization vector.\"\n",
    "    \n",
    "    for i in range(1,persvec_lengths+1):\n",
    "        r_precisions[i] = list()\n",
    "    \n",
    "    test_data = [i for i in test_data if len(i) > 9] ## in the challenge set file, the minimum number of playlist length (\"num_tracks\") is 10\n",
    "    for test_playlist in test_data:\n",
    "        for persvec_length in range(2,persvec_lengths+1): ## in the challenge set file, the minimum number of songs given (\"num_samples\") is 5 (if you ignore empty ones)\n",
    "            for _ in range(different_starts):\n",
    "                persvec = [track['track_uri'] for track in random.sample(test_playlist,persvec_length)]\n",
    "                try:\n",
    "                    res = generator_function(G, 100*max(len(persvec),10), walksteps, personalization=persvec)\n",
    "\n",
    "                    rec_songs = filter(lambda x: str.startswith(str(x[0]), \"track:\"), res.items())\n",
    "                    reccs = sorted(rec_songs, key=lambda x: x[1], reverse=True)\n",
    "\n",
    "                    predicted_playlist = [reccs[i][0] for i in range(len(test_playlist)+persvec_length) if reccs[i][0] not in persvec]\n",
    "                    \n",
    "                    r_precision = len(set(predicted_playlist).intersection(set(p['track_uri'] for p in test_playlist)))/(len(test_playlist)-persvec_length)\n",
    "                    r_precisions[persvec_length].append(r_precision)\n",
    "                    \n",
    "                    if verbose:\n",
    "                        time_elapsed = timeit.default_timer() - timer_start\n",
    "                        mins_elapsed = (time_elapsed)//60\n",
    "                        secs_elapsed = time_elapsed % 60\n",
    "                        print(f\"{global_counter+exceptions+1}/{len(test_data)*persvec_lengths*different_starts}; time elapsed: {mins_elapsed:02.1f} min {secs_elapsed:02.1f} sec\", end=\"\\r\")\n",
    "                    \n",
    "                    global_counter+=1\n",
    "                except:\n",
    "                    exceptions+=1\n",
    "                    \n",
    "    print(f\"Number of exceptions (should be 0 in complete graph): {exceptions}\")\n",
    "    \n",
    "    return r_precisions\n",
    "    "
   ]
  },
  {
   "cell_type": "code",
   "execution_count": 20,
   "metadata": {},
   "outputs": [
    {
     "data": {
      "text/plain": [
       "28862"
      ]
     },
     "execution_count": 20,
     "metadata": {},
     "output_type": "execute_result"
    }
   ],
   "source": [
    "np.sum([len(i) for i in test_playlists if len(i) > 9])"
   ]
  },
  {
   "cell_type": "code",
   "execution_count": 16,
   "metadata": {},
   "outputs": [
    {
     "name": "stdout",
     "output_type": "stream",
     "text": [
      "Number of exceptions (should be 0 in complete graph): 384\n"
     ]
    }
   ],
   "source": [
    "statistics = evaluation_run(G, test_playlists, randWalkReccs, persvec_lengths=5,verbose=True)"
   ]
  },
  {
   "cell_type": "code",
   "execution_count": 17,
   "metadata": {},
   "outputs": [
    {
     "name": "stdout",
     "output_type": "stream",
     "text": [
      "[{'length of PV': 2,\n",
      "  'max': 0.45454545454545453,\n",
      "  'mean': 0.11595280748621416,\n",
      "  'std': 0.0955895342470287},\n",
      " {'length of PV': 3,\n",
      "  'max': 0.46153846153846156,\n",
      "  'mean': 0.1262418090004838,\n",
      "  'std': 0.09548178054071961},\n",
      " {'length of PV': 4,\n",
      "  'max': 0.5,\n",
      "  'mean': 0.13293823122648002,\n",
      "  'std': 0.0993930698565212},\n",
      " {'length of PV': 5,\n",
      "  'max': 0.52,\n",
      "  'mean': 0.1336431523660927,\n",
      "  'std': 0.09909916239802333}]\n"
     ]
    }
   ],
   "source": [
    "from pprint import pprint\n",
    "pprint([{'length of PV':t,'mean': np.mean(statistics[t]),'max': max(statistics[t]), 'std': np.std(statistics[t])} for t in statistics if len(statistics[t])>0])"
   ]
  },
  {
   "cell_type": "code",
   "execution_count": 13,
   "metadata": {},
   "outputs": [
    {
     "data": {
      "text/plain": [
       "(array([50., 45., 33., 25., 10., 33., 15., 12.,  4.,  2.]),\n",
       " array([0.   , 0.038, 0.076, 0.114, 0.152, 0.19 , 0.228, 0.266, 0.304,\n",
       "        0.342, 0.38 ]),\n",
       " <BarContainer object of 10 artists>)"
      ]
     },
     "execution_count": 13,
     "metadata": {},
     "output_type": "execute_result"
    },
    {
     "data": {
      "image/png": "[encoded data removed]",
      "text/plain": [
       "<Figure size 1000x700 with 1 Axes>"
      ]
     },
     "metadata": {},
     "output_type": "display_data"
    }
   ],
   "source": [
    "plt.figure(figsize=(10,7))\n",
    "plt.hist(statistics[3])"
   ]
  },
  {
   "cell_type": "code",
   "execution_count": 19,
   "metadata": {},
   "outputs": [
    {
     "data": {
      "text/plain": [
       "(array([21., 29., 27., 38., 29., 34., 12., 15., 23., 16., 11., 15.,  9.,\n",
       "        15.,  7.,  4.,  8.,  4.,  9.,  6.]),\n",
       " array([  5. ,  16.6,  28.2,  39.8,  51.4,  63. ,  74.6,  86.2,  97.8,\n",
       "        109.4, 121. , 132.6, 144.2, 155.8, 167.4, 179. , 190.6, 202.2,\n",
       "        213.8, 225.4, 237. ]),\n",
       " <BarContainer object of 20 artists>)"
      ]
     },
     "execution_count": 19,
     "metadata": {},
     "output_type": "execute_result"
    },
    {
     "data": {
      "image/png": "[encoded data removed]",
      "text/plain": [
       "<Figure size 640x480 with 1 Axes>"
      ]
     },
     "metadata": {},
     "output_type": "display_data"
    }
   ],
   "source": [
    "plt.hist([len(i) for i in test_playlists], 20)\n"
   ]
  },
  {
   "cell_type": "code",
   "execution_count": null,
   "metadata": {},
   "outputs": [],
   "source": []
  }
 ],
 "metadata": {
  "kernelspec": {
   "display_name": "Python 3",
   "language": "python",
   "name": "python3"
  },
  "language_info": {
   "codemirror_mode": {
    "name": "ipython",
    "version": 3
   },
   "file_extension": ".py",
   "mimetype": "text/x-python",
   "name": "python",
   "nbconvert_exporter": "python",
   "pygments_lexer": "ipython3",
   "version": "3.10.6"
  }
 },
 "nbformat": 4,
 "nbformat_minor": 4
}
