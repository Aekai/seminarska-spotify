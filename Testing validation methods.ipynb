{
 "cells": [
  {
   "cell_type": "code",
   "execution_count": 1,
   "metadata": {},
   "outputs": [],
   "source": [
    "import networkx as nx\n",
    "import pandas as pd\n",
    "import numpy as np\n",
    "import matplotlib.pyplot as plt\n",
    "import timeit\n",
    "import json\n",
    "import random\n",
    "import pickle\n",
    "import os\n",
    "import datetime\n",
    "from Sampling import sample_graph, get_modified_at_array"
   ]
  },
  {
   "cell_type": "code",
   "execution_count": 2,
   "metadata": {},
   "outputs": [],
   "source": [
    "def truncate_playlists(playlists):\n",
    "    new_playlists = list()\n",
    "    for playlist in playlists:\n",
    "        new_playlist = list({'name': f\"{i['artist_name']} - {i['track_name']}\", 'track_uri': i['track_uri'][len(\"spotify:\"):]} for i in playlist['tracks'])\n",
    "        new_playlists.append(new_playlist)\n",
    "        \n",
    "    return new_playlists"
   ]
  },
  {
   "cell_type": "code",
   "execution_count": 3,
   "metadata": {},
   "outputs": [],
   "source": [
    "#CHANGE THIS DEPENDING ON YOUR DATA LOCATION\n",
    "path = \"DATA/\""
   ]
  },
  {
   "cell_type": "code",
   "execution_count": 70,
   "metadata": {},
   "outputs": [
    {
     "name": "stdout",
     "output_type": "stream",
     "text": [
      "15/15; time elapsed: 0.0 min 20.1 sec\n",
      "Time elapsed: 0.0 min  20.131518400000004 sec\n",
      "n:326244, m:1007538; \n"
     ]
    }
   ],
   "source": [
    "G, test_playlists = sample_graph(verbose=True, path=path, testSplit=True)"
   ]
  },
  {
   "cell_type": "code",
   "execution_count": 71,
   "metadata": {},
   "outputs": [
    {
     "data": {
      "image/png": "[encoded data removed]",
      "text/plain": [
       "<Figure size 432x288 with 1 Axes>"
      ]
     },
     "metadata": {
      "needs_background": "light"
     },
     "output_type": "display_data"
    }
   ],
   "source": [
    "G_ser = get_modified_at_array(G,True)"
   ]
  },
  {
   "cell_type": "code",
   "execution_count": 72,
   "metadata": {},
   "outputs": [
    {
     "data": {
      "text/plain": [
       "3049"
      ]
     },
     "execution_count": 72,
     "metadata": {},
     "output_type": "execute_result"
    }
   ],
   "source": [
    "len(test_playlists)"
   ]
  },
  {
   "cell_type": "code",
   "execution_count": 73,
   "metadata": {},
   "outputs": [],
   "source": [
    "#list({'name': f\"{i['artist_name']} - {i['track_name']}\", 'track_uri': i['track_uri'][len(\"spotify:\"):]} for i in test_playlists[0]['tracks'])"
   ]
  },
  {
   "cell_type": "code",
   "execution_count": 74,
   "metadata": {},
   "outputs": [],
   "source": [
    "test_playlists = truncate_playlists(test_playlists)"
   ]
  },
  {
   "cell_type": "code",
   "execution_count": 75,
   "metadata": {},
   "outputs": [
    {
     "data": {
      "text/plain": [
       "[{'name': 'Jonas Brothers - Lovebug',\n",
       "  'track_uri': 'track:3Q0Ngf7Llu1KIteVHRfiXw'},\n",
       " {'name': 'Miley Cyrus - Fly On The Wall',\n",
       "  'track_uri': 'track:2f6s0AcBRBE0vIOU0NMdXw'},\n",
       " {'name': 'Jonas Brothers - S.O.S.',\n",
       "  'track_uri': 'track:1ZP0sKDoVM1NCFB65Esfm6'},\n",
       " {'name': 'Ashley Tisdale - Kiss the Girl',\n",
       "  'track_uri': 'track:6kkFjjMbO9EL1YxNt8BKm3'},\n",
       " {'name': 'Selena Gomez & The Scene - Love You Like A Love Song',\n",
       "  'track_uri': 'track:0laYHRpNTS6i8FXdupHkJ4'},\n",
       " {'name': 'High School Musical Cast - The Boys Are Back',\n",
       "  'track_uri': 'track:6YoYLN155MLavQcl3bHmvY'},\n",
       " {'name': \"Jonas Brothers - Burnin' Up\",\n",
       "  'track_uri': 'track:7yMnml7zdYl5LlDFZPm5Hd'},\n",
       " {'name': 'Miley Cyrus - 7 Things',\n",
       "  'track_uri': 'track:5ecZWU5uQOiCVSnPxBZNmT'},\n",
       " {'name': 'The Cheetah Girls - Dance Me If You Can',\n",
       "  'track_uri': 'track:4Fzd0BCMixW1jqpOLiBvRe'},\n",
       " {'name': 'Jesse McCartney - Beautiful Soul',\n",
       "  'track_uri': 'track:1HwpWwa6bnqqRhK8agG4RS'},\n",
       " {'name': 'Miley Cyrus - Hoedown Throwdown',\n",
       "  'track_uri': 'track:6a211WVTt0gpRJ3CpRnJV1'},\n",
       " {'name': 'Troy And Gabriella - Gotta Go My Own Way',\n",
       "  'track_uri': 'track:1QkBx7D64jHSalJEQLanwT'},\n",
       " {'name': \"CHAD - I Don't Dance\", 'track_uri': 'track:6p6TjiJHc1kJQt5dXzkdrs'},\n",
       " {'name': \"Victorious Cast - Best Friend's Brother\",\n",
       "  'track_uri': 'track:0VRh0HgB1RsgqjH7YswsJK'},\n",
       " {'name': 'Big Time Rush - Boyfriend',\n",
       "  'track_uri': 'track:1rKBOL9kJfX1Y4C3QaOvRH'},\n",
       " {'name': \"Sharpay Evans - Humuhumunukunukuapua'a\",\n",
       "  'track_uri': 'track:2E87kSsZd4oSfFOAXNGISJ'},\n",
       " {'name': 'Victorious Cast - Take A Hint',\n",
       "  'track_uri': 'track:3XHdk0KVdgO2sRH5dqibFB'},\n",
       " {'name': 'Troy - Bet On It', 'track_uri': 'track:4EnwhEyuVrC1CgvSur5YL4'},\n",
       " {'name': 'Selena Gomez & The Scene - Naturally',\n",
       "  'track_uri': 'track:1YaVmBh7EAeR54FIjuFcb5'},\n",
       " {'name': \"B5 - Get'Cha Head In The Game\",\n",
       "  'track_uri': 'track:4HevsNZM3BVNBqZTAIXlA2'},\n",
       " {'name': 'Bella Thorne - Watch Me',\n",
       "  'track_uri': 'track:1N5WDRR1rVih5YFzIc59Mx'},\n",
       " {'name': 'Demi Lovato - La La Land',\n",
       "  'track_uri': 'track:0M9VqYG0wVun054JIdwFO8'},\n",
       " {'name': 'Selena Gomez & The Scene - Round & Round',\n",
       "  'track_uri': 'track:5RhxBpoCwX2vLBcSJzYa5j'},\n",
       " {'name': 'Bridgit Mendler - Ready or Not',\n",
       "  'track_uri': 'track:06ngjaiEea4jvIcAIcxcGr'},\n",
       " {'name': 'Selena Gomez - Magic', 'track_uri': 'track:10xcIQQEJSEIOgG1HvS3t9'},\n",
       " {'name': 'Troy - You Are The Music In Me - From \"High School Musical 2\"/Soundtrack Version',\n",
       "  'track_uri': 'track:6TRp2628QKH3kY6KrCnjqp'},\n",
       " {'name': 'Corbin Bleu - Push It to the Limit',\n",
       "  'track_uri': 'track:3K01q0jtSNHeqx5gs97HH2'},\n",
       " {'name': 'Miley Cyrus - The Climb',\n",
       "  'track_uri': 'track:5x5JM1BSB6vollcIzDocqT'},\n",
       " {'name': \"Demi Lovato - Don't Forget\",\n",
       "  'track_uri': 'track:4He7bzKBaiu7CRz4wGkZzx'},\n",
       " {'name': 'Selena Gomez - Cruella De Vil',\n",
       "  'track_uri': 'track:0PQ8MsAxETdEW3LigpDujI'},\n",
       " {'name': 'Big Time Rush - Til I Forget About You',\n",
       "  'track_uri': 'track:4mGJcOKQhmISIWgQ3xCiLB'},\n",
       " {'name': 'Aly & AJ - Do You Believe In Magic',\n",
       "  'track_uri': 'track:3uz0oJpuhXnQ1KwciBbpNR'},\n",
       " {'name': 'Cast Of Camp Rock - We Rock',\n",
       "  'track_uri': 'track:5ifL52BDfPFd8zLMA1DOiI'},\n",
       " {'name': 'Victorious Cast - Freak The Freak Out',\n",
       "  'track_uri': 'track:5q4uMmYpzS0zduoBoSPKsU'},\n",
       " {'name': 'Miranda Cosgrove - Leave It All To Me (Theme from iCarly)',\n",
       "  'track_uri': 'track:4jikjXjA4NYaOyWFVqnwEf'},\n",
       " {'name': 'Victorious Cast - Give It Up',\n",
       "  'track_uri': 'track:4sqQci4nqA37mA5tcHJnfo'},\n",
       " {'name': 'Big Time Rush - City Is Ours',\n",
       "  'track_uri': 'track:2UI9qShtz4xwB4BvzVAAiM'},\n",
       " {'name': 'Sharpay Evans - You Are The Music In Me',\n",
       "  'track_uri': 'track:3waY7uu8cniaQw5Auf0MOp'},\n",
       " {'name': 'Selena Gomez - One and the Same - From \"Princess Protection Program\"',\n",
       "  'track_uri': 'track:1QkJBQnCv81ef7gyWMDL3Q'},\n",
       " {'name': 'Jonas Brothers - Kids Of The Future',\n",
       "  'track_uri': 'track:0jMY5JC9q6KLALy0dvY91Z'},\n",
       " {'name': 'Demi Lovato - Who Will I Be?',\n",
       "  'track_uri': 'track:57SoN3xnEyczFNXJP6roih'},\n",
       " {'name': 'Miley Cyrus - Butterfly Fly Away',\n",
       "  'track_uri': 'track:2ZTCl6wQMDSMfY4s8GHZdj'},\n",
       " {'name': 'China Anne McClain - Calling All the Monsters',\n",
       "  'track_uri': 'track:0hnHoQbEQOL4YUZ4SO6xbe'},\n",
       " {'name': 'Jonas Brothers - Year 3000',\n",
       "  'track_uri': 'track:1TfAhjzRBWzYZ8IdUV3igl'},\n",
       " {'name': 'High School Musical Cast - Stick To The Status Quo',\n",
       "  'track_uri': 'track:5xmaFH9oMYg8SMMTndypEh'},\n",
       " {'name': \"High School Musical Cast - We're All In This Together (Graduation Mix)\",\n",
       "  'track_uri': 'track:5mGI9cWHzNHGZG8RhzorWT'},\n",
       " {'name': 'Hannah Montana - One In A Million',\n",
       "  'track_uri': 'track:3gkSe8bayWXWwwhWLOF0f9'},\n",
       " {'name': 'Hannah Montana - I Wanna Know You',\n",
       "  'track_uri': 'track:7FEwZ6YpzrzB3tYr9jtfL7'},\n",
       " {'name': 'Christopher Wilde - Starstruck',\n",
       "  'track_uri': 'track:4jzea0vyKwayQSb5HBPB36'},\n",
       " {'name': 'Miley Cyrus - See You Again',\n",
       "  'track_uri': 'track:3utIAb67sOu0QHxBE88P1M'},\n",
       " {'name': 'Aly & AJ - Potential Breakup Song',\n",
       "  'track_uri': 'track:11dxtPJKR4E0wlSr0A0t47'},\n",
       " {'name': \"Hannah Montana - You'll Always Find Your Way Back Home\",\n",
       "  'track_uri': 'track:12wSL3tGk3MtbDEhfG7xy3'},\n",
       " {'name': 'Hannah Montana - If We Were A Movie',\n",
       "  'track_uri': 'track:6XqpH9bHj7ODY1z4xI9n7E'},\n",
       " {'name': 'Miley Cyrus - G.N.O. Girls Night Out',\n",
       "  'track_uri': 'track:6YufqZwFe2U4mxCy3B1xsC'},\n",
       " {'name': 'Hannah Montana - I Got Nerve - From \"Hannah Montana\"/Soundtrack Version',\n",
       "  'track_uri': 'track:3bSq5OpEWmLK1o8F7saR2F'},\n",
       " {'name': 'Hannah Montana - We Got The Party',\n",
       "  'track_uri': 'track:50MQO0AAOizDBOErF0rqUN'},\n",
       " {'name': \"Hannah Montana - Let's Get Crazy\",\n",
       "  'track_uri': 'track:5J0d605KKCz4x8zbUKTaPe'},\n",
       " {'name': 'Nick Jonas - Introducing Me',\n",
       "  'track_uri': 'track:74tQaH4CxM5Rs9BzerEbHr'},\n",
       " {'name': \"Victorious Cast - Beggin' On Your Knees\",\n",
       "  'track_uri': 'track:2jXxUK7a6zVPStFSCZqe4G'},\n",
       " {'name': \"Selena Gomez - Tell Me Something I Don't Know\",\n",
       "  'track_uri': 'track:08kCck8nAJJEmxg0gXaJot'},\n",
       " {'name': 'Hannah Montana - This Is The Life - From \"Hannah Montana\"/Soundtrack Version',\n",
       "  'track_uri': 'track:5qiWQq9tPjMDNpd1knSoZ0'},\n",
       " {'name': 'The Pussycat Dolls - When I Grow Up',\n",
       "  'track_uri': 'track:0dQQWHlXvuw4UyHcAvhfhB'},\n",
       " {'name': \"Victorious Cast - Best Friend's Brother\",\n",
       "  'track_uri': 'track:0VRh0HgB1RsgqjH7YswsJK'},\n",
       " {'name': 'Selena Gomez & The Scene - Who Says',\n",
       "  'track_uri': 'track:3TcL0dyCMyr0kyTTc4NLgI'},\n",
       " {'name': 'Joe Jonas - Gotta Find You',\n",
       "  'track_uri': 'track:0lik84UL16pPOevmhQxMYu'},\n",
       " {'name': 'Troy - You Are The Music In Me - From \"High School Musical 2\"/Soundtrack Version',\n",
       "  'track_uri': 'track:6TRp2628QKH3kY6KrCnjqp'},\n",
       " {'name': \"Raven-Symoné - That's So Raven (Theme Song)\",\n",
       "  'track_uri': 'track:5Plb8xps8VZRF2sXlrPi3Q'},\n",
       " {'name': 'Corbin Bleu - Push It to the Limit',\n",
       "  'track_uri': 'track:3K01q0jtSNHeqx5gs97HH2'},\n",
       " {'name': \"Hannah Montana - Nobody's Perfect\",\n",
       "  'track_uri': 'track:1GBknQ67DCfKTPms1dw9EW'},\n",
       " {'name': 'Hannah Montana - Who Said - From \"Hannah Montana\"/Soundtrack Version',\n",
       "  'track_uri': 'track:7jg5JfizOZSEipnTR6d4Nt'},\n",
       " {'name': 'Zendaya - Something To Dance For',\n",
       "  'track_uri': 'track:0WcBvAA59kSYFHeqy0fpZp'},\n",
       " {'name': \"The Cast Of 'Lemonade Mouth' - Determinate\",\n",
       "  'track_uri': 'track:4o6iTWnd0uhuUIRxdWvzP5'},\n",
       " {'name': \"Naomi Scott - She's So Gone\",\n",
       "  'track_uri': 'track:4DTrKnvkHtwQN6kBu4XXIF'},\n",
       " {'name': 'Selena Gomez - Everything Is Not As It Seems - Series Theme Song',\n",
       "  'track_uri': 'track:5U4wYRHrCRxRP6iQfM824C'},\n",
       " {'name': 'Hannah Montana - He Could Be the One',\n",
       "  'track_uri': 'track:07HPV6hzecJmMJwsIX8YVU'},\n",
       " {'name': 'Bella Thorne - TTYLXOX',\n",
       "  'track_uri': 'track:1nIDYHvLaZnD5lEf66SH80'},\n",
       " {'name': 'Demi Lovato - This Is Me',\n",
       "  'track_uri': 'track:5c1sfI6wIQEsSUw0xrkFdl'},\n",
       " {'name': \"Demi Lovato - It's On\",\n",
       "  'track_uri': 'track:5eEmVNuqo4oKDh9MDeCAmt'},\n",
       " {'name': 'Selena Gomez & The Scene - A Year Without Rain',\n",
       "  'track_uri': 'track:0lYS1tJg3r6ATe9bRPB0Hu'},\n",
       " {'name': 'High School Musical Cast - What Time Is It',\n",
       "  'track_uri': 'track:6NqfslFfCCOyBQ0Xw8kN8E'},\n",
       " {'name': 'Sharpay Evans - Fabulous',\n",
       "  'track_uri': 'track:6jyXQ8HGI7ikECGA0670uo'},\n",
       " {'name': 'High School Musical Cast - Breaking Free',\n",
       "  'track_uri': 'track:3AWSwChgStOColFkXbwRnP'},\n",
       " {'name': 'Hannah Montana - The Best of Both Worlds - From \"Hannah Montana\"/Soundtrack Version',\n",
       "  'track_uri': 'track:6Z0F3Mqj7tq1CBZo5qMlUg'},\n",
       " {'name': 'High School Musical Cast - Work This Out',\n",
       "  'track_uri': 'track:4k9EAtZdZrzPlBUsFncXCZ'},\n",
       " {'name': 'High School Musical Cast - Start Of Something New',\n",
       "  'track_uri': 'track:3KtzpxgZZzTPgNfkObCndB'},\n",
       " {'name': 'Bridgit Mendler - Somebody',\n",
       "  'track_uri': 'track:3496JZUnDsR7CG0v02TzE9'},\n",
       " {'name': 'Aly & AJ - Like Whoa', 'track_uri': 'track:44e84JcEUfOs9cNGu8nwU5'},\n",
       " {'name': \"Victorious Cast - You're The Reason\",\n",
       "  'track_uri': 'track:4k4AibHwZjJ41bXu7ToVSP'},\n",
       " {'name': 'Victorious Cast - Make It Shine (Victorious Theme)',\n",
       "  'track_uri': 'track:4M7PM1oAb4FaYIu5wiVnCJ'},\n",
       " {'name': 'Austin Moon - Cruisin\\' for a Bruisin\\' - From \"Teen Beach Movie\"',\n",
       "  'track_uri': 'track:5e3UWcbvTaF5CJWu81MqlQ'},\n",
       " {'name': 'Hannah Montana - Ordinary Girl',\n",
       "  'track_uri': 'track:2kIq7Oq6YNfdUuTrmPC4w1'},\n",
       " {'name': 'High School Musical Cast - A Night To Remember',\n",
       "  'track_uri': 'track:3RuXekS5criwismaaj87iF'},\n",
       " {'name': 'Grace Phipps - Falling for Ya',\n",
       "  'track_uri': 'track:5hK2Ks25jW6aMmUAHpAN3F'},\n",
       " {'name': 'Zendaya - Something To Dance For / TTYLXOX Mash-Up',\n",
       "  'track_uri': 'track:1EZGDhT5ZobdPNYVS7W1oe'},\n",
       " {'name': 'Christopher Wilde - サムシング・アバウト・ザ・サンシャイン',\n",
       "  'track_uri': 'track:3CDQ0VITy07A8NDg6CCLf0'},\n",
       " {'name': 'Jonas Brothers - Play My Music',\n",
       "  'track_uri': 'track:0FVduJ39BK7T80wq617H0R'},\n",
       " {'name': 'Raini Rodriguez - Living Your Dreams (from \"Beverly Hills Chihuahua 3: Viva La Fiesta!\")',\n",
       "  'track_uri': 'track:72ho9a0myJr06IIpNg8jWM'},\n",
       " {'name': 'Miranda Cosgrove - About You Now',\n",
       "  'track_uri': 'track:6TlK9ytYCtEC87jQzGJdGO'},\n",
       " {'name': 'High School Musical Cast - Bop To The Top',\n",
       "  'track_uri': 'track:0IzIW2MSFdllQ7zFLbv1uS'}]"
      ]
     },
     "execution_count": 75,
     "metadata": {},
     "output_type": "execute_result"
    }
   ],
   "source": [
    "test_playlists[17]"
   ]
  },
  {
   "cell_type": "markdown",
   "metadata": {},
   "source": [
    "#### Random Walk method - proof of concept"
   ]
  },
  {
   "cell_type": "code",
   "execution_count": 4,
   "metadata": {},
   "outputs": [],
   "source": [
    "from Algorithms import randWalkReccs"
   ]
  },
  {
   "cell_type": "code",
   "execution_count": 95,
   "metadata": {},
   "outputs": [],
   "source": [
    "pd = random.sample(test_playlists[0],2)\n",
    "personalization_vect = [i['track_uri'] for i in pd]"
   ]
  },
  {
   "cell_type": "code",
   "execution_count": 96,
   "metadata": {},
   "outputs": [
    {
     "data": {
      "text/plain": [
       "['track:5xbrhx2tMMcN68IT3cJbhS', 'track:4bJX21zvsGJELwVNf902qk']"
      ]
     },
     "execution_count": 96,
     "metadata": {},
     "output_type": "execute_result"
    }
   ],
   "source": [
    "personalization_vect"
   ]
  },
  {
   "cell_type": "code",
   "execution_count": 97,
   "metadata": {},
   "outputs": [
    {
     "name": "stdout",
     "output_type": "stream",
     "text": [
      "Time elapsed (minutes): 0.0007866933333332326\n"
     ]
    }
   ],
   "source": [
    "start = timeit.default_timer()\n",
    "num_iterations = 100*max(len(personalization_vect),10)\n",
    "walk_steps = 12\n",
    "results = randWalkReccs(G, num_iterations, walk_steps, personalization=personalization_vect)\n",
    "stop = timeit.default_timer()\n",
    "print('Time elapsed (minutes):', (stop - start)/60)  "
   ]
  },
  {
   "cell_type": "code",
   "execution_count": 98,
   "metadata": {},
   "outputs": [
    {
     "data": {
      "text/plain": [
       "3339"
      ]
     },
     "execution_count": 98,
     "metadata": {},
     "output_type": "execute_result"
    }
   ],
   "source": [
    "rec_songs = filter(lambda x: str.startswith(str(x[0]), \"track:\"), results.items())\n",
    "reccs = sorted(rec_songs, key=lambda x: x[1], reverse=True)\n",
    "len(reccs)"
   ]
  },
  {
   "cell_type": "code",
   "execution_count": 99,
   "metadata": {},
   "outputs": [],
   "source": [
    "predicted_playlist = [{'name': f\"{G.nodes[reccs[i][0]]['artist_name']} - {G.nodes[reccs[i][0]]['track_name']}\",'track_uri':reccs[i][0]} for i in range(len(test_playlists[0])-2)]"
   ]
  },
  {
   "cell_type": "code",
   "execution_count": 100,
   "metadata": {},
   "outputs": [
    {
     "data": {
      "text/plain": [
       "0.09815950920245399"
      ]
     },
     "execution_count": 100,
     "metadata": {},
     "output_type": "execute_result"
    }
   ],
   "source": [
    "len(set(p['track_uri'] for p in predicted_playlist).intersection(set(p['track_uri'] for p in test_playlists[0])))/len(test_playlists[0])"
   ]
  },
  {
   "cell_type": "markdown",
   "metadata": {},
   "source": [
    "#### Actual test run"
   ]
  },
  {
   "cell_type": "code",
   "execution_count": 5,
   "metadata": {},
   "outputs": [
    {
     "name": "stdout",
     "output_type": "stream",
     "text": [
      "15/15; time elapsed: 0.0 min 18.1 sec\n",
      "Time elapsed: 0.0 min  18.092088699999998 sec\n",
      "n:322433, m:997846; \n"
     ]
    }
   ],
   "source": [
    "G, test_playlists = sample_graph(verbose=True, path=path, testSplit=True)\n",
    "test_playlists = truncate_playlists(test_playlists)"
   ]
  },
  {
   "cell_type": "code",
   "execution_count": 13,
   "metadata": {},
   "outputs": [],
   "source": [
    "def evaluation_run(G,test_data,generator_function, different_starts = 1,persvec_lengths=4,walksteps=12,verbose=False):\n",
    "    timer_start = timeit.default_timer()\n",
    "    exceptions = 0\n",
    "    global_counter = 0\n",
    "    r_precisions = dict()\n",
    "    \n",
    "    assert min([len(i) for i in test_data]) > persvec_lengths, \"This will be a problem. Some playlists are shorter than the personalization vector.\"\n",
    "    \n",
    "    for i in range(1,persvec_lengths+1):\n",
    "        r_precisions[i] = list()\n",
    "    \n",
    "    for test_playlist in test_data:\n",
    "        for persvec_length in range(1,persvec_lengths+1):\n",
    "            for _ in range(different_starts):\n",
    "                persvec = [track['track_uri'] for track in random.sample(test_playlist,persvec_length)]\n",
    "                try:\n",
    "                    res = generator_function(G, 100*max(len(persvec),10), walksteps, personalization=persvec)\n",
    "\n",
    "                    rec_songs = filter(lambda x: str.startswith(str(x[0]), \"track:\"), res.items())\n",
    "                    reccs = sorted(rec_songs, key=lambda x: x[1], reverse=True)\n",
    "\n",
    "                    predicted_playlist = [reccs[i][0] for i in range(len(test_playlist)-2)]\n",
    "                    \n",
    "                    r_precision = len(set(predicted_playlist).intersection(set(p['track_uri'] for p in test_playlist)))/len(test_playlist)\n",
    "                    r_precisions[persvec_length].append(r_precision)\n",
    "                    \n",
    "                    if verbose:\n",
    "                        time_elapsed = timeit.default_timer() - timer_start\n",
    "                        mins_elapsed = (time_elapsed)//60\n",
    "                        secs_elapsed = time_elapsed % 60\n",
    "                        print(f\"{global_counter+exceptions+1}/{len(test_data)*persvec_lengths*different_starts}; time elapsed: {mins_elapsed:02.1f} min {secs_elapsed:02.1f} sec\", end=\"\\r\")\n",
    "                    \n",
    "                    global_counter+=1\n",
    "                except:\n",
    "                    exceptions+=1\n",
    "                    \n",
    "    print(f\"Number of exceptions (should be 0 in complete graph): {exceptions}\")\n",
    "    \n",
    "    return r_precisions\n",
    "    "
   ]
  },
  {
   "cell_type": "code",
   "execution_count": 14,
   "metadata": {},
   "outputs": [
    {
     "name": "stdout",
     "output_type": "stream",
     "text": [
      "Number of exceptions (should be 0 in complete graph): 3425\n"
     ]
    }
   ],
   "source": [
    "statistics = evaluation_run(G, test_playlists, randWalkReccs, persvec_lengths=4,verbose=True)"
   ]
  },
  {
   "cell_type": "code",
   "execution_count": 15,
   "metadata": {},
   "outputs": [
    {
     "data": {
      "text/plain": [
       "[{'length of PV': 1,\n",
       "  'mean': 0.11320771280968822,\n",
       "  'max': 0.7272727272727273,\n",
       "  'std': 0.08986470372053537},\n",
       " {'length of PV': 2,\n",
       "  'mean': 0.1465774902881514,\n",
       "  'max': 0.8484848484848485,\n",
       "  'std': 0.0954436418211173},\n",
       " {'length of PV': 3,\n",
       "  'mean': 0.17275412224746184,\n",
       "  'max': 0.8484848484848485,\n",
       "  'std': 0.1014452959735157},\n",
       " {'length of PV': 4,\n",
       "  'mean': 0.19653167646853908,\n",
       "  'max': 0.8484848484848485,\n",
       "  'std': 0.10694077328345943}]"
      ]
     },
     "execution_count": 15,
     "metadata": {},
     "output_type": "execute_result"
    }
   ],
   "source": [
    "[{'length of PV':t,'mean': np.mean(statistics[t]),'max': max(statistics[t]), 'std': np.std(statistics[t])} for t in statistics]"
   ]
  },
  {
   "cell_type": "code",
   "execution_count": 16,
   "metadata": {},
   "outputs": [
    {
     "data": {
      "text/plain": [
       "(array([582., 705., 441., 190.,  72.,  26.,  14.,   2.,   1.,   1.]),\n",
       " array([0.0209205 , 0.10367694, 0.18643337, 0.26918981, 0.35194624,\n",
       "        0.43470268, 0.51745911, 0.60021554, 0.68297198, 0.76572841,\n",
       "        0.84848485]),\n",
       " <a list of 10 Patch objects>)"
      ]
     },
     "execution_count": 16,
     "metadata": {},
     "output_type": "execute_result"
    },
    {
     "data": {
      "image/png": "[encoded data removed]",
      "text/plain": [
       "<Figure size 720x504 with 1 Axes>"
      ]
     },
     "metadata": {
      "needs_background": "light"
     },
     "output_type": "display_data"
    }
   ],
   "source": [
    "plt.figure(figsize=(10,7))\n",
    "plt.hist(statistics[3])"
   ]
  },
  {
   "cell_type": "code",
   "execution_count": 19,
   "metadata": {},
   "outputs": [
    {
     "data": {
      "text/plain": [
       "(array([546., 611., 517., 374., 289., 227., 188., 116., 115.,  68.]),\n",
       " array([  5. ,  29.5,  54. ,  78.5, 103. , 127.5, 152. , 176.5, 201. ,\n",
       "        225.5, 250. ]),\n",
       " <a list of 10 Patch objects>)"
      ]
     },
     "execution_count": 19,
     "metadata": {},
     "output_type": "execute_result"
    },
    {
     "data": {
      "image/png": "[encoded data removed]",
      "text/plain": [
       "<Figure size 432x288 with 1 Axes>"
      ]
     },
     "metadata": {
      "needs_background": "light"
     },
     "output_type": "display_data"
    }
   ],
   "source": [
    "plt.hist([len(i) for i in test_playlists])\n"
   ]
  },
  {
   "cell_type": "code",
   "execution_count": null,
   "metadata": {},
   "outputs": [],
   "source": []
  }
 ],
 "metadata": {
  "kernelspec": {
   "display_name": "Python 3",
   "language": "python",
   "name": "python3"
  },
  "language_info": {
   "codemirror_mode": {
    "name": "ipython",
    "version": 3
   },
   "file_extension": ".py",
   "mimetype": "text/x-python",
   "name": "python",
   "nbconvert_exporter": "python",
   "pygments_lexer": "ipython3",
   "version": "3.8.3"
  }
 },
 "nbformat": 4,
 "nbformat_minor": 4
}
